{
 "cells": [
  {
   "cell_type": "markdown",
   "metadata": {},
   "source": [
    "# Machine Learning II"
   ]
  },
  {
   "cell_type": "markdown",
   "metadata": {},
   "source": [
    "### Autores: Verónica Gómez, Carlos Grande y Pablo Olmos."
   ]
  },
  {
   "cell_type": "markdown",
   "metadata": {},
   "source": [
    "Planteamiento de la metodología. Trabajaremos con la base de datos de Casas de los anteriores trimestres. Nuestro objetivo fundamental será implementar los conocimientos adquiridos en la materia de ML_II e intentar mejorar los resultados de los modelos anteriores si fuera posible.\n",
    "Trabajaremos con Redes Neuronales en la Librería Pytorch de Python y partiremos de la misma partición Control, Validación y Test que en el trimestre anterior."
   ]
  },
  {
   "cell_type": "markdown",
   "metadata": {},
   "source": [
    "#  índice global\n",
    "### 1.- Red Binaria\n",
    "### 2.- Red Clasificador Múltiple\n",
    "### 3.- CNN\n",
    "### 4.- SMOTE\n",
    "### 5.- Problema sintético multiclase desequilibrado\n",
    "### \n",
    "### "
   ]
  },
  {
   "cell_type": "markdown",
   "metadata": {},
   "source": [
    "## 1.-Red Binaria "
   ]
  },
  {
   "cell_type": "markdown",
   "metadata": {},
   "source": [
    "Objetivo, Binario 1/0 definido por el percentil 75 de la variable Price de la Base de datos dada que determina aquellas viviendas de precio más elevado."
   ]
  },
  {
   "cell_type": "markdown",
   "metadata": {},
   "source": [
    "###  índice\n",
    "##### 1.1.- Importamos la BBDD\n",
    "##### 1.2.- EDA html\n",
    "##### 1.3.- Tratamiento de Variables. Limpieza y preparación\n",
    "##### 1.4.- Split Train, Validation, Test\n",
    "##### 1.5.- Transformación de la Escala de los Datos\n",
    "##### 1.6.- Definición de los parámetros de aprendizaje de la Red Neuronal\n",
    "##### 1.7.- Validaciones y Conclusiones\n",
    "##### 1.8.- Tree after Net. Modelos Subrogados Global\n",
    "##### \n",
    "##### "
   ]
  },
  {
   "cell_type": "markdown",
   "metadata": {},
   "source": [
    "#### 1.1.- Importamos la BBDD\n",
    "Seleccionamos los ficheros generados de forma alaeatoria en el trimestre anterior."
   ]
  },
  {
   "cell_type": "code",
   "execution_count": 341,
   "metadata": {},
   "outputs": [],
   "source": [
    "import numpy as np\n",
    "import pandas as pd\n",
    "import seaborn as sns\n",
    "from tqdm.notebook import tqdm\n",
    "import matplotlib.pyplot as plt\n",
    "import torch\n",
    "import torch.nn as nn\n",
    "import torch.optim as optim\n",
    "from torch.utils.data import Dataset, DataLoader, WeightedRandomSampler\n",
    "from sklearn.preprocessing import OrdinalEncoder\n",
    "from sklearn.preprocessing import StandardScaler \n",
    "from sklearn.preprocessing import MinMaxScaler    \n",
    "from sklearn.model_selection import train_test_split\n",
    "from sklearn.metrics import confusion_matrix, classification_report\n",
    "import warnings\n",
    "warnings.filterwarnings('ignore')\n",
    "import sweetviz as sv\n",
    "from ipywidgets import interact, interactive, fixed, interact_manual\n",
    "import ipywidgets as widgets\n",
    "#Import the DecisionTreeClassifier\n",
    "from sklearn.tree import DecisionTreeClassifier, plot_tree"
   ]
  },
  {
   "cell_type": "code",
   "execution_count": 342,
   "metadata": {},
   "outputs": [
    {
     "data": {
      "text/html": [
       "<div>\n",
       "<style scoped>\n",
       "    .dataframe tbody tr th:only-of-type {\n",
       "        vertical-align: middle;\n",
       "    }\n",
       "\n",
       "    .dataframe tbody tr th {\n",
       "        vertical-align: top;\n",
       "    }\n",
       "\n",
       "    .dataframe thead th {\n",
       "        text-align: right;\n",
       "    }\n",
       "</style>\n",
       "<table border=\"1\" class=\"dataframe\">\n",
       "  <thead>\n",
       "    <tr style=\"text-align: right;\">\n",
       "      <th></th>\n",
       "      <th>Unnamed: 0</th>\n",
       "      <th>X.1</th>\n",
       "      <th>X</th>\n",
       "      <th>Y</th>\n",
       "      <th>id</th>\n",
       "      <th>date</th>\n",
       "      <th>price</th>\n",
       "      <th>bedrooms</th>\n",
       "      <th>bathrooms</th>\n",
       "      <th>sqft_living</th>\n",
       "      <th>...</th>\n",
       "      <th>yr_built</th>\n",
       "      <th>yr_renovated</th>\n",
       "      <th>zipcode</th>\n",
       "      <th>lat</th>\n",
       "      <th>long</th>\n",
       "      <th>sqft_living15</th>\n",
       "      <th>sqft_lot15</th>\n",
       "      <th>cluster</th>\n",
       "      <th>hclust</th>\n",
       "      <th>Cluster_final</th>\n",
       "    </tr>\n",
       "  </thead>\n",
       "  <tbody>\n",
       "    <tr>\n",
       "      <th>0</th>\n",
       "      <td>1</td>\n",
       "      <td>1</td>\n",
       "      <td>3.762164</td>\n",
       "      <td>22.445021</td>\n",
       "      <td>7129300520</td>\n",
       "      <td>10/13/2014</td>\n",
       "      <td>221900.0</td>\n",
       "      <td>3</td>\n",
       "      <td>1.00</td>\n",
       "      <td>1180</td>\n",
       "      <td>...</td>\n",
       "      <td>1955</td>\n",
       "      <td>0</td>\n",
       "      <td>98178</td>\n",
       "      <td>47.5112</td>\n",
       "      <td>-122.257</td>\n",
       "      <td>1340</td>\n",
       "      <td>5650</td>\n",
       "      <td>1</td>\n",
       "      <td>1</td>\n",
       "      <td>low</td>\n",
       "    </tr>\n",
       "    <tr>\n",
       "      <th>1</th>\n",
       "      <td>2</td>\n",
       "      <td>2</td>\n",
       "      <td>-24.035975</td>\n",
       "      <td>9.766915</td>\n",
       "      <td>6414100192</td>\n",
       "      <td>12/9/2014</td>\n",
       "      <td>538000.0</td>\n",
       "      <td>3</td>\n",
       "      <td>2.25</td>\n",
       "      <td>2570</td>\n",
       "      <td>...</td>\n",
       "      <td>1951</td>\n",
       "      <td>1991</td>\n",
       "      <td>98125</td>\n",
       "      <td>47.7210</td>\n",
       "      <td>-122.319</td>\n",
       "      <td>1690</td>\n",
       "      <td>7639</td>\n",
       "      <td>1</td>\n",
       "      <td>2</td>\n",
       "      <td>top</td>\n",
       "    </tr>\n",
       "    <tr>\n",
       "      <th>2</th>\n",
       "      <td>3</td>\n",
       "      <td>3</td>\n",
       "      <td>5.217015</td>\n",
       "      <td>8.102678</td>\n",
       "      <td>5631500400</td>\n",
       "      <td>2/25/2015</td>\n",
       "      <td>180000.0</td>\n",
       "      <td>2</td>\n",
       "      <td>1.00</td>\n",
       "      <td>770</td>\n",
       "      <td>...</td>\n",
       "      <td>1933</td>\n",
       "      <td>0</td>\n",
       "      <td>98028</td>\n",
       "      <td>47.7379</td>\n",
       "      <td>-122.233</td>\n",
       "      <td>2720</td>\n",
       "      <td>8062</td>\n",
       "      <td>1</td>\n",
       "      <td>3</td>\n",
       "      <td>med</td>\n",
       "    </tr>\n",
       "    <tr>\n",
       "      <th>3</th>\n",
       "      <td>4</td>\n",
       "      <td>4</td>\n",
       "      <td>7.588730</td>\n",
       "      <td>18.967730</td>\n",
       "      <td>2487200875</td>\n",
       "      <td>12/9/2014</td>\n",
       "      <td>604000.0</td>\n",
       "      <td>4</td>\n",
       "      <td>3.00</td>\n",
       "      <td>1960</td>\n",
       "      <td>...</td>\n",
       "      <td>1965</td>\n",
       "      <td>0</td>\n",
       "      <td>98136</td>\n",
       "      <td>47.5208</td>\n",
       "      <td>-122.393</td>\n",
       "      <td>1360</td>\n",
       "      <td>5000</td>\n",
       "      <td>2</td>\n",
       "      <td>1</td>\n",
       "      <td>low</td>\n",
       "    </tr>\n",
       "    <tr>\n",
       "      <th>4</th>\n",
       "      <td>5</td>\n",
       "      <td>5</td>\n",
       "      <td>0.666181</td>\n",
       "      <td>3.939548</td>\n",
       "      <td>1954400510</td>\n",
       "      <td>2/18/2015</td>\n",
       "      <td>510000.0</td>\n",
       "      <td>3</td>\n",
       "      <td>2.00</td>\n",
       "      <td>1680</td>\n",
       "      <td>...</td>\n",
       "      <td>1987</td>\n",
       "      <td>0</td>\n",
       "      <td>98074</td>\n",
       "      <td>47.6168</td>\n",
       "      <td>-122.045</td>\n",
       "      <td>1800</td>\n",
       "      <td>7503</td>\n",
       "      <td>3</td>\n",
       "      <td>3</td>\n",
       "      <td>med</td>\n",
       "    </tr>\n",
       "  </tbody>\n",
       "</table>\n",
       "<p>5 rows × 28 columns</p>\n",
       "</div>"
      ],
      "text/plain": [
       "   Unnamed: 0  X.1          X          Y          id        date     price  \\\n",
       "0           1    1   3.762164  22.445021  7129300520  10/13/2014  221900.0   \n",
       "1           2    2 -24.035975   9.766915  6414100192   12/9/2014  538000.0   \n",
       "2           3    3   5.217015   8.102678  5631500400   2/25/2015  180000.0   \n",
       "3           4    4   7.588730  18.967730  2487200875   12/9/2014  604000.0   \n",
       "4           5    5   0.666181   3.939548  1954400510   2/18/2015  510000.0   \n",
       "\n",
       "   bedrooms  bathrooms  sqft_living  ...  yr_built  yr_renovated  zipcode  \\\n",
       "0         3       1.00         1180  ...      1955             0    98178   \n",
       "1         3       2.25         2570  ...      1951          1991    98125   \n",
       "2         2       1.00          770  ...      1933             0    98028   \n",
       "3         4       3.00         1960  ...      1965             0    98136   \n",
       "4         3       2.00         1680  ...      1987             0    98074   \n",
       "\n",
       "       lat     long  sqft_living15  sqft_lot15  cluster  hclust  Cluster_final  \n",
       "0  47.5112 -122.257           1340        5650        1       1            low  \n",
       "1  47.7210 -122.319           1690        7639        1       2            top  \n",
       "2  47.7379 -122.233           2720        8062        1       3            med  \n",
       "3  47.5208 -122.393           1360        5000        2       1            low  \n",
       "4  47.6168 -122.045           1800        7503        3       3            med  \n",
       "\n",
       "[5 rows x 28 columns]"
      ]
     },
     "execution_count": 342,
     "metadata": {},
     "output_type": "execute_result"
    }
   ],
   "source": [
    "# load the dataset\n",
    "df = pd.read_csv('cluster.txt', sep=\",\")\n",
    "df.head()"
   ]
  },
  {
   "cell_type": "markdown",
   "metadata": {},
   "source": []
  },
  {
   "cell_type": "code",
   "execution_count": 343,
   "metadata": {},
   "outputs": [],
   "source": [
    "y= np.where(df['price']>=645000, 1, 0)"
   ]
  },
  {
   "cell_type": "markdown",
   "metadata": {},
   "source": [
    "#### 1.2.- EDA html"
   ]
  },
  {
   "cell_type": "code",
   "execution_count": 235,
   "metadata": {},
   "outputs": [
    {
     "name": "stderr",
     "output_type": "stream",
     "text": [
      ":FEATURES DONE:                    |                     | [  0%]   00:39  -> (00:00 left)\n",
      ":PAIRWISE DONE:                    |█████████████████████| [100%]   00:07  -> (00:00 left)\n"
     ]
    },
    {
     "name": "stdout",
     "output_type": "stream",
     "text": [
      "Creating Associations graph... DONE!\n"
     ]
    }
   ],
   "source": [
    "#analyzing the dataset\n",
    "advert_report = sv.analyze(df)\n",
    "#display the report\n",
    "advert_report.show_html('Advertising.html')"
   ]
  },
  {
   "cell_type": "markdown",
   "metadata": {},
   "source": [
    "#### 1.3.- Tratamiento de Variables. Limpieza y preparación\n",
    "Vamos a realizar un pequeño tratamiento de los datos para poder trabajar con redes Neuronales. Tenemos que tratar las variables fechas y las categóricas transformarlas a Dummy u ordinales. \n",
    "Para la variable Cluster Final que es la categórica que vamos a tratar realizaremos una trasnformación a Dummy para no darle un peso irreal si realizamos una transformación ordinal. "
   ]
  },
  {
   "cell_type": "code",
   "execution_count": 344,
   "metadata": {},
   "outputs": [],
   "source": [
    "# tratamiento de la Variable Cluster a Nivel Dummy\n",
    "dummy=pd.get_dummies(df['Cluster_final'])\n",
    "df=pd.concat([df,dummy],axis=1)"
   ]
  },
  {
   "cell_type": "code",
   "execution_count": 345,
   "metadata": {},
   "outputs": [],
   "source": [
    "# tratamiento yr_renovated a flag \n",
    "df['renova'] = np.where(df['yr_renovated']>0, 1, 0)"
   ]
  },
  {
   "cell_type": "code",
   "execution_count": 346,
   "metadata": {},
   "outputs": [],
   "source": [
    "# tratamiento yr_built Numero de anyos de la vivienda\n",
    "df['max_year']     = max(df['yr_built'])\n",
    "df['anyos']=(df['max_year'] -df['yr_built'])"
   ]
  },
  {
   "cell_type": "code",
   "execution_count": 347,
   "metadata": {},
   "outputs": [],
   "source": [
    "# Tratamiento de las fechas, crearemos una variable llamada Antigüedad en días de una vivienda \n",
    "#con respecto a la máxima fecha de la base de datos.\n",
    "df['max']     = max(df['date'])\n",
    "df['max']     = pd.to_datetime(df['max'] )\n",
    "df['date']    = pd.to_datetime(df['date'])\n",
    "df['antiguedad']=(df['date'] -df['max']).apply(lambda x: x.days)"
   ]
  },
  {
   "cell_type": "markdown",
   "metadata": {},
   "source": [
    "Ahora vamos a limpiar algunas variables que son redundantes o no tienen sentido en el análisis."
   ]
  },
  {
   "cell_type": "code",
   "execution_count": 348,
   "metadata": {},
   "outputs": [
    {
     "data": {
      "text/html": [
       "<div>\n",
       "<style scoped>\n",
       "    .dataframe tbody tr th:only-of-type {\n",
       "        vertical-align: middle;\n",
       "    }\n",
       "\n",
       "    .dataframe tbody tr th {\n",
       "        vertical-align: top;\n",
       "    }\n",
       "\n",
       "    .dataframe thead th {\n",
       "        text-align: right;\n",
       "    }\n",
       "</style>\n",
       "<table border=\"1\" class=\"dataframe\">\n",
       "  <thead>\n",
       "    <tr style=\"text-align: right;\">\n",
       "      <th></th>\n",
       "      <th>bedrooms</th>\n",
       "      <th>bathrooms</th>\n",
       "      <th>sqft_living</th>\n",
       "      <th>sqft_lot</th>\n",
       "      <th>floors</th>\n",
       "      <th>waterfront</th>\n",
       "      <th>view</th>\n",
       "      <th>condition</th>\n",
       "      <th>grade</th>\n",
       "      <th>sqft_above</th>\n",
       "      <th>...</th>\n",
       "      <th>lat</th>\n",
       "      <th>long</th>\n",
       "      <th>sqft_living15</th>\n",
       "      <th>sqft_lot15</th>\n",
       "      <th>low</th>\n",
       "      <th>med</th>\n",
       "      <th>top</th>\n",
       "      <th>renova</th>\n",
       "      <th>anyos</th>\n",
       "      <th>antiguedad</th>\n",
       "    </tr>\n",
       "    <tr>\n",
       "      <th>id</th>\n",
       "      <th></th>\n",
       "      <th></th>\n",
       "      <th></th>\n",
       "      <th></th>\n",
       "      <th></th>\n",
       "      <th></th>\n",
       "      <th></th>\n",
       "      <th></th>\n",
       "      <th></th>\n",
       "      <th></th>\n",
       "      <th></th>\n",
       "      <th></th>\n",
       "      <th></th>\n",
       "      <th></th>\n",
       "      <th></th>\n",
       "      <th></th>\n",
       "      <th></th>\n",
       "      <th></th>\n",
       "      <th></th>\n",
       "      <th></th>\n",
       "      <th></th>\n",
       "    </tr>\n",
       "  </thead>\n",
       "  <tbody>\n",
       "    <tr>\n",
       "      <th>7129300520</th>\n",
       "      <td>3</td>\n",
       "      <td>1.00</td>\n",
       "      <td>1180</td>\n",
       "      <td>5650</td>\n",
       "      <td>1.0</td>\n",
       "      <td>0</td>\n",
       "      <td>0</td>\n",
       "      <td>3</td>\n",
       "      <td>7</td>\n",
       "      <td>1180</td>\n",
       "      <td>...</td>\n",
       "      <td>47.5112</td>\n",
       "      <td>-122.257</td>\n",
       "      <td>1340</td>\n",
       "      <td>5650</td>\n",
       "      <td>1</td>\n",
       "      <td>0</td>\n",
       "      <td>0</td>\n",
       "      <td>0</td>\n",
       "      <td>60</td>\n",
       "      <td>34</td>\n",
       "    </tr>\n",
       "    <tr>\n",
       "      <th>6414100192</th>\n",
       "      <td>3</td>\n",
       "      <td>2.25</td>\n",
       "      <td>2570</td>\n",
       "      <td>7242</td>\n",
       "      <td>2.0</td>\n",
       "      <td>0</td>\n",
       "      <td>0</td>\n",
       "      <td>3</td>\n",
       "      <td>7</td>\n",
       "      <td>2170</td>\n",
       "      <td>...</td>\n",
       "      <td>47.7210</td>\n",
       "      <td>-122.319</td>\n",
       "      <td>1690</td>\n",
       "      <td>7639</td>\n",
       "      <td>0</td>\n",
       "      <td>0</td>\n",
       "      <td>1</td>\n",
       "      <td>1</td>\n",
       "      <td>64</td>\n",
       "      <td>91</td>\n",
       "    </tr>\n",
       "    <tr>\n",
       "      <th>5631500400</th>\n",
       "      <td>2</td>\n",
       "      <td>1.00</td>\n",
       "      <td>770</td>\n",
       "      <td>10000</td>\n",
       "      <td>1.0</td>\n",
       "      <td>0</td>\n",
       "      <td>0</td>\n",
       "      <td>3</td>\n",
       "      <td>6</td>\n",
       "      <td>770</td>\n",
       "      <td>...</td>\n",
       "      <td>47.7379</td>\n",
       "      <td>-122.233</td>\n",
       "      <td>2720</td>\n",
       "      <td>8062</td>\n",
       "      <td>0</td>\n",
       "      <td>1</td>\n",
       "      <td>0</td>\n",
       "      <td>0</td>\n",
       "      <td>82</td>\n",
       "      <td>169</td>\n",
       "    </tr>\n",
       "    <tr>\n",
       "      <th>2487200875</th>\n",
       "      <td>4</td>\n",
       "      <td>3.00</td>\n",
       "      <td>1960</td>\n",
       "      <td>5000</td>\n",
       "      <td>1.0</td>\n",
       "      <td>0</td>\n",
       "      <td>0</td>\n",
       "      <td>5</td>\n",
       "      <td>7</td>\n",
       "      <td>1050</td>\n",
       "      <td>...</td>\n",
       "      <td>47.5208</td>\n",
       "      <td>-122.393</td>\n",
       "      <td>1360</td>\n",
       "      <td>5000</td>\n",
       "      <td>1</td>\n",
       "      <td>0</td>\n",
       "      <td>0</td>\n",
       "      <td>0</td>\n",
       "      <td>50</td>\n",
       "      <td>91</td>\n",
       "    </tr>\n",
       "    <tr>\n",
       "      <th>1954400510</th>\n",
       "      <td>3</td>\n",
       "      <td>2.00</td>\n",
       "      <td>1680</td>\n",
       "      <td>8080</td>\n",
       "      <td>1.0</td>\n",
       "      <td>0</td>\n",
       "      <td>0</td>\n",
       "      <td>3</td>\n",
       "      <td>8</td>\n",
       "      <td>1680</td>\n",
       "      <td>...</td>\n",
       "      <td>47.6168</td>\n",
       "      <td>-122.045</td>\n",
       "      <td>1800</td>\n",
       "      <td>7503</td>\n",
       "      <td>0</td>\n",
       "      <td>1</td>\n",
       "      <td>0</td>\n",
       "      <td>0</td>\n",
       "      <td>28</td>\n",
       "      <td>162</td>\n",
       "    </tr>\n",
       "  </tbody>\n",
       "</table>\n",
       "<p>5 rows × 22 columns</p>\n",
       "</div>"
      ],
      "text/plain": [
       "            bedrooms  bathrooms  sqft_living  sqft_lot  floors  waterfront  \\\n",
       "id                                                                           \n",
       "7129300520         3       1.00         1180      5650     1.0           0   \n",
       "6414100192         3       2.25         2570      7242     2.0           0   \n",
       "5631500400         2       1.00          770     10000     1.0           0   \n",
       "2487200875         4       3.00         1960      5000     1.0           0   \n",
       "1954400510         3       2.00         1680      8080     1.0           0   \n",
       "\n",
       "            view  condition  grade  sqft_above  ...      lat     long  \\\n",
       "id                                              ...                     \n",
       "7129300520     0          3      7        1180  ...  47.5112 -122.257   \n",
       "6414100192     0          3      7        2170  ...  47.7210 -122.319   \n",
       "5631500400     0          3      6         770  ...  47.7379 -122.233   \n",
       "2487200875     0          5      7        1050  ...  47.5208 -122.393   \n",
       "1954400510     0          3      8        1680  ...  47.6168 -122.045   \n",
       "\n",
       "            sqft_living15  sqft_lot15  low  med  top  renova  anyos  \\\n",
       "id                                                                    \n",
       "7129300520           1340        5650    1    0    0       0     60   \n",
       "6414100192           1690        7639    0    0    1       1     64   \n",
       "5631500400           2720        8062    0    1    0       0     82   \n",
       "2487200875           1360        5000    1    0    0       0     50   \n",
       "1954400510           1800        7503    0    1    0       0     28   \n",
       "\n",
       "            antiguedad  \n",
       "id                      \n",
       "7129300520          34  \n",
       "6414100192          91  \n",
       "5631500400         169  \n",
       "2487200875          91  \n",
       "1954400510         162  \n",
       "\n",
       "[5 rows x 22 columns]"
      ]
     },
     "execution_count": 348,
     "metadata": {},
     "output_type": "execute_result"
    }
   ],
   "source": [
    "del df['date']\n",
    "del df['max_year']\n",
    "del df['max']\n",
    "del df['cluster'] # eliminamos los otros análisis clústers\n",
    "del df['hclust']\n",
    "del df['price']\n",
    "del df['Cluster_final']\n",
    "del df['yr_renovated']\n",
    "del df['yr_built']\n",
    "df=df.set_index('id')\n",
    "X=df.iloc[:, 4:30]\n",
    "X.head(5)"
   ]
  },
  {
   "cell_type": "markdown",
   "metadata": {},
   "source": [
    "#### 1.4.- Split Train, Validation, Test."
   ]
  },
  {
   "cell_type": "code",
   "execution_count": 349,
   "metadata": {},
   "outputs": [],
   "source": [
    "# Split into train+val and test\n",
    "X_trainval, X_test, y_trainval, y_test = train_test_split(X, y, test_size=0.2, stratify=y,random_state=737)\n",
    "\n",
    "# Split train into train-val\n",
    "X_train, X_val, y_train, y_val = train_test_split(X_trainval, y_trainval, test_size=0.1, stratify=y_trainval,random_state=737)"
   ]
  },
  {
   "cell_type": "markdown",
   "metadata": {},
   "source": [
    "#### 1.5.- Transformación de la Escala de los Datos"
   ]
  },
  {
   "cell_type": "code",
   "execution_count": 350,
   "metadata": {},
   "outputs": [],
   "source": [
    "scaler = StandardScaler()\n",
    "X_train = scaler.fit_transform(X_train)\n",
    "X_val = scaler.fit_transform(X_val)\n",
    "X_test = scaler.fit_transform(X_test)"
   ]
  },
  {
   "cell_type": "markdown",
   "metadata": {},
   "source": [
    "#### 1.6.- Definición de los parámetros de aprendizaje de la Red Neuronal"
   ]
  },
  {
   "cell_type": "code",
   "execution_count": 351,
   "metadata": {},
   "outputs": [],
   "source": [
    "EPOCHS = 50\n",
    "BATCH_SIZE = 64\n",
    "LEARNING_RATE = 0.001"
   ]
  },
  {
   "cell_type": "code",
   "execution_count": 352,
   "metadata": {},
   "outputs": [],
   "source": [
    "## train data\n",
    "class trainData(Dataset):\n",
    "    \n",
    "    def __init__(self, X_data, y_data):\n",
    "        self.X_data = X_data\n",
    "        self.y_data = y_data\n",
    "        \n",
    "    def __getitem__(self, index):\n",
    "        return self.X_data[index], self.y_data[index]\n",
    "        \n",
    "    def __len__ (self):\n",
    "        return len(self.X_data)\n",
    "\n",
    "\n",
    "train_data = trainData(torch.FloatTensor(X_train), \n",
    "                       torch.FloatTensor(y_train))\n",
    "\n",
    "\n",
    "## val data    \n",
    "class testData(Dataset):\n",
    "    \n",
    "    def __init__(self, X_data):\n",
    "        self.X_data = X_data\n",
    "        \n",
    "    def __getitem__(self, index):\n",
    "        return self.X_data[index]\n",
    "        \n",
    "    def __len__ (self):\n",
    "        return len(self.X_data)\n",
    "    \n",
    "\n",
    "val_data = testData(torch.FloatTensor(X_val))\n",
    "\n",
    "\n",
    "## test data    \n",
    "class testData(Dataset):\n",
    "    \n",
    "    def __init__(self, X_data):\n",
    "        self.X_data = X_data\n",
    "        \n",
    "    def __getitem__(self, index):\n",
    "        return self.X_data[index]\n",
    "        \n",
    "    def __len__ (self):\n",
    "        return len(self.X_data)\n",
    "    \n",
    "\n",
    "test_data = testData(torch.FloatTensor(X_test))\n"
   ]
  },
  {
   "cell_type": "code",
   "execution_count": 378,
   "metadata": {},
   "outputs": [],
   "source": [
    "train_loader = DataLoader(dataset=train_data, batch_size=BATCH_SIZE, shuffle=True)\n",
    "val_loader   = DataLoader(dataset=val_data, batch_size=1)\n",
    "test_loader  = DataLoader(dataset=test_data, batch_size=1)"
   ]
  },
  {
   "cell_type": "code",
   "execution_count": 379,
   "metadata": {},
   "outputs": [],
   "source": [
    "class BinaryClassification(nn.Module):\n",
    "    def __init__(self):\n",
    "        super(BinaryClassification, self).__init__()\n",
    "        # Number of input features is 22.\n",
    "        self.layer_1 = nn.Linear(22, 64) \n",
    "        self.layer_2 = nn.Linear(64, 64)\n",
    "        self.layer_out = nn.Linear(64, 1) \n",
    "        \n",
    "        self.relu = nn.ReLU()\n",
    "        self.dropout = nn.Dropout(p=0.1)\n",
    "        self.batchnorm1 = nn.BatchNorm1d(64)\n",
    "        self.batchnorm2 = nn.BatchNorm1d(64)\n",
    "        \n",
    "    def forward(self, inputs):\n",
    "        x = self.relu(self.layer_1(inputs))\n",
    "        x = self.batchnorm1(x)\n",
    "        x = self.relu(self.layer_2(x))\n",
    "        x = self.batchnorm2(x)\n",
    "        x = self.dropout(x)\n",
    "        x = self.layer_out(x)\n",
    "        \n",
    "        return x"
   ]
  },
  {
   "cell_type": "code",
   "execution_count": 380,
   "metadata": {},
   "outputs": [
    {
     "name": "stdout",
     "output_type": "stream",
     "text": [
      "cpu\n"
     ]
    }
   ],
   "source": [
    "device = torch.device(\"cuda:0\" if torch.cuda.is_available() else \"cpu\")\n",
    "print(device)"
   ]
  },
  {
   "cell_type": "code",
   "execution_count": 381,
   "metadata": {},
   "outputs": [
    {
     "name": "stdout",
     "output_type": "stream",
     "text": [
      "binaryClassification(\n",
      "  (layer_1): Linear(in_features=22, out_features=64, bias=True)\n",
      "  (layer_2): Linear(in_features=64, out_features=64, bias=True)\n",
      "  (layer_out): Linear(in_features=64, out_features=1, bias=True)\n",
      "  (relu): ReLU()\n",
      "  (dropout): Dropout(p=0.1, inplace=False)\n",
      "  (batchnorm1): BatchNorm1d(64, eps=1e-05, momentum=0.1, affine=True, track_running_stats=True)\n",
      "  (batchnorm2): BatchNorm1d(64, eps=1e-05, momentum=0.1, affine=True, track_running_stats=True)\n",
      ")\n"
     ]
    }
   ],
   "source": [
    "model = binaryClassification()\n",
    "model.to(device)\n",
    "print(model)\n",
    "criterion = nn.BCEWithLogitsLoss()\n",
    "optimizer = optim.Adam(model.parameters(), lr=LEARNING_RATE)"
   ]
  },
  {
   "cell_type": "code",
   "execution_count": 382,
   "metadata": {},
   "outputs": [],
   "source": [
    "def binary_acc(y_pred, y_val):\n",
    "    y_pred_tag = torch.round(torch.sigmoid(y_pred))\n",
    "\n",
    "    correct_results_sum = (y_pred_tag == y_val).sum().float()\n",
    "    acc = correct_results_sum/y_val.shape[0]\n",
    "    acc = torch.round(acc * 100)\n",
    "    \n",
    "    return acc"
   ]
  },
  {
   "cell_type": "code",
   "execution_count": 385,
   "metadata": {},
   "outputs": [
    {
     "name": "stdout",
     "output_type": "stream",
     "text": [
      "Epoch 001: | Loss: 0.32051 | Acc: 87.407\n",
      "Epoch 002: | Loss: 0.24113 | Acc: 89.992\n",
      "Epoch 003: | Loss: 0.20847 | Acc: 91.222\n",
      "Epoch 004: | Loss: 0.19554 | Acc: 91.514\n",
      "Epoch 005: | Loss: 0.18782 | Acc: 92.160\n",
      "Epoch 006: | Loss: 0.18229 | Acc: 92.280\n",
      "Epoch 007: | Loss: 0.17537 | Acc: 92.494\n",
      "Epoch 008: | Loss: 0.17550 | Acc: 92.621\n",
      "Epoch 009: | Loss: 0.17009 | Acc: 92.733\n",
      "Epoch 010: | Loss: 0.16944 | Acc: 92.687\n",
      "Epoch 011: | Loss: 0.17084 | Acc: 92.811\n",
      "Epoch 012: | Loss: 0.16609 | Acc: 92.930\n",
      "Epoch 013: | Loss: 0.16309 | Acc: 93.066\n",
      "Epoch 014: | Loss: 0.16208 | Acc: 93.173\n",
      "Epoch 015: | Loss: 0.16116 | Acc: 93.095\n",
      "Epoch 016: | Loss: 0.16006 | Acc: 93.136\n",
      "Epoch 017: | Loss: 0.15650 | Acc: 93.354\n",
      "Epoch 018: | Loss: 0.15778 | Acc: 93.387\n",
      "Epoch 019: | Loss: 0.15668 | Acc: 93.391\n",
      "Epoch 020: | Loss: 0.15577 | Acc: 93.486\n",
      "Epoch 021: | Loss: 0.15054 | Acc: 93.716\n",
      "Epoch 022: | Loss: 0.15266 | Acc: 93.704\n",
      "Epoch 023: | Loss: 0.14963 | Acc: 93.749\n",
      "Epoch 024: | Loss: 0.14487 | Acc: 93.815\n",
      "Epoch 025: | Loss: 0.14842 | Acc: 93.757\n",
      "Epoch 026: | Loss: 0.14611 | Acc: 93.807\n",
      "Epoch 027: | Loss: 0.14467 | Acc: 93.741\n",
      "Epoch 028: | Loss: 0.14542 | Acc: 93.975\n",
      "Epoch 029: | Loss: 0.14342 | Acc: 94.177\n",
      "Epoch 030: | Loss: 0.14632 | Acc: 93.905\n",
      "Epoch 031: | Loss: 0.14174 | Acc: 93.893\n",
      "Epoch 032: | Loss: 0.14005 | Acc: 94.008\n",
      "Epoch 033: | Loss: 0.13876 | Acc: 94.267\n",
      "Epoch 034: | Loss: 0.13703 | Acc: 94.333\n",
      "Epoch 035: | Loss: 0.13747 | Acc: 94.267\n",
      "Epoch 036: | Loss: 0.13992 | Acc: 94.292\n",
      "Epoch 037: | Loss: 0.13673 | Acc: 94.313\n",
      "Epoch 038: | Loss: 0.13346 | Acc: 94.325\n",
      "Epoch 039: | Loss: 0.13445 | Acc: 94.325\n",
      "Epoch 040: | Loss: 0.13287 | Acc: 94.391\n",
      "Epoch 041: | Loss: 0.13157 | Acc: 94.486\n",
      "Epoch 042: | Loss: 0.12854 | Acc: 94.671\n",
      "Epoch 043: | Loss: 0.13404 | Acc: 94.519\n",
      "Epoch 044: | Loss: 0.12947 | Acc: 94.716\n",
      "Epoch 045: | Loss: 0.12786 | Acc: 94.461\n",
      "Epoch 046: | Loss: 0.13079 | Acc: 94.469\n",
      "Epoch 047: | Loss: 0.12347 | Acc: 94.848\n",
      "Epoch 048: | Loss: 0.12707 | Acc: 94.691\n",
      "Epoch 049: | Loss: 0.12236 | Acc: 94.646\n",
      "Epoch 050: | Loss: 0.12844 | Acc: 94.601\n"
     ]
    }
   ],
   "source": [
    "model.train()\n",
    "for e in range(1, EPOCHS+1):\n",
    "    epoch_loss = 0\n",
    "    epoch_acc = 0\n",
    "    for X_batch, y_batch in train_loader:\n",
    "        X_batch, y_batch = X_batch.to(device), y_batch.to(device)\n",
    "        optimizer.zero_grad()\n",
    "        \n",
    "        y_pred = model(X_batch)\n",
    "        \n",
    "        loss = criterion(y_pred, y_batch.unsqueeze(1))\n",
    "        acc = binary_acc(y_pred, y_batch.unsqueeze(1))\n",
    "        \n",
    "        loss.backward()\n",
    "        optimizer.step()\n",
    "        \n",
    "        epoch_loss += loss.item()\n",
    "        epoch_acc += acc.item()\n",
    "        \n",
    "\n",
    "    print(f'Epoch {e+0:03}: | Loss: {epoch_loss/len(train_loader):.5f} | Acc: {epoch_acc/len(train_loader):.3f}')"
   ]
  },
  {
   "cell_type": "code",
   "execution_count": 386,
   "metadata": {},
   "outputs": [],
   "source": [
    "y_pred_list = []\n",
    "model.eval()\n",
    "with torch.no_grad():\n",
    "    for X_batch in test_loader:\n",
    "        X_batch = X_batch.to(device)\n",
    "        y_test_pred = model(X_batch)\n",
    "        y_test_pred = torch.sigmoid(y_test_pred)\n",
    "        y_pred_tag = torch.round(y_test_pred)\n",
    "        y_pred_list.append(y_pred_tag.cpu().numpy())\n",
    "\n",
    "y_pred_list = [a.squeeze().tolist() for a in y_pred_list]"
   ]
  },
  {
   "cell_type": "markdown",
   "metadata": {},
   "source": [
    "#### 1.7.- Validaciones y Conclusiones"
   ]
  },
  {
   "cell_type": "code",
   "execution_count": 373,
   "metadata": {},
   "outputs": [
    {
     "data": {
      "text/plain": [
       "array([[3141,   97],\n",
       "       [ 197,  885]])"
      ]
     },
     "execution_count": 373,
     "metadata": {},
     "output_type": "execute_result"
    }
   ],
   "source": [
    "confusion_matrix(y_test, y_pred_list)"
   ]
  },
  {
   "cell_type": "code",
   "execution_count": 374,
   "metadata": {},
   "outputs": [
    {
     "name": "stdout",
     "output_type": "stream",
     "text": [
      "              precision    recall  f1-score   support\n",
      "\n",
      "           0       0.94      0.97      0.96      3238\n",
      "           1       0.90      0.82      0.86      1082\n",
      "\n",
      "    accuracy                           0.93      4320\n",
      "   macro avg       0.92      0.89      0.91      4320\n",
      "weighted avg       0.93      0.93      0.93      4320\n",
      "\n"
     ]
    }
   ],
   "source": [
    "print(classification_report(y_test, y_pred_list))"
   ]
  },
  {
   "cell_type": "markdown",
   "metadata": {},
   "source": [
    "Observamos que nuestro Accuracy es 0.92, es muy buen resultado así como los f1-score y recall."
   ]
  },
  {
   "cell_type": "markdown",
   "metadata": {},
   "source": [
    "#### 1.8.- Tree after Net. Modelos Subrogados Global"
   ]
  },
  {
   "cell_type": "code",
   "execution_count": 375,
   "metadata": {},
   "outputs": [
    {
     "data": {
      "image/png": "[encoded data removed]",
      "text/plain": [
       "<Figure size 600x400 with 1 Axes>"
      ]
     },
     "metadata": {},
     "output_type": "display_data"
    }
   ],
   "source": [
    "clf = DecisionTreeClassifier(max_leaf_nodes=7).fit(X_test, y_pred_list)\n",
    "plot_tree(clf, filled=True,feature_names=X.columns) #names \n",
    "plt.show()"
   ]
  },
  {
   "cell_type": "markdown",
   "metadata": {},
   "source": [
    "Las variables más determinantes para explicar la variabilidad del Cluster dentro de nuestros datos son...\n",
    "##### Grado de estado de la vicienda\n",
    "##### Posicionamiento Geográfico\n",
    "##### Metros Cuadrados"
   ]
  },
  {
   "cell_type": "markdown",
   "metadata": {},
   "source": [
    "## 2.-Red Clasificador Múltiple"
   ]
  },
  {
   "cell_type": "markdown",
   "metadata": {},
   "source": [
    "Objetivo, Multiclase definido por la variable Cluster Final creada en la práctica de la asignatura ML I con tres categorías Low, Med y Top. "
   ]
  },
  {
   "cell_type": "markdown",
   "metadata": {},
   "source": [
    "###  índice\n",
    "##### 2.1.- Importamos la BBDD\n",
    "##### 2.2.- EDA html\n",
    "##### 2.3.- Tratamiento de Variables. Limpieza y preparación\n",
    "##### 2.4.- Split Train, Validation, Test\n",
    "##### 2.5.- Transformación de la Escala de los Datos\n",
    "##### 2.6.- Definición de los parámetros de aprendizaje de la Red Neuronal\n",
    "##### 2.7.- Validaciones y Conclusiones\n",
    "##### 2.8.- Nueva Red y conclusiones\n",
    "##### 2.9.- Modelos Subrogados Global. Tree after Net\n",
    "##### \n",
    "##### "
   ]
  },
  {
   "cell_type": "markdown",
   "metadata": {},
   "source": [
    "#### 2.1.- Importamos la BBDD"
   ]
  },
  {
   "cell_type": "code",
   "execution_count": 336,
   "metadata": {},
   "outputs": [
    {
     "data": {
      "text/html": [
       "<div>\n",
       "<style scoped>\n",
       "    .dataframe tbody tr th:only-of-type {\n",
       "        vertical-align: middle;\n",
       "    }\n",
       "\n",
       "    .dataframe tbody tr th {\n",
       "        vertical-align: top;\n",
       "    }\n",
       "\n",
       "    .dataframe thead th {\n",
       "        text-align: right;\n",
       "    }\n",
       "</style>\n",
       "<table border=\"1\" class=\"dataframe\">\n",
       "  <thead>\n",
       "    <tr style=\"text-align: right;\">\n",
       "      <th></th>\n",
       "      <th>Unnamed: 0</th>\n",
       "      <th>X.1</th>\n",
       "      <th>X</th>\n",
       "      <th>Y</th>\n",
       "      <th>id</th>\n",
       "      <th>date</th>\n",
       "      <th>price</th>\n",
       "      <th>bedrooms</th>\n",
       "      <th>bathrooms</th>\n",
       "      <th>sqft_living</th>\n",
       "      <th>...</th>\n",
       "      <th>yr_built</th>\n",
       "      <th>yr_renovated</th>\n",
       "      <th>zipcode</th>\n",
       "      <th>lat</th>\n",
       "      <th>long</th>\n",
       "      <th>sqft_living15</th>\n",
       "      <th>sqft_lot15</th>\n",
       "      <th>cluster</th>\n",
       "      <th>hclust</th>\n",
       "      <th>Cluster_final</th>\n",
       "    </tr>\n",
       "  </thead>\n",
       "  <tbody>\n",
       "    <tr>\n",
       "      <th>0</th>\n",
       "      <td>1</td>\n",
       "      <td>1</td>\n",
       "      <td>3.762164</td>\n",
       "      <td>22.445021</td>\n",
       "      <td>7129300520</td>\n",
       "      <td>10/13/2014</td>\n",
       "      <td>221900.0</td>\n",
       "      <td>3</td>\n",
       "      <td>1.00</td>\n",
       "      <td>1180</td>\n",
       "      <td>...</td>\n",
       "      <td>1955</td>\n",
       "      <td>0</td>\n",
       "      <td>98178</td>\n",
       "      <td>47.5112</td>\n",
       "      <td>-122.257</td>\n",
       "      <td>1340</td>\n",
       "      <td>5650</td>\n",
       "      <td>1</td>\n",
       "      <td>1</td>\n",
       "      <td>low</td>\n",
       "    </tr>\n",
       "    <tr>\n",
       "      <th>1</th>\n",
       "      <td>2</td>\n",
       "      <td>2</td>\n",
       "      <td>-24.035975</td>\n",
       "      <td>9.766915</td>\n",
       "      <td>6414100192</td>\n",
       "      <td>12/9/2014</td>\n",
       "      <td>538000.0</td>\n",
       "      <td>3</td>\n",
       "      <td>2.25</td>\n",
       "      <td>2570</td>\n",
       "      <td>...</td>\n",
       "      <td>1951</td>\n",
       "      <td>1991</td>\n",
       "      <td>98125</td>\n",
       "      <td>47.7210</td>\n",
       "      <td>-122.319</td>\n",
       "      <td>1690</td>\n",
       "      <td>7639</td>\n",
       "      <td>1</td>\n",
       "      <td>2</td>\n",
       "      <td>top</td>\n",
       "    </tr>\n",
       "    <tr>\n",
       "      <th>2</th>\n",
       "      <td>3</td>\n",
       "      <td>3</td>\n",
       "      <td>5.217015</td>\n",
       "      <td>8.102678</td>\n",
       "      <td>5631500400</td>\n",
       "      <td>2/25/2015</td>\n",
       "      <td>180000.0</td>\n",
       "      <td>2</td>\n",
       "      <td>1.00</td>\n",
       "      <td>770</td>\n",
       "      <td>...</td>\n",
       "      <td>1933</td>\n",
       "      <td>0</td>\n",
       "      <td>98028</td>\n",
       "      <td>47.7379</td>\n",
       "      <td>-122.233</td>\n",
       "      <td>2720</td>\n",
       "      <td>8062</td>\n",
       "      <td>1</td>\n",
       "      <td>3</td>\n",
       "      <td>med</td>\n",
       "    </tr>\n",
       "    <tr>\n",
       "      <th>3</th>\n",
       "      <td>4</td>\n",
       "      <td>4</td>\n",
       "      <td>7.588730</td>\n",
       "      <td>18.967730</td>\n",
       "      <td>2487200875</td>\n",
       "      <td>12/9/2014</td>\n",
       "      <td>604000.0</td>\n",
       "      <td>4</td>\n",
       "      <td>3.00</td>\n",
       "      <td>1960</td>\n",
       "      <td>...</td>\n",
       "      <td>1965</td>\n",
       "      <td>0</td>\n",
       "      <td>98136</td>\n",
       "      <td>47.5208</td>\n",
       "      <td>-122.393</td>\n",
       "      <td>1360</td>\n",
       "      <td>5000</td>\n",
       "      <td>2</td>\n",
       "      <td>1</td>\n",
       "      <td>low</td>\n",
       "    </tr>\n",
       "    <tr>\n",
       "      <th>4</th>\n",
       "      <td>5</td>\n",
       "      <td>5</td>\n",
       "      <td>0.666181</td>\n",
       "      <td>3.939548</td>\n",
       "      <td>1954400510</td>\n",
       "      <td>2/18/2015</td>\n",
       "      <td>510000.0</td>\n",
       "      <td>3</td>\n",
       "      <td>2.00</td>\n",
       "      <td>1680</td>\n",
       "      <td>...</td>\n",
       "      <td>1987</td>\n",
       "      <td>0</td>\n",
       "      <td>98074</td>\n",
       "      <td>47.6168</td>\n",
       "      <td>-122.045</td>\n",
       "      <td>1800</td>\n",
       "      <td>7503</td>\n",
       "      <td>3</td>\n",
       "      <td>3</td>\n",
       "      <td>med</td>\n",
       "    </tr>\n",
       "  </tbody>\n",
       "</table>\n",
       "<p>5 rows × 28 columns</p>\n",
       "</div>"
      ],
      "text/plain": [
       "   Unnamed: 0  X.1          X          Y          id        date     price  \\\n",
       "0           1    1   3.762164  22.445021  7129300520  10/13/2014  221900.0   \n",
       "1           2    2 -24.035975   9.766915  6414100192   12/9/2014  538000.0   \n",
       "2           3    3   5.217015   8.102678  5631500400   2/25/2015  180000.0   \n",
       "3           4    4   7.588730  18.967730  2487200875   12/9/2014  604000.0   \n",
       "4           5    5   0.666181   3.939548  1954400510   2/18/2015  510000.0   \n",
       "\n",
       "   bedrooms  bathrooms  sqft_living  ...  yr_built  yr_renovated  zipcode  \\\n",
       "0         3       1.00         1180  ...      1955             0    98178   \n",
       "1         3       2.25         2570  ...      1951          1991    98125   \n",
       "2         2       1.00          770  ...      1933             0    98028   \n",
       "3         4       3.00         1960  ...      1965             0    98136   \n",
       "4         3       2.00         1680  ...      1987             0    98074   \n",
       "\n",
       "       lat     long  sqft_living15  sqft_lot15  cluster  hclust  Cluster_final  \n",
       "0  47.5112 -122.257           1340        5650        1       1            low  \n",
       "1  47.7210 -122.319           1690        7639        1       2            top  \n",
       "2  47.7379 -122.233           2720        8062        1       3            med  \n",
       "3  47.5208 -122.393           1360        5000        2       1            low  \n",
       "4  47.6168 -122.045           1800        7503        3       3            med  \n",
       "\n",
       "[5 rows x 28 columns]"
      ]
     },
     "execution_count": 336,
     "metadata": {},
     "output_type": "execute_result"
    }
   ],
   "source": [
    "# load the dataset\n",
    "df2 = pd.read_csv('cluster.txt', sep=\",\")\n",
    "df2.head()"
   ]
  },
  {
   "cell_type": "markdown",
   "metadata": {},
   "source": [
    "Viendo la ditribución de la variable."
   ]
  },
  {
   "cell_type": "code",
   "execution_count": 339,
   "metadata": {},
   "outputs": [
    {
     "data": {
      "text/plain": [
       "<matplotlib.axes._subplots.AxesSubplot at 0x7fc977332110>"
      ]
     },
     "execution_count": 339,
     "metadata": {},
     "output_type": "execute_result"
    },
    {
     "data": {
      "image/png": "[encoded data removed]",
      "text/plain": [
       "<Figure size 600x400 with 1 Axes>"
      ]
     },
     "metadata": {},
     "output_type": "display_data"
    }
   ],
   "source": [
    "sns.countplot(x = 'Cluster_final', data=df2)"
   ]
  },
  {
   "cell_type": "markdown",
   "metadata": {},
   "source": [
    "#### 2.2.- EDA html"
   ]
  },
  {
   "cell_type": "code",
   "execution_count": 340,
   "metadata": {},
   "outputs": [],
   "source": [
    "#analyzing the dataset\n",
    "#advert_report = sv.analyze(df2)\n",
    "#display the report\n",
    "#advert_report.show_html('Advertising.html')"
   ]
  },
  {
   "cell_type": "markdown",
   "metadata": {},
   "source": [
    "#### 2.3.- Tratamiento de Variables. Limpieza y preparación\n",
    "Vamos a realizar un pequeño tratamiento de los datos para poder trabajar con redes Neuronales. Tenemos que tratar las variables fechas y las categóricas transformarlas a Dummy u ordinales. \n",
    "Para la variable Cluster Final que es la categórica que vamos a tratar realizaremos una trasnformación a Ordinal ya que es nuestra variable objetivo.\n",
    "Recalcularemos fechas y generaremos variables Flags.\n",
    "En este análisis vamos a mantener la variable Price."
   ]
  },
  {
   "cell_type": "code",
   "execution_count": 281,
   "metadata": {},
   "outputs": [
    {
     "data": {
      "text/plain": [
       "0.0    9970\n",
       "1.0    8225\n",
       "2.0    3402\n",
       "Name: Cluster_final, dtype: int64"
      ]
     },
     "execution_count": 281,
     "metadata": {},
     "output_type": "execute_result"
    }
   ],
   "source": [
    "enc = OrdinalEncoder()\n",
    "df2[[\"Cluster_final\"]] = enc.fit_transform(df2[[\"Cluster_final\"]])\n",
    "df2['Cluster_final'] .value_counts()"
   ]
  },
  {
   "cell_type": "code",
   "execution_count": 282,
   "metadata": {},
   "outputs": [],
   "source": [
    "# tratamiento yr_renovated a flag \n",
    "df2['renova'] = np.where(df2['yr_renovated']>0, 1, 0)"
   ]
  },
  {
   "cell_type": "code",
   "execution_count": 283,
   "metadata": {},
   "outputs": [],
   "source": [
    "# tratamiento yr_built Numero de anyos de la vivienda\n",
    "df2['max_year']     = max(df2['yr_built'])\n",
    "df2['anyos']=(df2['max_year'] -df2['yr_built'])"
   ]
  },
  {
   "cell_type": "code",
   "execution_count": 284,
   "metadata": {},
   "outputs": [],
   "source": [
    "# Tratamiento de las fechas, crearemos una variable llamada Antigüedad en días de una vivienda \n",
    "#con respecto a la máxima fecha de la base de datos.\n",
    "df2['max']     = max(df2['date'])\n",
    "df2['max']     = pd.to_datetime(df2['max'] )\n",
    "df2['date']    = pd.to_datetime(df2['date'])\n",
    "df2['antiguedad']=(df2['date'] -df2['max']).apply(lambda x: x.days)"
   ]
  },
  {
   "cell_type": "code",
   "execution_count": 285,
   "metadata": {},
   "outputs": [
    {
     "data": {
      "text/html": [
       "<div>\n",
       "<style scoped>\n",
       "    .dataframe tbody tr th:only-of-type {\n",
       "        vertical-align: middle;\n",
       "    }\n",
       "\n",
       "    .dataframe tbody tr th {\n",
       "        vertical-align: top;\n",
       "    }\n",
       "\n",
       "    .dataframe thead th {\n",
       "        text-align: right;\n",
       "    }\n",
       "</style>\n",
       "<table border=\"1\" class=\"dataframe\">\n",
       "  <thead>\n",
       "    <tr style=\"text-align: right;\">\n",
       "      <th></th>\n",
       "      <th>price</th>\n",
       "      <th>bedrooms</th>\n",
       "      <th>bathrooms</th>\n",
       "      <th>sqft_living</th>\n",
       "      <th>sqft_lot</th>\n",
       "      <th>floors</th>\n",
       "      <th>waterfront</th>\n",
       "      <th>view</th>\n",
       "      <th>condition</th>\n",
       "      <th>grade</th>\n",
       "      <th>...</th>\n",
       "      <th>sqft_basement</th>\n",
       "      <th>zipcode</th>\n",
       "      <th>lat</th>\n",
       "      <th>long</th>\n",
       "      <th>sqft_living15</th>\n",
       "      <th>sqft_lot15</th>\n",
       "      <th>Cluster_final</th>\n",
       "      <th>renova</th>\n",
       "      <th>anyos</th>\n",
       "      <th>antiguedad</th>\n",
       "    </tr>\n",
       "    <tr>\n",
       "      <th>id</th>\n",
       "      <th></th>\n",
       "      <th></th>\n",
       "      <th></th>\n",
       "      <th></th>\n",
       "      <th></th>\n",
       "      <th></th>\n",
       "      <th></th>\n",
       "      <th></th>\n",
       "      <th></th>\n",
       "      <th></th>\n",
       "      <th></th>\n",
       "      <th></th>\n",
       "      <th></th>\n",
       "      <th></th>\n",
       "      <th></th>\n",
       "      <th></th>\n",
       "      <th></th>\n",
       "      <th></th>\n",
       "      <th></th>\n",
       "      <th></th>\n",
       "      <th></th>\n",
       "    </tr>\n",
       "  </thead>\n",
       "  <tbody>\n",
       "    <tr>\n",
       "      <th>7129300520</th>\n",
       "      <td>221900.0</td>\n",
       "      <td>3</td>\n",
       "      <td>1.00</td>\n",
       "      <td>1180</td>\n",
       "      <td>5650</td>\n",
       "      <td>1.0</td>\n",
       "      <td>0</td>\n",
       "      <td>0</td>\n",
       "      <td>3</td>\n",
       "      <td>7</td>\n",
       "      <td>...</td>\n",
       "      <td>0</td>\n",
       "      <td>98178</td>\n",
       "      <td>47.5112</td>\n",
       "      <td>-122.257</td>\n",
       "      <td>1340</td>\n",
       "      <td>5650</td>\n",
       "      <td>0.0</td>\n",
       "      <td>0</td>\n",
       "      <td>60</td>\n",
       "      <td>34</td>\n",
       "    </tr>\n",
       "    <tr>\n",
       "      <th>6414100192</th>\n",
       "      <td>538000.0</td>\n",
       "      <td>3</td>\n",
       "      <td>2.25</td>\n",
       "      <td>2570</td>\n",
       "      <td>7242</td>\n",
       "      <td>2.0</td>\n",
       "      <td>0</td>\n",
       "      <td>0</td>\n",
       "      <td>3</td>\n",
       "      <td>7</td>\n",
       "      <td>...</td>\n",
       "      <td>400</td>\n",
       "      <td>98125</td>\n",
       "      <td>47.7210</td>\n",
       "      <td>-122.319</td>\n",
       "      <td>1690</td>\n",
       "      <td>7639</td>\n",
       "      <td>2.0</td>\n",
       "      <td>1</td>\n",
       "      <td>64</td>\n",
       "      <td>91</td>\n",
       "    </tr>\n",
       "    <tr>\n",
       "      <th>5631500400</th>\n",
       "      <td>180000.0</td>\n",
       "      <td>2</td>\n",
       "      <td>1.00</td>\n",
       "      <td>770</td>\n",
       "      <td>10000</td>\n",
       "      <td>1.0</td>\n",
       "      <td>0</td>\n",
       "      <td>0</td>\n",
       "      <td>3</td>\n",
       "      <td>6</td>\n",
       "      <td>...</td>\n",
       "      <td>0</td>\n",
       "      <td>98028</td>\n",
       "      <td>47.7379</td>\n",
       "      <td>-122.233</td>\n",
       "      <td>2720</td>\n",
       "      <td>8062</td>\n",
       "      <td>1.0</td>\n",
       "      <td>0</td>\n",
       "      <td>82</td>\n",
       "      <td>169</td>\n",
       "    </tr>\n",
       "    <tr>\n",
       "      <th>2487200875</th>\n",
       "      <td>604000.0</td>\n",
       "      <td>4</td>\n",
       "      <td>3.00</td>\n",
       "      <td>1960</td>\n",
       "      <td>5000</td>\n",
       "      <td>1.0</td>\n",
       "      <td>0</td>\n",
       "      <td>0</td>\n",
       "      <td>5</td>\n",
       "      <td>7</td>\n",
       "      <td>...</td>\n",
       "      <td>910</td>\n",
       "      <td>98136</td>\n",
       "      <td>47.5208</td>\n",
       "      <td>-122.393</td>\n",
       "      <td>1360</td>\n",
       "      <td>5000</td>\n",
       "      <td>0.0</td>\n",
       "      <td>0</td>\n",
       "      <td>50</td>\n",
       "      <td>91</td>\n",
       "    </tr>\n",
       "    <tr>\n",
       "      <th>1954400510</th>\n",
       "      <td>510000.0</td>\n",
       "      <td>3</td>\n",
       "      <td>2.00</td>\n",
       "      <td>1680</td>\n",
       "      <td>8080</td>\n",
       "      <td>1.0</td>\n",
       "      <td>0</td>\n",
       "      <td>0</td>\n",
       "      <td>3</td>\n",
       "      <td>8</td>\n",
       "      <td>...</td>\n",
       "      <td>0</td>\n",
       "      <td>98074</td>\n",
       "      <td>47.6168</td>\n",
       "      <td>-122.045</td>\n",
       "      <td>1800</td>\n",
       "      <td>7503</td>\n",
       "      <td>1.0</td>\n",
       "      <td>0</td>\n",
       "      <td>28</td>\n",
       "      <td>162</td>\n",
       "    </tr>\n",
       "  </tbody>\n",
       "</table>\n",
       "<p>5 rows × 21 columns</p>\n",
       "</div>"
      ],
      "text/plain": [
       "               price  bedrooms  bathrooms  sqft_living  sqft_lot  floors  \\\n",
       "id                                                                         \n",
       "7129300520  221900.0         3       1.00         1180      5650     1.0   \n",
       "6414100192  538000.0         3       2.25         2570      7242     2.0   \n",
       "5631500400  180000.0         2       1.00          770     10000     1.0   \n",
       "2487200875  604000.0         4       3.00         1960      5000     1.0   \n",
       "1954400510  510000.0         3       2.00         1680      8080     1.0   \n",
       "\n",
       "            waterfront  view  condition  grade  ...  sqft_basement  zipcode  \\\n",
       "id                                              ...                           \n",
       "7129300520           0     0          3      7  ...              0    98178   \n",
       "6414100192           0     0          3      7  ...            400    98125   \n",
       "5631500400           0     0          3      6  ...              0    98028   \n",
       "2487200875           0     0          5      7  ...            910    98136   \n",
       "1954400510           0     0          3      8  ...              0    98074   \n",
       "\n",
       "                lat     long  sqft_living15  sqft_lot15  Cluster_final  \\\n",
       "id                                                                       \n",
       "7129300520  47.5112 -122.257           1340        5650            0.0   \n",
       "6414100192  47.7210 -122.319           1690        7639            2.0   \n",
       "5631500400  47.7379 -122.233           2720        8062            1.0   \n",
       "2487200875  47.5208 -122.393           1360        5000            0.0   \n",
       "1954400510  47.6168 -122.045           1800        7503            1.0   \n",
       "\n",
       "            renova  anyos  antiguedad  \n",
       "id                                     \n",
       "7129300520       0     60          34  \n",
       "6414100192       1     64          91  \n",
       "5631500400       0     82         169  \n",
       "2487200875       0     50          91  \n",
       "1954400510       0     28         162  \n",
       "\n",
       "[5 rows x 21 columns]"
      ]
     },
     "execution_count": 285,
     "metadata": {},
     "output_type": "execute_result"
    }
   ],
   "source": [
    "del df2['date']\n",
    "del df2['max_year']\n",
    "del df2['max']\n",
    "del df2['cluster'] # eliminamos los otros análisis clústers\n",
    "del df2['hclust']\n",
    "del df2['yr_renovated']\n",
    "del df2['yr_built']\n",
    "df2=df2.set_index('id')\n",
    "X=df2.iloc[:, 4:30]\n",
    "X.head(5)"
   ]
  },
  {
   "cell_type": "markdown",
   "metadata": {},
   "source": [
    "La variable Cluster Final la sacamos del df X a estudio"
   ]
  },
  {
   "cell_type": "code",
   "execution_count": 286,
   "metadata": {},
   "outputs": [],
   "source": [
    "y=X['Cluster_final']\n",
    "del X['Cluster_final']"
   ]
  },
  {
   "cell_type": "code",
   "execution_count": 287,
   "metadata": {},
   "outputs": [
    {
     "data": {
      "text/plain": [
       "id\n",
       "7129300520    0.0\n",
       "6414100192    2.0\n",
       "5631500400    1.0\n",
       "2487200875    0.0\n",
       "1954400510    1.0\n",
       "             ... \n",
       "263000018     1.0\n",
       "6600060120    1.0\n",
       "1523300141    1.0\n",
       "291310100     0.0\n",
       "1523300157    1.0\n",
       "Name: Cluster_final, Length: 21597, dtype: float64"
      ]
     },
     "execution_count": 287,
     "metadata": {},
     "output_type": "execute_result"
    }
   ],
   "source": [
    "y"
   ]
  },
  {
   "cell_type": "markdown",
   "metadata": {},
   "source": [
    "#### 2.4.- Split Train, Validation, Test."
   ]
  },
  {
   "cell_type": "code",
   "execution_count": 288,
   "metadata": {},
   "outputs": [],
   "source": [
    "# Split into train+val and test\n",
    "X_trainval, X_test, y_trainval, y_test = train_test_split(X, y, test_size=0.2, stratify=y,random_state=737)\n",
    "\n",
    "# Split train into train-val\n",
    "X_train, X_val, y_train, y_val = train_test_split(X_trainval, y_trainval, test_size=0.1, stratify=y_trainval,random_state=737)"
   ]
  },
  {
   "cell_type": "markdown",
   "metadata": {},
   "source": [
    "#### 2.5.- Transformación de la Escala de los Datos"
   ]
  },
  {
   "cell_type": "code",
   "execution_count": 289,
   "metadata": {},
   "outputs": [],
   "source": [
    "scaler = MinMaxScaler()\n",
    "X_train = scaler.fit_transform(X_train)\n",
    "X_val = scaler.transform(X_val)\n",
    "X_test = scaler.transform(X_test)\n",
    "\n",
    "X_train, y_train = np.array(X_train), np.array(y_train)\n",
    "X_val, y_val = np.array(X_val), np.array(y_val)\n",
    "X_test, y_test = np.array(X_test), np.array(y_test)"
   ]
  },
  {
   "cell_type": "markdown",
   "metadata": {},
   "source": [
    "#### 2.6.- Definición de los parámetros de aprendizaje de la Red Neuronal"
   ]
  },
  {
   "cell_type": "code",
   "execution_count": 290,
   "metadata": {},
   "outputs": [],
   "source": [
    "EPOCHS = 50\n",
    "BATCH_SIZE = 16\n",
    "LEARNING_RATE = 0.001\n",
    "NUM_FEATURES = len(X.columns)\n",
    "NUM_CLASSES = 3"
   ]
  },
  {
   "cell_type": "code",
   "execution_count": 291,
   "metadata": {},
   "outputs": [
    {
     "data": {
      "text/plain": [
       "20"
      ]
     },
     "execution_count": 291,
     "metadata": {},
     "output_type": "execute_result"
    }
   ],
   "source": [
    "NUM_FEATURES"
   ]
  },
  {
   "cell_type": "code",
   "execution_count": 292,
   "metadata": {},
   "outputs": [],
   "source": [
    "class ClassifierDataset(Dataset):\n",
    "    \n",
    "    def __init__(self, X_data, y_data):\n",
    "        self.X_data = X_data\n",
    "        self.y_data = y_data\n",
    "        \n",
    "    def __getitem__(self, index):\n",
    "        return self.X_data[index], self.y_data[index]\n",
    "        \n",
    "    def __len__ (self):\n",
    "        return len(self.X_data)\n",
    "\n",
    "\n",
    "train_dataset = ClassifierDataset(torch.from_numpy(X_train).float(), torch.from_numpy(y_train).long())\n",
    "val_dataset   = ClassifierDataset(torch.from_numpy(X_val).float(), torch.from_numpy(y_val).long())\n",
    "test_dataset  = ClassifierDataset(torch.from_numpy(X_test).float(), torch.from_numpy(y_test).long())"
   ]
  },
  {
   "cell_type": "code",
   "execution_count": 293,
   "metadata": {},
   "outputs": [],
   "source": [
    "train_loader = DataLoader(dataset=train_dataset,batch_size=BATCH_SIZE)\n",
    "val_loader   = DataLoader(dataset=val_dataset, batch_size=1)\n",
    "test_loader  = DataLoader(dataset=test_dataset, batch_size=1)"
   ]
  },
  {
   "cell_type": "code",
   "execution_count": 295,
   "metadata": {},
   "outputs": [],
   "source": [
    "#softmax forward TODO"
   ]
  },
  {
   "cell_type": "code",
   "execution_count": 296,
   "metadata": {},
   "outputs": [],
   "source": [
    "class MulticlassClassification(nn.Module):\n",
    "    def __init__(self, num_feature, num_class):\n",
    "        super(MulticlassClassification, self).__init__()\n",
    "        \n",
    "        self.layer_1 = nn.Linear(num_feature, 512)\n",
    "        self.layer_2 = nn.Linear(512, 128)\n",
    "        self.layer_3 = nn.Linear(128, 64)\n",
    "        self.layer_out = nn.Linear(64, num_class) ## parametrizado al número de clases\n",
    "        \n",
    "        self.relu = nn.ReLU()\n",
    "        self.dropout = nn.Dropout(p=0.2)\n",
    "        self.batchnorm1 = nn.BatchNorm1d(512)\n",
    "        self.batchnorm2 = nn.BatchNorm1d(128)\n",
    "        self.batchnorm3 = nn.BatchNorm1d(64)\n",
    "        \n",
    "    def forward(self, x):\n",
    "        x = self.layer_1(x)\n",
    "        x = self.batchnorm1(x)\n",
    "        x = self.relu(x)\n",
    "        \n",
    "        x = self.layer_2(x)\n",
    "        x = self.batchnorm2(x)\n",
    "        x = self.relu(x)\n",
    "        x = self.dropout(x)\n",
    "        \n",
    "        x = self.layer_3(x)\n",
    "        x = self.batchnorm3(x)\n",
    "        x = self.relu(x)\n",
    "        x = self.dropout(x)\n",
    "        \n",
    "        x = self.layer_out(x)\n",
    "        \n",
    "        return x"
   ]
  },
  {
   "cell_type": "code",
   "execution_count": 297,
   "metadata": {},
   "outputs": [
    {
     "name": "stdout",
     "output_type": "stream",
     "text": [
      "cpu\n"
     ]
    }
   ],
   "source": [
    "device = torch.device(\"cuda:0\" if torch.cuda.is_available() else \"cpu\")\n",
    "print(device)"
   ]
  },
  {
   "cell_type": "code",
   "execution_count": 298,
   "metadata": {},
   "outputs": [
    {
     "name": "stdout",
     "output_type": "stream",
     "text": [
      "MulticlassClassification(\n",
      "  (layer_1): Linear(in_features=20, out_features=512, bias=True)\n",
      "  (layer_2): Linear(in_features=512, out_features=128, bias=True)\n",
      "  (layer_3): Linear(in_features=128, out_features=64, bias=True)\n",
      "  (layer_out): Linear(in_features=64, out_features=3, bias=True)\n",
      "  (relu): ReLU()\n",
      "  (dropout): Dropout(p=0.2, inplace=False)\n",
      "  (batchnorm1): BatchNorm1d(512, eps=1e-05, momentum=0.1, affine=True, track_running_stats=True)\n",
      "  (batchnorm2): BatchNorm1d(128, eps=1e-05, momentum=0.1, affine=True, track_running_stats=True)\n",
      "  (batchnorm3): BatchNorm1d(64, eps=1e-05, momentum=0.1, affine=True, track_running_stats=True)\n",
      ")\n"
     ]
    }
   ],
   "source": [
    "model = MulticlassClassification(num_feature = NUM_FEATURES, num_class=NUM_CLASSES)\n",
    "model.to(device)\n",
    "\n",
    "criterion = nn.CrossEntropyLoss()\n",
    "optimizer = optim.Adam(model.parameters(), lr=LEARNING_RATE)\n",
    "print(model)"
   ]
  },
  {
   "cell_type": "code",
   "execution_count": 299,
   "metadata": {},
   "outputs": [],
   "source": [
    "def multi_acc(y_pred, y_test):\n",
    "    y_pred_softmax = torch.log_softmax(y_pred, dim = 1)\n",
    "    _, y_pred_tags = torch.max(y_pred_softmax, dim = 1)    \n",
    "    correct_pred = (y_pred_tags == y_test).float()\n",
    "    acc = correct_pred.sum() / len(correct_pred)\n",
    "    acc = torch.round(acc) * 100   \n",
    "    return acc"
   ]
  },
  {
   "cell_type": "code",
   "execution_count": 300,
   "metadata": {},
   "outputs": [],
   "source": [
    "accuracy_stats = {\n",
    "    'train': [],\n",
    "    \"val\": []\n",
    "}\n",
    "loss_stats = {\n",
    "    'train': [],\n",
    "    \"val\": []\n",
    "}"
   ]
  },
  {
   "cell_type": "code",
   "execution_count": 301,
   "metadata": {},
   "outputs": [
    {
     "name": "stdout",
     "output_type": "stream",
     "text": [
      "training...\n"
     ]
    },
    {
     "data": {
      "application/vnd.jupyter.widget-view+json": {
       "model_id": "408fe8be997f4fefa82fd72a3fc95c81",
       "version_major": 2,
       "version_minor": 0
      },
      "text/plain": [
       "HBox(children=(FloatProgress(value=0.0, max=50.0), HTML(value='')))"
      ]
     },
     "metadata": {},
     "output_type": "display_data"
    },
    {
     "name": "stdout",
     "output_type": "stream",
     "text": [
      "Epoch 001: | Train Loss: 0.37685 | Val Loss: 0.26448 | Train Acc: 99.486| Val Acc: 87.905\n",
      "Epoch 002: | Train Loss: 0.31180 | Val Loss: 0.25111 | Train Acc: 100.000| Val Acc: 88.484\n",
      "Epoch 003: | Train Loss: 0.28993 | Val Loss: 0.24016 | Train Acc: 100.000| Val Acc: 88.542\n",
      "Epoch 004: | Train Loss: 0.27340 | Val Loss: 0.23698 | Train Acc: 100.000| Val Acc: 88.947\n",
      "Epoch 005: | Train Loss: 0.25949 | Val Loss: 0.25468 | Train Acc: 100.000| Val Acc: 87.963\n",
      "Epoch 006: | Train Loss: 0.24913 | Val Loss: 0.23329 | Train Acc: 100.000| Val Acc: 89.005\n",
      "Epoch 007: | Train Loss: 0.23905 | Val Loss: 0.22446 | Train Acc: 100.000| Val Acc: 88.773\n",
      "Epoch 008: | Train Loss: 0.22946 | Val Loss: 0.22884 | Train Acc: 100.000| Val Acc: 89.236\n",
      "Epoch 009: | Train Loss: 0.22159 | Val Loss: 0.22978 | Train Acc: 100.000| Val Acc: 89.005\n",
      "Epoch 010: | Train Loss: 0.21461 | Val Loss: 0.22323 | Train Acc: 100.000| Val Acc: 89.583\n",
      "Epoch 011: | Train Loss: 0.20450 | Val Loss: 0.22172 | Train Acc: 100.000| Val Acc: 89.931\n",
      "Epoch 012: | Train Loss: 0.19526 | Val Loss: 0.22564 | Train Acc: 100.000| Val Acc: 89.699\n",
      "Epoch 013: | Train Loss: 0.19285 | Val Loss: 0.22712 | Train Acc: 100.000| Val Acc: 89.294\n",
      "Epoch 014: | Train Loss: 0.18542 | Val Loss: 0.22665 | Train Acc: 100.000| Val Acc: 90.220\n",
      "Epoch 015: | Train Loss: 0.17921 | Val Loss: 0.21994 | Train Acc: 100.000| Val Acc: 89.815\n",
      "Epoch 016: | Train Loss: 0.17085 | Val Loss: 0.24265 | Train Acc: 100.000| Val Acc: 89.873\n",
      "Epoch 017: | Train Loss: 0.16911 | Val Loss: 0.23027 | Train Acc: 100.000| Val Acc: 90.278\n",
      "Epoch 018: | Train Loss: 0.15959 | Val Loss: 0.24494 | Train Acc: 100.000| Val Acc: 89.062\n",
      "Epoch 019: | Train Loss: 0.15807 | Val Loss: 0.24392 | Train Acc: 100.000| Val Acc: 89.583\n",
      "Epoch 020: | Train Loss: 0.15213 | Val Loss: 0.24444 | Train Acc: 100.000| Val Acc: 89.815\n",
      "Epoch 021: | Train Loss: 0.15044 | Val Loss: 0.22957 | Train Acc: 100.000| Val Acc: 89.699\n",
      "Epoch 022: | Train Loss: 0.14251 | Val Loss: 0.24252 | Train Acc: 100.000| Val Acc: 89.468\n",
      "Epoch 023: | Train Loss: 0.13526 | Val Loss: 0.26454 | Train Acc: 100.000| Val Acc: 89.005\n",
      "Epoch 024: | Train Loss: 0.13801 | Val Loss: 0.26064 | Train Acc: 100.000| Val Acc: 89.931\n",
      "Epoch 025: | Train Loss: 0.13234 | Val Loss: 0.26946 | Train Acc: 100.000| Val Acc: 89.294\n",
      "Epoch 026: | Train Loss: 0.12395 | Val Loss: 0.27180 | Train Acc: 100.000| Val Acc: 89.641\n",
      "Epoch 027: | Train Loss: 0.12256 | Val Loss: 0.28071 | Train Acc: 100.000| Val Acc: 89.410\n",
      "Epoch 028: | Train Loss: 0.11692 | Val Loss: 0.26889 | Train Acc: 100.000| Val Acc: 89.525\n",
      "Epoch 029: | Train Loss: 0.12248 | Val Loss: 0.29871 | Train Acc: 100.000| Val Acc: 90.046\n",
      "Epoch 030: | Train Loss: 0.11126 | Val Loss: 0.26833 | Train Acc: 100.000| Val Acc: 89.873\n",
      "Epoch 031: | Train Loss: 0.11400 | Val Loss: 0.28262 | Train Acc: 100.000| Val Acc: 89.410\n",
      "Epoch 032: | Train Loss: 0.10942 | Val Loss: 0.30172 | Train Acc: 100.000| Val Acc: 88.657\n",
      "Epoch 033: | Train Loss: 0.10047 | Val Loss: 0.29989 | Train Acc: 100.000| Val Acc: 89.815\n",
      "Epoch 034: | Train Loss: 0.10054 | Val Loss: 0.28969 | Train Acc: 100.000| Val Acc: 89.120\n",
      "Epoch 035: | Train Loss: 0.10236 | Val Loss: 0.27727 | Train Acc: 100.000| Val Acc: 89.525\n",
      "Epoch 036: | Train Loss: 0.09766 | Val Loss: 0.31492 | Train Acc: 100.000| Val Acc: 89.294\n",
      "Epoch 037: | Train Loss: 0.09456 | Val Loss: 0.32952 | Train Acc: 100.000| Val Acc: 89.525\n",
      "Epoch 038: | Train Loss: 0.09120 | Val Loss: 0.34668 | Train Acc: 100.000| Val Acc: 89.294\n",
      "Epoch 039: | Train Loss: 0.08938 | Val Loss: 0.30737 | Train Acc: 100.000| Val Acc: 89.988\n",
      "Epoch 040: | Train Loss: 0.08907 | Val Loss: 0.31998 | Train Acc: 100.000| Val Acc: 89.525\n",
      "Epoch 041: | Train Loss: 0.08859 | Val Loss: 0.33322 | Train Acc: 100.000| Val Acc: 88.310\n",
      "Epoch 042: | Train Loss: 0.08124 | Val Loss: 0.34965 | Train Acc: 100.000| Val Acc: 89.352\n",
      "Epoch 043: | Train Loss: 0.08362 | Val Loss: 0.33767 | Train Acc: 100.000| Val Acc: 88.889\n",
      "Epoch 044: | Train Loss: 0.08232 | Val Loss: 0.36951 | Train Acc: 100.000| Val Acc: 89.699\n",
      "Epoch 045: | Train Loss: 0.07472 | Val Loss: 0.36062 | Train Acc: 100.000| Val Acc: 88.947\n",
      "Epoch 046: | Train Loss: 0.07635 | Val Loss: 0.36980 | Train Acc: 100.000| Val Acc: 88.310\n",
      "Epoch 047: | Train Loss: 0.07729 | Val Loss: 0.32714 | Train Acc: 100.000| Val Acc: 89.815\n",
      "Epoch 048: | Train Loss: 0.07291 | Val Loss: 0.38495 | Train Acc: 100.000| Val Acc: 90.162\n",
      "Epoch 049: | Train Loss: 0.07477 | Val Loss: 0.33213 | Train Acc: 100.000| Val Acc: 90.162\n",
      "Epoch 050: | Train Loss: 0.07571 | Val Loss: 0.34603 | Train Acc: 100.000| Val Acc: 89.988\n",
      "\n"
     ]
    }
   ],
   "source": [
    "print(\"training...\")\n",
    "for e in tqdm(range(1, EPOCHS+1)):\n",
    "    \n",
    "    # TRAINING\n",
    "    train_epoch_loss = 0\n",
    "    train_epoch_acc = 0\n",
    "    model.train()\n",
    "    for X_train_batch, y_train_batch in train_loader:\n",
    "        X_train_batch, y_train_batch = X_train_batch.to(device), y_train_batch.to(device)\n",
    "        optimizer.zero_grad()\n",
    "        \n",
    "        y_train_pred = model(X_train_batch)\n",
    "        \n",
    "        train_loss = criterion(y_train_pred, y_train_batch)\n",
    "        train_acc = multi_acc(y_train_pred, y_train_batch)\n",
    "        \n",
    "        train_loss.backward()\n",
    "        optimizer.step()\n",
    "        \n",
    "        train_epoch_loss += train_loss.item()\n",
    "        train_epoch_acc += train_acc.item()\n",
    "        \n",
    "        \n",
    "    # VALIDATION    \n",
    "    with torch.no_grad():\n",
    "        \n",
    "        val_epoch_loss = 0\n",
    "        val_epoch_acc = 0\n",
    "        \n",
    "        model.eval()\n",
    "        for X_val_batch, y_val_batch in val_loader:\n",
    "            X_val_batch, y_val_batch = X_val_batch.to(device), y_val_batch.to(device)\n",
    "            \n",
    "            y_val_pred = model(X_val_batch)\n",
    "                        \n",
    "            val_loss = criterion(y_val_pred, y_val_batch)\n",
    "            val_acc = multi_acc(y_val_pred, y_val_batch)\n",
    "            \n",
    "            val_epoch_loss += val_loss.item()\n",
    "            val_epoch_acc += val_acc.item()\n",
    "    loss_stats['train'].append(train_epoch_loss/len(train_loader))\n",
    "    loss_stats['val'].append(val_epoch_loss/len(val_loader))\n",
    "    accuracy_stats['train'].append(train_epoch_acc/len(train_loader))\n",
    "    accuracy_stats['val'].append(val_epoch_acc/len(val_loader))\n",
    "                              \n",
    "    \n",
    "    print(f'Epoch {e+0:03}: | Train Loss: {train_epoch_loss/len(train_loader):.5f} | Val Loss: {val_epoch_loss/len(val_loader):.5f} | Train Acc: {train_epoch_acc/len(train_loader):.3f}| Val Acc: {val_epoch_acc/len(val_loader):.3f}')"
   ]
  },
  {
   "cell_type": "code",
   "execution_count": 302,
   "metadata": {},
   "outputs": [
    {
     "data": {
      "text/plain": [
       "Text(0.5, 1.0, 'Train-Val Loss/Epoch')"
      ]
     },
     "execution_count": 302,
     "metadata": {},
     "output_type": "execute_result"
    },
    {
     "data": {
      "image/png": "[encoded data removed]",
      "text/plain": [
       "<Figure size 2000x700 with 2 Axes>"
      ]
     },
     "metadata": {},
     "output_type": "display_data"
    }
   ],
   "source": [
    "# Create dataframes\n",
    "train_val_acc_df = pd.DataFrame.from_dict(accuracy_stats).reset_index().melt(id_vars=['index']).rename(columns={\"index\":\"epochs\"})\n",
    "train_val_loss_df = pd.DataFrame.from_dict(loss_stats).reset_index().melt(id_vars=['index']).rename(columns={\"index\":\"epochs\"})\n",
    "# Plot the dataframes\n",
    "fig, axes = plt.subplots(nrows=1, ncols=2, figsize=(20,7))\n",
    "sns.lineplot(data=train_val_acc_df, x = \"epochs\", y=\"value\", hue=\"variable\",  ax=axes[0]).set_title('Train-Val Accuracy/Epoch')\n",
    "sns.lineplot(data=train_val_loss_df, x = \"epochs\", y=\"value\", hue=\"variable\", ax=axes[1]).set_title('Train-Val Loss/Epoch')"
   ]
  },
  {
   "cell_type": "markdown",
   "metadata": {},
   "source": [
    "Analizando la salida de las gráficas de Loss vemos que podemos plantearnos reentrenar el modelo con un número menor de Epochs, por ejemplo 20. También podemos plantearlos Regularización incrementando la Probabilidad del Dropout o un modelo más pequeño con menos capas o neuronas."
   ]
  },
  {
   "cell_type": "code",
   "execution_count": 303,
   "metadata": {},
   "outputs": [],
   "source": [
    "y_pred_list = []\n",
    "with torch.no_grad():\n",
    "    model.eval()\n",
    "    for X_batch, _ in test_loader:\n",
    "        X_batch = X_batch.to(device)\n",
    "        y_test_pred = model(X_batch)\n",
    "        y_pred_softmax = torch.log_softmax(y_test_pred, dim = 1)\n",
    "        _, y_pred_tags = torch.max(y_pred_softmax, dim = 1)\n",
    "        y_pred_list.append(y_pred_tags.cpu().numpy())\n",
    "y_pred_list = [a.squeeze().tolist() for a in y_pred_list]"
   ]
  },
  {
   "cell_type": "markdown",
   "metadata": {},
   "source": [
    "#### 2.7.- Validaciones y Conclusiones"
   ]
  },
  {
   "cell_type": "code",
   "execution_count": 304,
   "metadata": {},
   "outputs": [
    {
     "data": {
      "text/html": [
       "<div>\n",
       "<style scoped>\n",
       "    .dataframe tbody tr th:only-of-type {\n",
       "        vertical-align: middle;\n",
       "    }\n",
       "\n",
       "    .dataframe tbody tr th {\n",
       "        vertical-align: top;\n",
       "    }\n",
       "\n",
       "    .dataframe thead th {\n",
       "        text-align: right;\n",
       "    }\n",
       "</style>\n",
       "<table border=\"1\" class=\"dataframe\">\n",
       "  <thead>\n",
       "    <tr style=\"text-align: right;\">\n",
       "      <th></th>\n",
       "      <th>0</th>\n",
       "      <th>1</th>\n",
       "      <th>2</th>\n",
       "    </tr>\n",
       "  </thead>\n",
       "  <tbody>\n",
       "    <tr>\n",
       "      <th>0</th>\n",
       "      <td>1908</td>\n",
       "      <td>79</td>\n",
       "      <td>7</td>\n",
       "    </tr>\n",
       "    <tr>\n",
       "      <th>1</th>\n",
       "      <td>139</td>\n",
       "      <td>1425</td>\n",
       "      <td>81</td>\n",
       "    </tr>\n",
       "    <tr>\n",
       "      <th>2</th>\n",
       "      <td>5</td>\n",
       "      <td>132</td>\n",
       "      <td>544</td>\n",
       "    </tr>\n",
       "  </tbody>\n",
       "</table>\n",
       "</div>"
      ],
      "text/plain": [
       "      0     1    2\n",
       "0  1908    79    7\n",
       "1   139  1425   81\n",
       "2     5   132  544"
      ]
     },
     "execution_count": 304,
     "metadata": {},
     "output_type": "execute_result"
    }
   ],
   "source": [
    "confusion_matrix_df = pd.DataFrame(confusion_matrix(y_test, y_pred_list))\n",
    "confusion_matrix_df"
   ]
  },
  {
   "cell_type": "code",
   "execution_count": 305,
   "metadata": {},
   "outputs": [
    {
     "name": "stdout",
     "output_type": "stream",
     "text": [
      "              precision    recall  f1-score   support\n",
      "\n",
      "         0.0       0.93      0.96      0.94      1994\n",
      "         1.0       0.87      0.87      0.87      1645\n",
      "         2.0       0.86      0.80      0.83       681\n",
      "\n",
      "    accuracy                           0.90      4320\n",
      "   macro avg       0.89      0.87      0.88      4320\n",
      "weighted avg       0.90      0.90      0.90      4320\n",
      "\n"
     ]
    }
   ],
   "source": [
    "print(classification_report(y_test, y_pred_list))"
   ]
  },
  {
   "cell_type": "markdown",
   "metadata": {},
   "source": [
    "Las conclusiones del análisis son que funciona bastante bien a nivel accuracy el modelo pero sobre todo estamos satisfechos de la capacidad de predicción de la categoŕia Top, que es la menor, con un recall muy alto. \n",
    "Podemos concluir que la metodología es válida para el análisis de nuestros datos pero nos planteamos alternativas para evitar Overfitting."
   ]
  },
  {
   "cell_type": "markdown",
   "metadata": {},
   "source": [
    "#### 2.8.- Nueva Red y conclusiones\n",
    "menos Epoch=20 \n",
    "Regularizacón incrementando la probabilidad del Dropout para aumentar el Overfitting, el objetivo es desactivar neuronas para evitar el sobreajuste debido a un número de neuronas o capas muy grandes. "
   ]
  },
  {
   "cell_type": "code",
   "execution_count": 306,
   "metadata": {},
   "outputs": [],
   "source": [
    "class MulticlassClassification(nn.Module):\n",
    "    def __init__(self, num_feature, num_class):\n",
    "        super(MulticlassClassification, self).__init__()\n",
    "        \n",
    "        self.layer_1 = nn.Linear(num_feature, 512)\n",
    "        self.layer_2 = nn.Linear(512, 128)\n",
    "        self.layer_3 = nn.Linear(128, 64)\n",
    "        self.layer_out = nn.Linear(64, num_class) ## parametrizado al número de clases\n",
    "        \n",
    "        self.relu = nn.ReLU()\n",
    "        self.dropout = nn.Dropout(p=0.5) ## aumentamos el Dropout a 0.5\n",
    "        self.batchnorm1 = nn.BatchNorm1d(512)\n",
    "        self.batchnorm2 = nn.BatchNorm1d(128)\n",
    "        self.batchnorm3 = nn.BatchNorm1d(64)\n",
    "        \n",
    "    def forward(self, x):\n",
    "        x = self.layer_1(x)\n",
    "        x = self.batchnorm1(x)\n",
    "        x = self.relu(x)\n",
    "        \n",
    "        x = self.layer_2(x)\n",
    "        x = self.batchnorm2(x)\n",
    "        x = self.relu(x)\n",
    "        x = self.dropout(x)\n",
    "        \n",
    "        x = self.layer_3(x)\n",
    "        x = self.batchnorm3(x)\n",
    "        x = self.relu(x)\n",
    "        x = self.dropout(x)\n",
    "        \n",
    "        x = self.layer_out(x)\n",
    "        \n",
    "        return x"
   ]
  },
  {
   "cell_type": "code",
   "execution_count": 310,
   "metadata": {},
   "outputs": [],
   "source": [
    "EPOCHS = 20\n",
    "BATCH_SIZE = 16\n",
    "LEARNING_RATE = 0.001\n",
    "NUM_FEATURES = len(X.columns)\n",
    "NUM_CLASSES = 3"
   ]
  },
  {
   "cell_type": "code",
   "execution_count": 311,
   "metadata": {},
   "outputs": [
    {
     "name": "stdout",
     "output_type": "stream",
     "text": [
      "MulticlassClassification(\n",
      "  (layer_1): Linear(in_features=20, out_features=512, bias=True)\n",
      "  (layer_2): Linear(in_features=512, out_features=128, bias=True)\n",
      "  (layer_3): Linear(in_features=128, out_features=64, bias=True)\n",
      "  (layer_out): Linear(in_features=64, out_features=3, bias=True)\n",
      "  (relu): ReLU()\n",
      "  (dropout): Dropout(p=0.5, inplace=False)\n",
      "  (batchnorm1): BatchNorm1d(512, eps=1e-05, momentum=0.1, affine=True, track_running_stats=True)\n",
      "  (batchnorm2): BatchNorm1d(128, eps=1e-05, momentum=0.1, affine=True, track_running_stats=True)\n",
      "  (batchnorm3): BatchNorm1d(64, eps=1e-05, momentum=0.1, affine=True, track_running_stats=True)\n",
      ")\n"
     ]
    }
   ],
   "source": [
    "model = MulticlassClassification(num_feature = NUM_FEATURES, num_class=NUM_CLASSES)\n",
    "model.to(device)\n",
    "\n",
    "criterion = nn.CrossEntropyLoss()\n",
    "optimizer = optim.Adam(model.parameters(), lr=LEARNING_RATE)\n",
    "print(model)"
   ]
  },
  {
   "cell_type": "code",
   "execution_count": 312,
   "metadata": {},
   "outputs": [
    {
     "name": "stdout",
     "output_type": "stream",
     "text": [
      "training...\n"
     ]
    },
    {
     "data": {
      "application/vnd.jupyter.widget-view+json": {
       "model_id": "1e76ce0718a54d1abca7c7cee6e25ef4",
       "version_major": 2,
       "version_minor": 0
      },
      "text/plain": [
       "HBox(children=(FloatProgress(value=0.0, max=20.0), HTML(value='')))"
      ]
     },
     "metadata": {},
     "output_type": "display_data"
    },
    {
     "name": "stdout",
     "output_type": "stream",
     "text": [
      "Epoch 001: | Train Loss: 0.43777 | Val Loss: 0.27071 | Train Acc: 98.868| Val Acc: 87.847\n",
      "Epoch 002: | Train Loss: 0.35037 | Val Loss: 0.26189 | Train Acc: 99.897| Val Acc: 88.542\n",
      "Epoch 003: | Train Loss: 0.33082 | Val Loss: 0.26170 | Train Acc: 99.897| Val Acc: 88.715\n",
      "Epoch 004: | Train Loss: 0.30993 | Val Loss: 0.24132 | Train Acc: 99.794| Val Acc: 89.062\n",
      "Epoch 005: | Train Loss: 0.30146 | Val Loss: 0.24548 | Train Acc: 100.000| Val Acc: 88.889\n",
      "Epoch 006: | Train Loss: 0.29105 | Val Loss: 0.23593 | Train Acc: 99.897| Val Acc: 89.583\n",
      "Epoch 007: | Train Loss: 0.28429 | Val Loss: 0.23611 | Train Acc: 100.000| Val Acc: 89.005\n",
      "Epoch 008: | Train Loss: 0.28171 | Val Loss: 0.23200 | Train Acc: 100.000| Val Acc: 89.236\n",
      "Epoch 009: | Train Loss: 0.27079 | Val Loss: 0.23907 | Train Acc: 100.000| Val Acc: 88.368\n",
      "Epoch 010: | Train Loss: 0.26347 | Val Loss: 0.22428 | Train Acc: 100.000| Val Acc: 89.468\n",
      "Epoch 011: | Train Loss: 0.25693 | Val Loss: 0.22875 | Train Acc: 100.000| Val Acc: 89.352\n",
      "Epoch 012: | Train Loss: 0.25037 | Val Loss: 0.24299 | Train Acc: 100.000| Val Acc: 88.368\n",
      "Epoch 013: | Train Loss: 0.25191 | Val Loss: 0.23450 | Train Acc: 100.000| Val Acc: 89.236\n",
      "Epoch 014: | Train Loss: 0.24088 | Val Loss: 0.24529 | Train Acc: 100.000| Val Acc: 88.137\n",
      "Epoch 015: | Train Loss: 0.23759 | Val Loss: 0.22257 | Train Acc: 100.000| Val Acc: 89.873\n",
      "Epoch 016: | Train Loss: 0.23127 | Val Loss: 0.23315 | Train Acc: 100.000| Val Acc: 89.120\n",
      "Epoch 017: | Train Loss: 0.23416 | Val Loss: 0.23367 | Train Acc: 100.000| Val Acc: 89.352\n",
      "Epoch 018: | Train Loss: 0.22669 | Val Loss: 0.23902 | Train Acc: 100.000| Val Acc: 89.583\n",
      "Epoch 019: | Train Loss: 0.21998 | Val Loss: 0.23227 | Train Acc: 100.000| Val Acc: 89.641\n",
      "Epoch 020: | Train Loss: 0.21482 | Val Loss: 0.23971 | Train Acc: 100.000| Val Acc: 89.583\n",
      "\n"
     ]
    }
   ],
   "source": [
    "print(\"training...\")\n",
    "for e in tqdm(range(1, EPOCHS+1)):\n",
    "    \n",
    "    # TRAINING\n",
    "    train_epoch_loss = 0\n",
    "    train_epoch_acc = 0\n",
    "    model.train()\n",
    "    for X_train_batch, y_train_batch in train_loader:\n",
    "        X_train_batch, y_train_batch = X_train_batch.to(device), y_train_batch.to(device)\n",
    "        optimizer.zero_grad()\n",
    "        \n",
    "        y_train_pred = model(X_train_batch)\n",
    "        \n",
    "        train_loss = criterion(y_train_pred, y_train_batch)\n",
    "        train_acc = multi_acc(y_train_pred, y_train_batch)\n",
    "        \n",
    "        train_loss.backward()\n",
    "        optimizer.step()\n",
    "        \n",
    "        train_epoch_loss += train_loss.item()\n",
    "        train_epoch_acc += train_acc.item()\n",
    "        \n",
    "        \n",
    "    # VALIDATION    \n",
    "    with torch.no_grad():\n",
    "        \n",
    "        val_epoch_loss = 0\n",
    "        val_epoch_acc = 0\n",
    "        \n",
    "        model.eval()\n",
    "        for X_val_batch, y_val_batch in val_loader:\n",
    "            X_val_batch, y_val_batch = X_val_batch.to(device), y_val_batch.to(device)\n",
    "            \n",
    "            y_val_pred = model(X_val_batch)\n",
    "                        \n",
    "            val_loss = criterion(y_val_pred, y_val_batch)\n",
    "            val_acc = multi_acc(y_val_pred, y_val_batch)\n",
    "            \n",
    "            val_epoch_loss += val_loss.item()\n",
    "            val_epoch_acc += val_acc.item()\n",
    "    loss_stats['train'].append(train_epoch_loss/len(train_loader))\n",
    "    loss_stats['val'].append(val_epoch_loss/len(val_loader))\n",
    "    accuracy_stats['train'].append(train_epoch_acc/len(train_loader))\n",
    "    accuracy_stats['val'].append(val_epoch_acc/len(val_loader))\n",
    "                              \n",
    "    \n",
    "    print(f'Epoch {e+0:03}: | Train Loss: {train_epoch_loss/len(train_loader):.5f} | Val Loss: {val_epoch_loss/len(val_loader):.5f} | Train Acc: {train_epoch_acc/len(train_loader):.3f}| Val Acc: {val_epoch_acc/len(val_loader):.3f}')"
   ]
  },
  {
   "cell_type": "code",
   "execution_count": 317,
   "metadata": {},
   "outputs": [],
   "source": [
    "y_pred_list = []\n",
    "with torch.no_grad():\n",
    "    model.eval()\n",
    "    for X_batch, _ in test_loader:\n",
    "        X_batch = X_batch.to(device)\n",
    "        y_test_pred = model(X_batch)\n",
    "        y_pred_softmax = torch.log_softmax(y_test_pred, dim = 1)\n",
    "        _, y_pred_tags = torch.max(y_pred_softmax, dim = 1)\n",
    "        y_pred_list.append(y_pred_tags.cpu().numpy())\n",
    "y_pred_list = [a.squeeze().tolist() for a in y_pred_list]"
   ]
  },
  {
   "cell_type": "code",
   "execution_count": 318,
   "metadata": {},
   "outputs": [
    {
     "data": {
      "text/html": [
       "<div>\n",
       "<style scoped>\n",
       "    .dataframe tbody tr th:only-of-type {\n",
       "        vertical-align: middle;\n",
       "    }\n",
       "\n",
       "    .dataframe tbody tr th {\n",
       "        vertical-align: top;\n",
       "    }\n",
       "\n",
       "    .dataframe thead th {\n",
       "        text-align: right;\n",
       "    }\n",
       "</style>\n",
       "<table border=\"1\" class=\"dataframe\">\n",
       "  <thead>\n",
       "    <tr style=\"text-align: right;\">\n",
       "      <th></th>\n",
       "      <th>0</th>\n",
       "      <th>1</th>\n",
       "      <th>2</th>\n",
       "    </tr>\n",
       "  </thead>\n",
       "  <tbody>\n",
       "    <tr>\n",
       "      <th>0</th>\n",
       "      <td>1890</td>\n",
       "      <td>95</td>\n",
       "      <td>9</td>\n",
       "    </tr>\n",
       "    <tr>\n",
       "      <th>1</th>\n",
       "      <td>111</td>\n",
       "      <td>1387</td>\n",
       "      <td>147</td>\n",
       "    </tr>\n",
       "    <tr>\n",
       "      <th>2</th>\n",
       "      <td>1</td>\n",
       "      <td>68</td>\n",
       "      <td>612</td>\n",
       "    </tr>\n",
       "  </tbody>\n",
       "</table>\n",
       "</div>"
      ],
      "text/plain": [
       "      0     1    2\n",
       "0  1890    95    9\n",
       "1   111  1387  147\n",
       "2     1    68  612"
      ]
     },
     "execution_count": 318,
     "metadata": {},
     "output_type": "execute_result"
    }
   ],
   "source": [
    "confusion_matrix_df = pd.DataFrame(confusion_matrix(y_test, y_pred_list))\n",
    "confusion_matrix_df"
   ]
  },
  {
   "cell_type": "code",
   "execution_count": 319,
   "metadata": {},
   "outputs": [
    {
     "name": "stdout",
     "output_type": "stream",
     "text": [
      "              precision    recall  f1-score   support\n",
      "\n",
      "         0.0       0.94      0.95      0.95      1994\n",
      "         1.0       0.89      0.84      0.87      1645\n",
      "         2.0       0.80      0.90      0.84       681\n",
      "\n",
      "    accuracy                           0.90      4320\n",
      "   macro avg       0.88      0.90      0.89      4320\n",
      "weighted avg       0.90      0.90      0.90      4320\n",
      "\n"
     ]
    }
   ],
   "source": [
    "print(classification_report(y_test, y_pred_list))"
   ]
  },
  {
   "cell_type": "markdown",
   "metadata": {},
   "source": [
    "Funciona mejor para predecir el grupo 2 Top, mucha mejora del Recall."
   ]
  },
  {
   "cell_type": "markdown",
   "metadata": {},
   "source": [
    "#### 2.8.- Tree after Net"
   ]
  },
  {
   "cell_type": "code",
   "execution_count": 322,
   "metadata": {},
   "outputs": [
    {
     "data": {
      "image/png": "[encoded data removed]",
      "text/plain": [
       "<Figure size 600x400 with 1 Axes>"
      ]
     },
     "metadata": {},
     "output_type": "display_data"
    }
   ],
   "source": [
    "clf2 = DecisionTreeClassifier(max_leaf_nodes=6).fit(X_test, y_pred_list)\n",
    "plot_tree(clf2, filled=True,feature_names=X.columns)\n",
    "plt.show()"
   ]
  },
  {
   "cell_type": "markdown",
   "metadata": {},
   "source": [
    "Las variables más determinantes para explicar la variabilidad del Cluster dentro de nuestros datos son...\n",
    "##### Posicionamiento Geográfico\n",
    "##### Antigüedad de la vivienda\n",
    "##### Reforma\n",
    "##### Metros Cuadrados\n",
    "##### Número de Visitas "
   ]
  },
  {
   "cell_type": "code",
   "execution_count": null,
   "metadata": {},
   "outputs": [],
   "source": []
  }
 ],
 "metadata": {
  "kernelspec": {
   "display_name": "Python 3",
   "language": "python",
   "name": "python3"
  },
  "language_info": {
   "codemirror_mode": {
    "name": "ipython",
    "version": 3
   },
   "file_extension": ".py",
   "mimetype": "text/x-python",
   "name": "python",
   "nbconvert_exporter": "python",
   "pygments_lexer": "ipython3",
   "version": "3.7.6"
  }
 },
 "nbformat": 4,
 "nbformat_minor": 4
}
