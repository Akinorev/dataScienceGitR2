{
 "cells": [
  {
   "cell_type": "markdown",
   "metadata": {},
   "source": [
    "## 4.-SMOTE"
   ]
  },
  {
   "cell_type": "markdown",
   "metadata": {},
   "source": [
    "Objetivo, Binario 1/0 definido por el percentil 75 de la variable Price de la Base de datos dada que determina aquellas viviendas de precio más elevado como el la primera Red salvo que vamos a desbalancear nuestra muestra de categorías 1 para el aprendizaje de la técnica."
   ]
  },
  {
   "cell_type": "markdown",
   "metadata": {},
   "source": [
    "#### Breve visión de Synthetic Minority Oversampling Technique"
   ]
  },
  {
   "cell_type": "markdown",
   "metadata": {},
   "source": [
    "Un problema de clasificación desequilibrada sucede cuando existen muy poco casos de la clase o clases minoritarias para que el modelo pueda aprender 'the decision boundary'. A priori una forma de resolver este problema es sobremuestrear la clase minoritaria. Con esto podemos equilibrar la muestra pero no aporta información al modelo.\n",
    "La alternativa es sitetizar nuevos ejemplos de la clase minoritara."
   ]
  },
  {
   "cell_type": "markdown",
   "metadata": {},
   "source": [
    "This technique was described by Nitesh Chawla, et al. in their 2002 paper named for the technique titled “SMOTE: Synthetic Minority Over-sampling Technique.”"
   ]
  },
  {
   "cell_type": "markdown",
   "metadata": {},
   "source": [
    "SMOTE funciona seleccionando ejemplos que están cerca en el espacio de características, simulando una línea entre los ejemplos en el espacio de características y generando una nueva muestra en un punto a lo largo de esa línea.\n",
    "Primero se elige un ejemplo aleatorio para posteriormente seleccionar los k vecinos más cercanos. Se elige un vecino seleccionado al azar y se crea un ejemplo sintético en un punto seleccionado al azar entre los dos ejemplos en el espacio de características."
   ]
  },
  {
   "cell_type": "markdown",
   "metadata": {},
   "source": [
    "Esta metodología la podemos emplear para generar tantos ejemplos sintéticos de la clase minoritaria como consideremos necesario."
   ]
  },
  {
   "cell_type": "markdown",
   "metadata": {},
   "source": [
    "Para abordar el trabajo con nuestra técnica vamos a 'manipular' nuestra base de datos creada en los anteriores modelos reduciendo en el caso del modelo binario el número de unos de forma significativa y generar nuevos ejemplos sintéticos con la metodología SMOTE."
   ]
  },
  {
   "cell_type": "markdown",
   "metadata": {},
   "source": [
    "###  índice\n",
    "##### 4.1.- Importamos la BBDD\n",
    "##### 4.2.- EDA html\n",
    "##### 4.3.- Balanceo de la BBDD\n",
    "##### 4.4.- Tratamiento de Variables. Limpieza y preparación\n",
    "##### 4.5.- Split Train, Validation, Test\n",
    "##### 4.6.- Transformación de la Escala de los Datos\n",
    "##### 4.7.- Without SMOTE y un Random Forest sencillo y rápido\n",
    "##### 4.8.- SMOTE\n",
    "##### 4.9.- Conclusiones\n",
    "##### 4.10.- Alternativa 1. Modificamos Class Weights en el modelo\n",
    "##### 4.11.- Alternativa 2. Naives Bayes\n",
    "##### 4.12.- Ranking Resultados Recall Clase1\n",
    "##### \n",
    "##### \n",
    "\n"
   ]
  },
  {
   "cell_type": "markdown",
   "metadata": {},
   "source": [
    "#### 4.1.- Importamos la BBDD"
   ]
  },
  {
   "cell_type": "code",
   "execution_count": null,
   "metadata": {},
   "outputs": [],
   "source": [
    "import pandas as pd\n",
    "import numpy as np\n",
    "import seaborn as sns\n",
    "import imblearn\n",
    "from imblearn.over_sampling import SMOTE\n",
    "from sklearn.preprocessing import OrdinalEncoder\n",
    "from sklearn.preprocessing import StandardScaler \n",
    "from sklearn.preprocessing import MinMaxScaler    \n",
    "from sklearn.model_selection import train_test_split\n",
    "from imblearn.over_sampling import SMOTE\n",
    "from sklearn.metrics import confusion_matrix, classification_report\n",
    "from tqdm.notebook import tqdm\n",
    "import matplotlib.pyplot as plt\n",
    "from sklearn.ensemble import RandomForestClassifier\n",
    "from sklearn.datasets import make_classification\n",
    "import warnings\n",
    "warnings.filterwarnings('ignore')\n",
    "import sweetviz as sv\n",
    "from sklearn.naive_bayes import GaussianNB"
   ]
  },
  {
   "cell_type": "code",
   "execution_count": 333,
   "metadata": {},
   "outputs": [
    {
     "data": {
      "text/html": [
       "<div>\n",
       "<style scoped>\n",
       "    .dataframe tbody tr th:only-of-type {\n",
       "        vertical-align: middle;\n",
       "    }\n",
       "\n",
       "    .dataframe tbody tr th {\n",
       "        vertical-align: top;\n",
       "    }\n",
       "\n",
       "    .dataframe thead th {\n",
       "        text-align: right;\n",
       "    }\n",
       "</style>\n",
       "<table border=\"1\" class=\"dataframe\">\n",
       "  <thead>\n",
       "    <tr style=\"text-align: right;\">\n",
       "      <th></th>\n",
       "      <th>Unnamed: 0</th>\n",
       "      <th>X.1</th>\n",
       "      <th>X</th>\n",
       "      <th>Y</th>\n",
       "      <th>id</th>\n",
       "      <th>date</th>\n",
       "      <th>price</th>\n",
       "      <th>bedrooms</th>\n",
       "      <th>bathrooms</th>\n",
       "      <th>sqft_living</th>\n",
       "      <th>...</th>\n",
       "      <th>yr_renovated</th>\n",
       "      <th>zipcode</th>\n",
       "      <th>lat</th>\n",
       "      <th>long</th>\n",
       "      <th>sqft_living15</th>\n",
       "      <th>sqft_lot15</th>\n",
       "      <th>cluster</th>\n",
       "      <th>hclust</th>\n",
       "      <th>Cluster_final</th>\n",
       "      <th>y</th>\n",
       "    </tr>\n",
       "  </thead>\n",
       "  <tbody>\n",
       "    <tr>\n",
       "      <th>0</th>\n",
       "      <td>1</td>\n",
       "      <td>1</td>\n",
       "      <td>3.762164</td>\n",
       "      <td>22.445021</td>\n",
       "      <td>7129300520</td>\n",
       "      <td>10/13/2014</td>\n",
       "      <td>221900.0</td>\n",
       "      <td>3</td>\n",
       "      <td>1.00</td>\n",
       "      <td>1180</td>\n",
       "      <td>...</td>\n",
       "      <td>0</td>\n",
       "      <td>98178</td>\n",
       "      <td>47.5112</td>\n",
       "      <td>-122.257</td>\n",
       "      <td>1340</td>\n",
       "      <td>5650</td>\n",
       "      <td>1</td>\n",
       "      <td>1</td>\n",
       "      <td>low</td>\n",
       "      <td>0</td>\n",
       "    </tr>\n",
       "    <tr>\n",
       "      <th>1</th>\n",
       "      <td>2</td>\n",
       "      <td>2</td>\n",
       "      <td>-24.035975</td>\n",
       "      <td>9.766915</td>\n",
       "      <td>6414100192</td>\n",
       "      <td>12/9/2014</td>\n",
       "      <td>538000.0</td>\n",
       "      <td>3</td>\n",
       "      <td>2.25</td>\n",
       "      <td>2570</td>\n",
       "      <td>...</td>\n",
       "      <td>1991</td>\n",
       "      <td>98125</td>\n",
       "      <td>47.7210</td>\n",
       "      <td>-122.319</td>\n",
       "      <td>1690</td>\n",
       "      <td>7639</td>\n",
       "      <td>1</td>\n",
       "      <td>2</td>\n",
       "      <td>top</td>\n",
       "      <td>0</td>\n",
       "    </tr>\n",
       "    <tr>\n",
       "      <th>2</th>\n",
       "      <td>3</td>\n",
       "      <td>3</td>\n",
       "      <td>5.217015</td>\n",
       "      <td>8.102678</td>\n",
       "      <td>5631500400</td>\n",
       "      <td>2/25/2015</td>\n",
       "      <td>180000.0</td>\n",
       "      <td>2</td>\n",
       "      <td>1.00</td>\n",
       "      <td>770</td>\n",
       "      <td>...</td>\n",
       "      <td>0</td>\n",
       "      <td>98028</td>\n",
       "      <td>47.7379</td>\n",
       "      <td>-122.233</td>\n",
       "      <td>2720</td>\n",
       "      <td>8062</td>\n",
       "      <td>1</td>\n",
       "      <td>3</td>\n",
       "      <td>med</td>\n",
       "      <td>0</td>\n",
       "    </tr>\n",
       "    <tr>\n",
       "      <th>3</th>\n",
       "      <td>4</td>\n",
       "      <td>4</td>\n",
       "      <td>7.588730</td>\n",
       "      <td>18.967730</td>\n",
       "      <td>2487200875</td>\n",
       "      <td>12/9/2014</td>\n",
       "      <td>604000.0</td>\n",
       "      <td>4</td>\n",
       "      <td>3.00</td>\n",
       "      <td>1960</td>\n",
       "      <td>...</td>\n",
       "      <td>0</td>\n",
       "      <td>98136</td>\n",
       "      <td>47.5208</td>\n",
       "      <td>-122.393</td>\n",
       "      <td>1360</td>\n",
       "      <td>5000</td>\n",
       "      <td>2</td>\n",
       "      <td>1</td>\n",
       "      <td>low</td>\n",
       "      <td>0</td>\n",
       "    </tr>\n",
       "    <tr>\n",
       "      <th>4</th>\n",
       "      <td>5</td>\n",
       "      <td>5</td>\n",
       "      <td>0.666181</td>\n",
       "      <td>3.939548</td>\n",
       "      <td>1954400510</td>\n",
       "      <td>2/18/2015</td>\n",
       "      <td>510000.0</td>\n",
       "      <td>3</td>\n",
       "      <td>2.00</td>\n",
       "      <td>1680</td>\n",
       "      <td>...</td>\n",
       "      <td>0</td>\n",
       "      <td>98074</td>\n",
       "      <td>47.6168</td>\n",
       "      <td>-122.045</td>\n",
       "      <td>1800</td>\n",
       "      <td>7503</td>\n",
       "      <td>3</td>\n",
       "      <td>3</td>\n",
       "      <td>med</td>\n",
       "      <td>0</td>\n",
       "    </tr>\n",
       "  </tbody>\n",
       "</table>\n",
       "<p>5 rows × 29 columns</p>\n",
       "</div>"
      ],
      "text/plain": [
       "   Unnamed: 0  X.1          X          Y          id        date     price  \\\n",
       "0           1    1   3.762164  22.445021  7129300520  10/13/2014  221900.0   \n",
       "1           2    2 -24.035975   9.766915  6414100192   12/9/2014  538000.0   \n",
       "2           3    3   5.217015   8.102678  5631500400   2/25/2015  180000.0   \n",
       "3           4    4   7.588730  18.967730  2487200875   12/9/2014  604000.0   \n",
       "4           5    5   0.666181   3.939548  1954400510   2/18/2015  510000.0   \n",
       "\n",
       "   bedrooms  bathrooms  sqft_living  ...  yr_renovated  zipcode      lat  \\\n",
       "0         3       1.00         1180  ...             0    98178  47.5112   \n",
       "1         3       2.25         2570  ...          1991    98125  47.7210   \n",
       "2         2       1.00          770  ...             0    98028  47.7379   \n",
       "3         4       3.00         1960  ...             0    98136  47.5208   \n",
       "4         3       2.00         1680  ...             0    98074  47.6168   \n",
       "\n",
       "      long  sqft_living15  sqft_lot15  cluster  hclust  Cluster_final  y  \n",
       "0 -122.257           1340        5650        1       1            low  0  \n",
       "1 -122.319           1690        7639        1       2            top  0  \n",
       "2 -122.233           2720        8062        1       3            med  0  \n",
       "3 -122.393           1360        5000        2       1            low  0  \n",
       "4 -122.045           1800        7503        3       3            med  0  \n",
       "\n",
       "[5 rows x 29 columns]"
      ]
     },
     "execution_count": 333,
     "metadata": {},
     "output_type": "execute_result"
    }
   ],
   "source": [
    "# load the dataset\n",
    "df = pd.read_csv('cluster.txt', sep=\",\")\n",
    "df['y']= np.where(df['price']>=645000, 1, 0)\n",
    "df.head()"
   ]
  },
  {
   "cell_type": "markdown",
   "metadata": {},
   "source": [
    "#### 4.2.- EDA html"
   ]
  },
  {
   "cell_type": "code",
   "execution_count": 288,
   "metadata": {},
   "outputs": [
    {
     "name": "stderr",
     "output_type": "stream",
     "text": [
      ":FEATURES DONE:                    |                     | [  0%]   00:41  -> (00:00 left)\n",
      ":PAIRWISE DONE:                    |█████████████████████| [100%]   00:09  -> (00:00 left)\n"
     ]
    },
    {
     "name": "stdout",
     "output_type": "stream",
     "text": [
      "Creating Associations graph... DONE!\n"
     ]
    }
   ],
   "source": [
    "#analyzing the dataset\n",
    "advert_report = sv.analyze(df)\n",
    "#display the report\n",
    "advert_report.show_html('Advertising.html')"
   ]
  },
  {
   "cell_type": "code",
   "execution_count": 334,
   "metadata": {},
   "outputs": [
    {
     "data": {
      "text/plain": [
       "<matplotlib.axes._subplots.AxesSubplot at 0x7f50e57c92d0>"
      ]
     },
     "execution_count": 334,
     "metadata": {},
     "output_type": "execute_result"
    },
    {
     "data": {
      "image/png": "[encoded data removed]",
      "text/plain": [
       "<Figure size 600x400 with 1 Axes>"
      ]
     },
     "metadata": {},
     "output_type": "display_data"
    }
   ],
   "source": [
    "sns.countplot(x = 'y', data=df)"
   ]
  },
  {
   "cell_type": "code",
   "execution_count": 335,
   "metadata": {},
   "outputs": [
    {
     "data": {
      "text/plain": [
       "0    16186\n",
       "1     5411\n",
       "Name: y, dtype: int64"
      ]
     },
     "execution_count": 335,
     "metadata": {},
     "output_type": "execute_result"
    }
   ],
   "source": [
    "df['y'] .value_counts()"
   ]
  },
  {
   "cell_type": "markdown",
   "metadata": {},
   "source": [
    "#### 4.3.- Balanceo de la BBDD"
   ]
  },
  {
   "cell_type": "markdown",
   "metadata": {},
   "source": [
    "Tenemos en la base actual 33% aproximado de los casos 1. Vamos a variar esta relación y quedarnos con un 2% de los casos positivos para aplicar la técnica. 325 casos aproximadamente."
   ]
  },
  {
   "cell_type": "code",
   "execution_count": 336,
   "metadata": {},
   "outputs": [],
   "source": [
    "base0=df[df['y']==0]"
   ]
  },
  {
   "cell_type": "code",
   "execution_count": 337,
   "metadata": {},
   "outputs": [],
   "source": [
    "base1=df[df['y']==1]"
   ]
  },
  {
   "cell_type": "code",
   "execution_count": 338,
   "metadata": {},
   "outputs": [],
   "source": [
    "sample1=base1.sample(n=325, random_state=737)"
   ]
  },
  {
   "cell_type": "code",
   "execution_count": 339,
   "metadata": {},
   "outputs": [
    {
     "data": {
      "text/html": [
       "<div>\n",
       "<style scoped>\n",
       "    .dataframe tbody tr th:only-of-type {\n",
       "        vertical-align: middle;\n",
       "    }\n",
       "\n",
       "    .dataframe tbody tr th {\n",
       "        vertical-align: top;\n",
       "    }\n",
       "\n",
       "    .dataframe thead th {\n",
       "        text-align: right;\n",
       "    }\n",
       "</style>\n",
       "<table border=\"1\" class=\"dataframe\">\n",
       "  <thead>\n",
       "    <tr style=\"text-align: right;\">\n",
       "      <th></th>\n",
       "      <th>Unnamed: 0</th>\n",
       "      <th>X.1</th>\n",
       "      <th>X</th>\n",
       "      <th>Y</th>\n",
       "      <th>id</th>\n",
       "      <th>date</th>\n",
       "      <th>price</th>\n",
       "      <th>bedrooms</th>\n",
       "      <th>bathrooms</th>\n",
       "      <th>sqft_living</th>\n",
       "      <th>...</th>\n",
       "      <th>yr_renovated</th>\n",
       "      <th>zipcode</th>\n",
       "      <th>lat</th>\n",
       "      <th>long</th>\n",
       "      <th>sqft_living15</th>\n",
       "      <th>sqft_lot15</th>\n",
       "      <th>cluster</th>\n",
       "      <th>hclust</th>\n",
       "      <th>Cluster_final</th>\n",
       "      <th>y</th>\n",
       "    </tr>\n",
       "  </thead>\n",
       "  <tbody>\n",
       "    <tr>\n",
       "      <th>19455</th>\n",
       "      <td>19456</td>\n",
       "      <td>19456</td>\n",
       "      <td>8.944327</td>\n",
       "      <td>0.113959</td>\n",
       "      <td>2566300100</td>\n",
       "      <td>3/27/2015</td>\n",
       "      <td>1390000.0</td>\n",
       "      <td>5</td>\n",
       "      <td>1.75</td>\n",
       "      <td>2650</td>\n",
       "      <td>...</td>\n",
       "      <td>0</td>\n",
       "      <td>98004</td>\n",
       "      <td>47.6260</td>\n",
       "      <td>-122.213</td>\n",
       "      <td>2780</td>\n",
       "      <td>13204</td>\n",
       "      <td>2</td>\n",
       "      <td>3</td>\n",
       "      <td>med</td>\n",
       "      <td>1</td>\n",
       "    </tr>\n",
       "    <tr>\n",
       "      <th>12201</th>\n",
       "      <td>12202</td>\n",
       "      <td>12202</td>\n",
       "      <td>-14.491330</td>\n",
       "      <td>12.231148</td>\n",
       "      <td>4154303215</td>\n",
       "      <td>8/28/2014</td>\n",
       "      <td>902000.0</td>\n",
       "      <td>3</td>\n",
       "      <td>2.75</td>\n",
       "      <td>3240</td>\n",
       "      <td>...</td>\n",
       "      <td>0</td>\n",
       "      <td>98118</td>\n",
       "      <td>47.5670</td>\n",
       "      <td>-122.273</td>\n",
       "      <td>2700</td>\n",
       "      <td>7200</td>\n",
       "      <td>1</td>\n",
       "      <td>6</td>\n",
       "      <td>med</td>\n",
       "      <td>1</td>\n",
       "    </tr>\n",
       "    <tr>\n",
       "      <th>4395</th>\n",
       "      <td>4396</td>\n",
       "      <td>4396</td>\n",
       "      <td>-8.618289</td>\n",
       "      <td>-16.262289</td>\n",
       "      <td>524069019</td>\n",
       "      <td>11/20/2014</td>\n",
       "      <td>1150000.0</td>\n",
       "      <td>4</td>\n",
       "      <td>3.25</td>\n",
       "      <td>4400</td>\n",
       "      <td>...</td>\n",
       "      <td>0</td>\n",
       "      <td>98075</td>\n",
       "      <td>47.5927</td>\n",
       "      <td>-122.064</td>\n",
       "      <td>3240</td>\n",
       "      <td>9791</td>\n",
       "      <td>3</td>\n",
       "      <td>8</td>\n",
       "      <td>top</td>\n",
       "      <td>1</td>\n",
       "    </tr>\n",
       "    <tr>\n",
       "      <th>11367</th>\n",
       "      <td>11368</td>\n",
       "      <td>11368</td>\n",
       "      <td>-1.557660</td>\n",
       "      <td>-16.809941</td>\n",
       "      <td>3860900003</td>\n",
       "      <td>6/17/2014</td>\n",
       "      <td>1170000.0</td>\n",
       "      <td>4</td>\n",
       "      <td>2.50</td>\n",
       "      <td>2570</td>\n",
       "      <td>...</td>\n",
       "      <td>0</td>\n",
       "      <td>98004</td>\n",
       "      <td>47.5930</td>\n",
       "      <td>-122.197</td>\n",
       "      <td>2570</td>\n",
       "      <td>9588</td>\n",
       "      <td>3</td>\n",
       "      <td>8</td>\n",
       "      <td>top</td>\n",
       "      <td>1</td>\n",
       "    </tr>\n",
       "    <tr>\n",
       "      <th>896</th>\n",
       "      <td>897</td>\n",
       "      <td>897</td>\n",
       "      <td>-4.115891</td>\n",
       "      <td>-14.979852</td>\n",
       "      <td>4298100240</td>\n",
       "      <td>8/5/2014</td>\n",
       "      <td>660000.0</td>\n",
       "      <td>3</td>\n",
       "      <td>2.50</td>\n",
       "      <td>2680</td>\n",
       "      <td>...</td>\n",
       "      <td>0</td>\n",
       "      <td>98077</td>\n",
       "      <td>47.7637</td>\n",
       "      <td>-122.050</td>\n",
       "      <td>2670</td>\n",
       "      <td>32130</td>\n",
       "      <td>3</td>\n",
       "      <td>8</td>\n",
       "      <td>top</td>\n",
       "      <td>1</td>\n",
       "    </tr>\n",
       "    <tr>\n",
       "      <th>...</th>\n",
       "      <td>...</td>\n",
       "      <td>...</td>\n",
       "      <td>...</td>\n",
       "      <td>...</td>\n",
       "      <td>...</td>\n",
       "      <td>...</td>\n",
       "      <td>...</td>\n",
       "      <td>...</td>\n",
       "      <td>...</td>\n",
       "      <td>...</td>\n",
       "      <td>...</td>\n",
       "      <td>...</td>\n",
       "      <td>...</td>\n",
       "      <td>...</td>\n",
       "      <td>...</td>\n",
       "      <td>...</td>\n",
       "      <td>...</td>\n",
       "      <td>...</td>\n",
       "      <td>...</td>\n",
       "      <td>...</td>\n",
       "      <td>...</td>\n",
       "    </tr>\n",
       "    <tr>\n",
       "      <th>4963</th>\n",
       "      <td>4964</td>\n",
       "      <td>4964</td>\n",
       "      <td>-26.676326</td>\n",
       "      <td>5.622063</td>\n",
       "      <td>6918700130</td>\n",
       "      <td>8/11/2014</td>\n",
       "      <td>749000.0</td>\n",
       "      <td>3</td>\n",
       "      <td>2.50</td>\n",
       "      <td>3380</td>\n",
       "      <td>...</td>\n",
       "      <td>2003</td>\n",
       "      <td>98008</td>\n",
       "      <td>47.6276</td>\n",
       "      <td>-122.122</td>\n",
       "      <td>1810</td>\n",
       "      <td>7308</td>\n",
       "      <td>3</td>\n",
       "      <td>2</td>\n",
       "      <td>top</td>\n",
       "      <td>1</td>\n",
       "    </tr>\n",
       "    <tr>\n",
       "      <th>10368</th>\n",
       "      <td>10369</td>\n",
       "      <td>10369</td>\n",
       "      <td>-5.058434</td>\n",
       "      <td>27.684397</td>\n",
       "      <td>8825900310</td>\n",
       "      <td>12/11/2014</td>\n",
       "      <td>730000.0</td>\n",
       "      <td>4</td>\n",
       "      <td>2.50</td>\n",
       "      <td>2030</td>\n",
       "      <td>...</td>\n",
       "      <td>0</td>\n",
       "      <td>98115</td>\n",
       "      <td>47.6753</td>\n",
       "      <td>-122.311</td>\n",
       "      <td>1980</td>\n",
       "      <td>4080</td>\n",
       "      <td>1</td>\n",
       "      <td>1</td>\n",
       "      <td>low</td>\n",
       "      <td>1</td>\n",
       "    </tr>\n",
       "    <tr>\n",
       "      <th>10617</th>\n",
       "      <td>10618</td>\n",
       "      <td>10618</td>\n",
       "      <td>11.302730</td>\n",
       "      <td>0.759022</td>\n",
       "      <td>2581900036</td>\n",
       "      <td>6/12/2014</td>\n",
       "      <td>743000.0</td>\n",
       "      <td>3</td>\n",
       "      <td>1.75</td>\n",
       "      <td>2110</td>\n",
       "      <td>...</td>\n",
       "      <td>0</td>\n",
       "      <td>98040</td>\n",
       "      <td>47.5402</td>\n",
       "      <td>-122.216</td>\n",
       "      <td>2560</td>\n",
       "      <td>10992</td>\n",
       "      <td>2</td>\n",
       "      <td>3</td>\n",
       "      <td>med</td>\n",
       "      <td>1</td>\n",
       "    </tr>\n",
       "    <tr>\n",
       "      <th>13947</th>\n",
       "      <td>13948</td>\n",
       "      <td>13948</td>\n",
       "      <td>-5.597032</td>\n",
       "      <td>-14.262017</td>\n",
       "      <td>924069210</td>\n",
       "      <td>6/3/2014</td>\n",
       "      <td>695000.0</td>\n",
       "      <td>4</td>\n",
       "      <td>2.50</td>\n",
       "      <td>2961</td>\n",
       "      <td>...</td>\n",
       "      <td>0</td>\n",
       "      <td>98075</td>\n",
       "      <td>47.5839</td>\n",
       "      <td>-122.052</td>\n",
       "      <td>2620</td>\n",
       "      <td>17749</td>\n",
       "      <td>3</td>\n",
       "      <td>8</td>\n",
       "      <td>top</td>\n",
       "      <td>1</td>\n",
       "    </tr>\n",
       "    <tr>\n",
       "      <th>5108</th>\n",
       "      <td>5109</td>\n",
       "      <td>5109</td>\n",
       "      <td>-8.924558</td>\n",
       "      <td>24.466333</td>\n",
       "      <td>2533300130</td>\n",
       "      <td>7/16/2014</td>\n",
       "      <td>800000.0</td>\n",
       "      <td>3</td>\n",
       "      <td>2.50</td>\n",
       "      <td>1630</td>\n",
       "      <td>...</td>\n",
       "      <td>0</td>\n",
       "      <td>98119</td>\n",
       "      <td>47.6452</td>\n",
       "      <td>-122.371</td>\n",
       "      <td>1630</td>\n",
       "      <td>3000</td>\n",
       "      <td>1</td>\n",
       "      <td>1</td>\n",
       "      <td>low</td>\n",
       "      <td>1</td>\n",
       "    </tr>\n",
       "  </tbody>\n",
       "</table>\n",
       "<p>325 rows × 29 columns</p>\n",
       "</div>"
      ],
      "text/plain": [
       "       Unnamed: 0    X.1          X          Y          id        date  \\\n",
       "19455       19456  19456   8.944327   0.113959  2566300100   3/27/2015   \n",
       "12201       12202  12202 -14.491330  12.231148  4154303215   8/28/2014   \n",
       "4395         4396   4396  -8.618289 -16.262289   524069019  11/20/2014   \n",
       "11367       11368  11368  -1.557660 -16.809941  3860900003   6/17/2014   \n",
       "896           897    897  -4.115891 -14.979852  4298100240    8/5/2014   \n",
       "...           ...    ...        ...        ...         ...         ...   \n",
       "4963         4964   4964 -26.676326   5.622063  6918700130   8/11/2014   \n",
       "10368       10369  10369  -5.058434  27.684397  8825900310  12/11/2014   \n",
       "10617       10618  10618  11.302730   0.759022  2581900036   6/12/2014   \n",
       "13947       13948  13948  -5.597032 -14.262017   924069210    6/3/2014   \n",
       "5108         5109   5109  -8.924558  24.466333  2533300130   7/16/2014   \n",
       "\n",
       "           price  bedrooms  bathrooms  sqft_living  ...  yr_renovated  \\\n",
       "19455  1390000.0         5       1.75         2650  ...             0   \n",
       "12201   902000.0         3       2.75         3240  ...             0   \n",
       "4395   1150000.0         4       3.25         4400  ...             0   \n",
       "11367  1170000.0         4       2.50         2570  ...             0   \n",
       "896     660000.0         3       2.50         2680  ...             0   \n",
       "...          ...       ...        ...          ...  ...           ...   \n",
       "4963    749000.0         3       2.50         3380  ...          2003   \n",
       "10368   730000.0         4       2.50         2030  ...             0   \n",
       "10617   743000.0         3       1.75         2110  ...             0   \n",
       "13947   695000.0         4       2.50         2961  ...             0   \n",
       "5108    800000.0         3       2.50         1630  ...             0   \n",
       "\n",
       "       zipcode      lat     long  sqft_living15  sqft_lot15  cluster  hclust  \\\n",
       "19455    98004  47.6260 -122.213           2780       13204        2       3   \n",
       "12201    98118  47.5670 -122.273           2700        7200        1       6   \n",
       "4395     98075  47.5927 -122.064           3240        9791        3       8   \n",
       "11367    98004  47.5930 -122.197           2570        9588        3       8   \n",
       "896      98077  47.7637 -122.050           2670       32130        3       8   \n",
       "...        ...      ...      ...            ...         ...      ...     ...   \n",
       "4963     98008  47.6276 -122.122           1810        7308        3       2   \n",
       "10368    98115  47.6753 -122.311           1980        4080        1       1   \n",
       "10617    98040  47.5402 -122.216           2560       10992        2       3   \n",
       "13947    98075  47.5839 -122.052           2620       17749        3       8   \n",
       "5108     98119  47.6452 -122.371           1630        3000        1       1   \n",
       "\n",
       "       Cluster_final  y  \n",
       "19455            med  1  \n",
       "12201            med  1  \n",
       "4395             top  1  \n",
       "11367            top  1  \n",
       "896              top  1  \n",
       "...              ... ..  \n",
       "4963             top  1  \n",
       "10368            low  1  \n",
       "10617            med  1  \n",
       "13947            top  1  \n",
       "5108             low  1  \n",
       "\n",
       "[325 rows x 29 columns]"
      ]
     },
     "execution_count": 339,
     "metadata": {},
     "output_type": "execute_result"
    }
   ],
   "source": [
    "sample1"
   ]
  },
  {
   "cell_type": "markdown",
   "metadata": {},
   "source": [
    "Generamos un nuevo df con todos los casos 0 y la muestra de 325 con los valores 1"
   ]
  },
  {
   "cell_type": "code",
   "execution_count": 340,
   "metadata": {},
   "outputs": [],
   "source": [
    "base_smote=pd.concat([base0,sample1])"
   ]
  },
  {
   "cell_type": "markdown",
   "metadata": {},
   "source": [
    "Comprobamos la nueva distribución de la Base de Datos"
   ]
  },
  {
   "cell_type": "code",
   "execution_count": 341,
   "metadata": {},
   "outputs": [
    {
     "data": {
      "text/plain": [
       "<matplotlib.axes._subplots.AxesSubplot at 0x7f50e57e9c50>"
      ]
     },
     "execution_count": 341,
     "metadata": {},
     "output_type": "execute_result"
    },
    {
     "data": {
      "image/png": "[encoded data removed]",
      "text/plain": [
       "<Figure size 600x400 with 1 Axes>"
      ]
     },
     "metadata": {},
     "output_type": "display_data"
    }
   ],
   "source": [
    "sns.countplot(x = 'y', data=base_smote)"
   ]
  },
  {
   "cell_type": "code",
   "execution_count": 342,
   "metadata": {},
   "outputs": [
    {
     "data": {
      "text/plain": [
       "0    16186\n",
       "1      325\n",
       "Name: y, dtype: int64"
      ]
     },
     "execution_count": 342,
     "metadata": {},
     "output_type": "execute_result"
    }
   ],
   "source": [
    "base_smote['y'] .value_counts()"
   ]
  },
  {
   "cell_type": "markdown",
   "metadata": {},
   "source": [
    "#### 4.4.- Tratamiento de Variables. Limpieza y preparación"
   ]
  },
  {
   "cell_type": "code",
   "execution_count": 343,
   "metadata": {},
   "outputs": [],
   "source": [
    "# tratamiento de la Variable Cluster a Nivel Dummy\n",
    "dummy=pd.get_dummies(base_smote['Cluster_final'])\n",
    "base_smote=pd.concat([base_smote,dummy],axis=1)\n",
    "# tratamiento yr_renovated a flag \n",
    "base_smote['renova'] = np.where(base_smote['yr_renovated']>0, 1, 0)\n",
    "# tratamiento yr_built Numero de anyos de la vivienda\n",
    "base_smote['max_year']     = max(base_smote['yr_built'])\n",
    "base_smote['anyos']=(base_smote['max_year'] -base_smote['yr_built'])\n",
    "# Tratamiento de las fechas, crearemos una variable llamada Antigüedad en días de una vivienda \n",
    "#con respecto a la máxima fecha de la base de datos.\n",
    "base_smote['max']     = max(base_smote['date'])\n",
    "base_smote['max']     = pd.to_datetime(base_smote['max'] )\n",
    "base_smote['date']    = pd.to_datetime(base_smote['date'])\n",
    "base_smote['antiguedad']=(base_smote['date'] -base_smote['max']).apply(lambda x: x.days)"
   ]
  },
  {
   "cell_type": "code",
   "execution_count": 344,
   "metadata": {},
   "outputs": [
    {
     "data": {
      "text/html": [
       "<div>\n",
       "<style scoped>\n",
       "    .dataframe tbody tr th:only-of-type {\n",
       "        vertical-align: middle;\n",
       "    }\n",
       "\n",
       "    .dataframe tbody tr th {\n",
       "        vertical-align: top;\n",
       "    }\n",
       "\n",
       "    .dataframe thead th {\n",
       "        text-align: right;\n",
       "    }\n",
       "</style>\n",
       "<table border=\"1\" class=\"dataframe\">\n",
       "  <thead>\n",
       "    <tr style=\"text-align: right;\">\n",
       "      <th></th>\n",
       "      <th>Unnamed: 0</th>\n",
       "      <th>X.1</th>\n",
       "      <th>X</th>\n",
       "      <th>Y</th>\n",
       "      <th>id</th>\n",
       "      <th>date</th>\n",
       "      <th>price</th>\n",
       "      <th>bedrooms</th>\n",
       "      <th>bathrooms</th>\n",
       "      <th>sqft_living</th>\n",
       "      <th>...</th>\n",
       "      <th>Cluster_final</th>\n",
       "      <th>y</th>\n",
       "      <th>low</th>\n",
       "      <th>med</th>\n",
       "      <th>top</th>\n",
       "      <th>renova</th>\n",
       "      <th>max_year</th>\n",
       "      <th>anyos</th>\n",
       "      <th>max</th>\n",
       "      <th>antiguedad</th>\n",
       "    </tr>\n",
       "  </thead>\n",
       "  <tbody>\n",
       "    <tr>\n",
       "      <th>0</th>\n",
       "      <td>1</td>\n",
       "      <td>1</td>\n",
       "      <td>3.762164</td>\n",
       "      <td>22.445021</td>\n",
       "      <td>7129300520</td>\n",
       "      <td>2014-10-13</td>\n",
       "      <td>221900.0</td>\n",
       "      <td>3</td>\n",
       "      <td>1.00</td>\n",
       "      <td>1180</td>\n",
       "      <td>...</td>\n",
       "      <td>low</td>\n",
       "      <td>0</td>\n",
       "      <td>1</td>\n",
       "      <td>0</td>\n",
       "      <td>0</td>\n",
       "      <td>0</td>\n",
       "      <td>2015</td>\n",
       "      <td>60</td>\n",
       "      <td>2014-09-09</td>\n",
       "      <td>34</td>\n",
       "    </tr>\n",
       "    <tr>\n",
       "      <th>1</th>\n",
       "      <td>2</td>\n",
       "      <td>2</td>\n",
       "      <td>-24.035975</td>\n",
       "      <td>9.766915</td>\n",
       "      <td>6414100192</td>\n",
       "      <td>2014-12-09</td>\n",
       "      <td>538000.0</td>\n",
       "      <td>3</td>\n",
       "      <td>2.25</td>\n",
       "      <td>2570</td>\n",
       "      <td>...</td>\n",
       "      <td>top</td>\n",
       "      <td>0</td>\n",
       "      <td>0</td>\n",
       "      <td>0</td>\n",
       "      <td>1</td>\n",
       "      <td>1</td>\n",
       "      <td>2015</td>\n",
       "      <td>64</td>\n",
       "      <td>2014-09-09</td>\n",
       "      <td>91</td>\n",
       "    </tr>\n",
       "    <tr>\n",
       "      <th>2</th>\n",
       "      <td>3</td>\n",
       "      <td>3</td>\n",
       "      <td>5.217015</td>\n",
       "      <td>8.102678</td>\n",
       "      <td>5631500400</td>\n",
       "      <td>2015-02-25</td>\n",
       "      <td>180000.0</td>\n",
       "      <td>2</td>\n",
       "      <td>1.00</td>\n",
       "      <td>770</td>\n",
       "      <td>...</td>\n",
       "      <td>med</td>\n",
       "      <td>0</td>\n",
       "      <td>0</td>\n",
       "      <td>1</td>\n",
       "      <td>0</td>\n",
       "      <td>0</td>\n",
       "      <td>2015</td>\n",
       "      <td>82</td>\n",
       "      <td>2014-09-09</td>\n",
       "      <td>169</td>\n",
       "    </tr>\n",
       "    <tr>\n",
       "      <th>3</th>\n",
       "      <td>4</td>\n",
       "      <td>4</td>\n",
       "      <td>7.588730</td>\n",
       "      <td>18.967730</td>\n",
       "      <td>2487200875</td>\n",
       "      <td>2014-12-09</td>\n",
       "      <td>604000.0</td>\n",
       "      <td>4</td>\n",
       "      <td>3.00</td>\n",
       "      <td>1960</td>\n",
       "      <td>...</td>\n",
       "      <td>low</td>\n",
       "      <td>0</td>\n",
       "      <td>1</td>\n",
       "      <td>0</td>\n",
       "      <td>0</td>\n",
       "      <td>0</td>\n",
       "      <td>2015</td>\n",
       "      <td>50</td>\n",
       "      <td>2014-09-09</td>\n",
       "      <td>91</td>\n",
       "    </tr>\n",
       "    <tr>\n",
       "      <th>4</th>\n",
       "      <td>5</td>\n",
       "      <td>5</td>\n",
       "      <td>0.666181</td>\n",
       "      <td>3.939548</td>\n",
       "      <td>1954400510</td>\n",
       "      <td>2015-02-18</td>\n",
       "      <td>510000.0</td>\n",
       "      <td>3</td>\n",
       "      <td>2.00</td>\n",
       "      <td>1680</td>\n",
       "      <td>...</td>\n",
       "      <td>med</td>\n",
       "      <td>0</td>\n",
       "      <td>0</td>\n",
       "      <td>1</td>\n",
       "      <td>0</td>\n",
       "      <td>0</td>\n",
       "      <td>2015</td>\n",
       "      <td>28</td>\n",
       "      <td>2014-09-09</td>\n",
       "      <td>162</td>\n",
       "    </tr>\n",
       "  </tbody>\n",
       "</table>\n",
       "<p>5 rows × 37 columns</p>\n",
       "</div>"
      ],
      "text/plain": [
       "   Unnamed: 0  X.1          X          Y          id       date     price  \\\n",
       "0           1    1   3.762164  22.445021  7129300520 2014-10-13  221900.0   \n",
       "1           2    2 -24.035975   9.766915  6414100192 2014-12-09  538000.0   \n",
       "2           3    3   5.217015   8.102678  5631500400 2015-02-25  180000.0   \n",
       "3           4    4   7.588730  18.967730  2487200875 2014-12-09  604000.0   \n",
       "4           5    5   0.666181   3.939548  1954400510 2015-02-18  510000.0   \n",
       "\n",
       "   bedrooms  bathrooms  sqft_living  ...  Cluster_final  y  low  med  top  \\\n",
       "0         3       1.00         1180  ...            low  0    1    0    0   \n",
       "1         3       2.25         2570  ...            top  0    0    0    1   \n",
       "2         2       1.00          770  ...            med  0    0    1    0   \n",
       "3         4       3.00         1960  ...            low  0    1    0    0   \n",
       "4         3       2.00         1680  ...            med  0    0    1    0   \n",
       "\n",
       "   renova  max_year  anyos        max  antiguedad  \n",
       "0       0      2015     60 2014-09-09          34  \n",
       "1       1      2015     64 2014-09-09          91  \n",
       "2       0      2015     82 2014-09-09         169  \n",
       "3       0      2015     50 2014-09-09          91  \n",
       "4       0      2015     28 2014-09-09         162  \n",
       "\n",
       "[5 rows x 37 columns]"
      ]
     },
     "execution_count": 344,
     "metadata": {},
     "output_type": "execute_result"
    }
   ],
   "source": [
    "base_smote.head()"
   ]
  },
  {
   "cell_type": "code",
   "execution_count": 345,
   "metadata": {},
   "outputs": [
    {
     "data": {
      "text/html": [
       "<div>\n",
       "<style scoped>\n",
       "    .dataframe tbody tr th:only-of-type {\n",
       "        vertical-align: middle;\n",
       "    }\n",
       "\n",
       "    .dataframe tbody tr th {\n",
       "        vertical-align: top;\n",
       "    }\n",
       "\n",
       "    .dataframe thead th {\n",
       "        text-align: right;\n",
       "    }\n",
       "</style>\n",
       "<table border=\"1\" class=\"dataframe\">\n",
       "  <thead>\n",
       "    <tr style=\"text-align: right;\">\n",
       "      <th></th>\n",
       "      <th>bedrooms</th>\n",
       "      <th>bathrooms</th>\n",
       "      <th>sqft_living</th>\n",
       "      <th>sqft_lot</th>\n",
       "      <th>floors</th>\n",
       "      <th>waterfront</th>\n",
       "      <th>view</th>\n",
       "      <th>condition</th>\n",
       "      <th>grade</th>\n",
       "      <th>sqft_above</th>\n",
       "      <th>...</th>\n",
       "      <th>long</th>\n",
       "      <th>sqft_living15</th>\n",
       "      <th>sqft_lot15</th>\n",
       "      <th>y</th>\n",
       "      <th>low</th>\n",
       "      <th>med</th>\n",
       "      <th>top</th>\n",
       "      <th>renova</th>\n",
       "      <th>anyos</th>\n",
       "      <th>antiguedad</th>\n",
       "    </tr>\n",
       "    <tr>\n",
       "      <th>id</th>\n",
       "      <th></th>\n",
       "      <th></th>\n",
       "      <th></th>\n",
       "      <th></th>\n",
       "      <th></th>\n",
       "      <th></th>\n",
       "      <th></th>\n",
       "      <th></th>\n",
       "      <th></th>\n",
       "      <th></th>\n",
       "      <th></th>\n",
       "      <th></th>\n",
       "      <th></th>\n",
       "      <th></th>\n",
       "      <th></th>\n",
       "      <th></th>\n",
       "      <th></th>\n",
       "      <th></th>\n",
       "      <th></th>\n",
       "      <th></th>\n",
       "      <th></th>\n",
       "    </tr>\n",
       "  </thead>\n",
       "  <tbody>\n",
       "    <tr>\n",
       "      <th>7129300520</th>\n",
       "      <td>3</td>\n",
       "      <td>1.00</td>\n",
       "      <td>1180</td>\n",
       "      <td>5650</td>\n",
       "      <td>1.0</td>\n",
       "      <td>0</td>\n",
       "      <td>0</td>\n",
       "      <td>3</td>\n",
       "      <td>7</td>\n",
       "      <td>1180</td>\n",
       "      <td>...</td>\n",
       "      <td>-122.257</td>\n",
       "      <td>1340</td>\n",
       "      <td>5650</td>\n",
       "      <td>0</td>\n",
       "      <td>1</td>\n",
       "      <td>0</td>\n",
       "      <td>0</td>\n",
       "      <td>0</td>\n",
       "      <td>60</td>\n",
       "      <td>34</td>\n",
       "    </tr>\n",
       "    <tr>\n",
       "      <th>6414100192</th>\n",
       "      <td>3</td>\n",
       "      <td>2.25</td>\n",
       "      <td>2570</td>\n",
       "      <td>7242</td>\n",
       "      <td>2.0</td>\n",
       "      <td>0</td>\n",
       "      <td>0</td>\n",
       "      <td>3</td>\n",
       "      <td>7</td>\n",
       "      <td>2170</td>\n",
       "      <td>...</td>\n",
       "      <td>-122.319</td>\n",
       "      <td>1690</td>\n",
       "      <td>7639</td>\n",
       "      <td>0</td>\n",
       "      <td>0</td>\n",
       "      <td>0</td>\n",
       "      <td>1</td>\n",
       "      <td>1</td>\n",
       "      <td>64</td>\n",
       "      <td>91</td>\n",
       "    </tr>\n",
       "    <tr>\n",
       "      <th>5631500400</th>\n",
       "      <td>2</td>\n",
       "      <td>1.00</td>\n",
       "      <td>770</td>\n",
       "      <td>10000</td>\n",
       "      <td>1.0</td>\n",
       "      <td>0</td>\n",
       "      <td>0</td>\n",
       "      <td>3</td>\n",
       "      <td>6</td>\n",
       "      <td>770</td>\n",
       "      <td>...</td>\n",
       "      <td>-122.233</td>\n",
       "      <td>2720</td>\n",
       "      <td>8062</td>\n",
       "      <td>0</td>\n",
       "      <td>0</td>\n",
       "      <td>1</td>\n",
       "      <td>0</td>\n",
       "      <td>0</td>\n",
       "      <td>82</td>\n",
       "      <td>169</td>\n",
       "    </tr>\n",
       "    <tr>\n",
       "      <th>2487200875</th>\n",
       "      <td>4</td>\n",
       "      <td>3.00</td>\n",
       "      <td>1960</td>\n",
       "      <td>5000</td>\n",
       "      <td>1.0</td>\n",
       "      <td>0</td>\n",
       "      <td>0</td>\n",
       "      <td>5</td>\n",
       "      <td>7</td>\n",
       "      <td>1050</td>\n",
       "      <td>...</td>\n",
       "      <td>-122.393</td>\n",
       "      <td>1360</td>\n",
       "      <td>5000</td>\n",
       "      <td>0</td>\n",
       "      <td>1</td>\n",
       "      <td>0</td>\n",
       "      <td>0</td>\n",
       "      <td>0</td>\n",
       "      <td>50</td>\n",
       "      <td>91</td>\n",
       "    </tr>\n",
       "    <tr>\n",
       "      <th>1954400510</th>\n",
       "      <td>3</td>\n",
       "      <td>2.00</td>\n",
       "      <td>1680</td>\n",
       "      <td>8080</td>\n",
       "      <td>1.0</td>\n",
       "      <td>0</td>\n",
       "      <td>0</td>\n",
       "      <td>3</td>\n",
       "      <td>8</td>\n",
       "      <td>1680</td>\n",
       "      <td>...</td>\n",
       "      <td>-122.045</td>\n",
       "      <td>1800</td>\n",
       "      <td>7503</td>\n",
       "      <td>0</td>\n",
       "      <td>0</td>\n",
       "      <td>1</td>\n",
       "      <td>0</td>\n",
       "      <td>0</td>\n",
       "      <td>28</td>\n",
       "      <td>162</td>\n",
       "    </tr>\n",
       "  </tbody>\n",
       "</table>\n",
       "<p>5 rows × 23 columns</p>\n",
       "</div>"
      ],
      "text/plain": [
       "            bedrooms  bathrooms  sqft_living  sqft_lot  floors  waterfront  \\\n",
       "id                                                                           \n",
       "7129300520         3       1.00         1180      5650     1.0           0   \n",
       "6414100192         3       2.25         2570      7242     2.0           0   \n",
       "5631500400         2       1.00          770     10000     1.0           0   \n",
       "2487200875         4       3.00         1960      5000     1.0           0   \n",
       "1954400510         3       2.00         1680      8080     1.0           0   \n",
       "\n",
       "            view  condition  grade  sqft_above  ...     long  sqft_living15  \\\n",
       "id                                              ...                           \n",
       "7129300520     0          3      7        1180  ... -122.257           1340   \n",
       "6414100192     0          3      7        2170  ... -122.319           1690   \n",
       "5631500400     0          3      6         770  ... -122.233           2720   \n",
       "2487200875     0          5      7        1050  ... -122.393           1360   \n",
       "1954400510     0          3      8        1680  ... -122.045           1800   \n",
       "\n",
       "            sqft_lot15  y  low  med  top  renova  anyos  antiguedad  \n",
       "id                                                                   \n",
       "7129300520        5650  0    1    0    0       0     60          34  \n",
       "6414100192        7639  0    0    0    1       1     64          91  \n",
       "5631500400        8062  0    0    1    0       0     82         169  \n",
       "2487200875        5000  0    1    0    0       0     50          91  \n",
       "1954400510        7503  0    0    1    0       0     28         162  \n",
       "\n",
       "[5 rows x 23 columns]"
      ]
     },
     "execution_count": 345,
     "metadata": {},
     "output_type": "execute_result"
    }
   ],
   "source": [
    "del base_smote['date']\n",
    "del base_smote['max_year']\n",
    "del base_smote['max']\n",
    "del base_smote['cluster'] # eliminamos los otros análisis clústers\n",
    "del base_smote['hclust']\n",
    "del base_smote['price']\n",
    "del base_smote['Cluster_final']\n",
    "del base_smote['yr_renovated']\n",
    "del base_smote['yr_built']\n",
    "base_smote=base_smote.set_index('id')\n",
    "X=base_smote.iloc[:, 4:30]\n",
    "X.head(5)"
   ]
  },
  {
   "cell_type": "code",
   "execution_count": 346,
   "metadata": {},
   "outputs": [],
   "source": [
    "y=base_smote['y']\n",
    "del X['y']"
   ]
  },
  {
   "cell_type": "markdown",
   "metadata": {},
   "source": [
    "#### 4.5.- Split Train, Validation, Test."
   ]
  },
  {
   "cell_type": "code",
   "execution_count": 347,
   "metadata": {},
   "outputs": [],
   "source": [
    "# Split into train+val and test\n",
    "X_trainval, X_test, y_trainval, y_test = train_test_split(X, y, test_size=0.2, stratify=y,random_state=737)\n",
    "\n",
    "# Split train into train-val\n",
    "X_train, X_val, y_train, y_val = train_test_split(X_trainval, y_trainval, test_size=0.1, stratify=y_trainval,random_state=737)"
   ]
  },
  {
   "cell_type": "markdown",
   "metadata": {},
   "source": [
    "#### 4.6.- Transformación de la Escala de los Datos"
   ]
  },
  {
   "cell_type": "code",
   "execution_count": 348,
   "metadata": {},
   "outputs": [],
   "source": [
    "scaler = StandardScaler()\n",
    "X_train = scaler.fit_transform(X_train)\n",
    "X_val = scaler.fit_transform(X_val)\n",
    "X_test = scaler.fit_transform(X_test)"
   ]
  },
  {
   "cell_type": "markdown",
   "metadata": {},
   "source": [
    "#### 4.7.- Without SMOTE y un Random Forest sencillo y rápido"
   ]
  },
  {
   "cell_type": "code",
   "execution_count": 140,
   "metadata": {},
   "outputs": [],
   "source": [
    "clf = RandomForestClassifier(max_depth=10, random_state=737)"
   ]
  },
  {
   "cell_type": "code",
   "execution_count": 141,
   "metadata": {},
   "outputs": [],
   "source": [
    "# fit the model\n",
    "clf.fit(X_train, y_train.ravel())\n",
    "\n",
    "# prediction for training dataset\n",
    "train_pred = clf.predict(X_train)\n",
    "\n",
    "# prediction for training dataset\n",
    "val_pred = clf.predict(X_val)\n",
    "\n",
    "# prediction for testing dataset\n",
    "test_pred = clf.predict(X_test)"
   ]
  },
  {
   "cell_type": "code",
   "execution_count": 142,
   "metadata": {},
   "outputs": [
    {
     "name": "stdout",
     "output_type": "stream",
     "text": [
      "Accuracy score for Training Dataset   =  0.991923950534197\n",
      "Accuracy score for Validation Dataset =  0.9833459500378501\n",
      "Accuracy score for Testing Dataset    =  0.9866787768695126\n"
     ]
    }
   ],
   "source": [
    "print('Accuracy score for Training Dataset   = ', accuracy_score(train_pred, y_train))\n",
    "print('Accuracy score for Validation Dataset = ', accuracy_score(val_pred, y_val))\n",
    "print('Accuracy score for Testing Dataset    = ', accuracy_score(test_pred, y_test))"
   ]
  },
  {
   "cell_type": "code",
   "execution_count": 149,
   "metadata": {},
   "outputs": [
    {
     "name": "stdout",
     "output_type": "stream",
     "text": [
      "Confusion Matrix - Validation Dataset\n"
     ]
    },
    {
     "data": {
      "text/plain": [
       "array([[11653,     0],\n",
       "       [   96,   138]])"
      ]
     },
     "execution_count": 149,
     "metadata": {},
     "output_type": "execute_result"
    }
   ],
   "source": [
    "print('Confusion Matrix - Validation Dataset')\n",
    "confusion_matrix(y_train, train_pred)"
   ]
  },
  {
   "cell_type": "code",
   "execution_count": 150,
   "metadata": {},
   "outputs": [
    {
     "name": "stdout",
     "output_type": "stream",
     "text": [
      "Confusion Matrix - Validation Dataset\n"
     ]
    },
    {
     "data": {
      "text/plain": [
       "array([[1294,    1],\n",
       "       [  21,    5]])"
      ]
     },
     "execution_count": 150,
     "metadata": {},
     "output_type": "execute_result"
    }
   ],
   "source": [
    "print('Confusion Matrix - Validation Dataset')\n",
    "confusion_matrix(y_val, val_pred)"
   ]
  },
  {
   "cell_type": "code",
   "execution_count": 152,
   "metadata": {},
   "outputs": [
    {
     "name": "stdout",
     "output_type": "stream",
     "text": [
      "Confusion Matrix - Test Dataset\n"
     ]
    },
    {
     "data": {
      "text/plain": [
       "array([[3237,    1],\n",
       "       [  43,   22]])"
      ]
     },
     "execution_count": 152,
     "metadata": {},
     "output_type": "execute_result"
    }
   ],
   "source": [
    "print('Confusion Matrix - Test Dataset')\n",
    "confusion_matrix(y_test, test_pred)"
   ]
  },
  {
   "cell_type": "code",
   "execution_count": 148,
   "metadata": {},
   "outputs": [
    {
     "name": "stdout",
     "output_type": "stream",
     "text": [
      "              precision    recall  f1-score   support\n",
      "\n",
      "           0       0.99      1.00      0.99      3238\n",
      "           1       0.96      0.34      0.50        65\n",
      "\n",
      "    accuracy                           0.99      3303\n",
      "   macro avg       0.97      0.67      0.75      3303\n",
      "weighted avg       0.99      0.99      0.98      3303\n",
      "\n"
     ]
    }
   ],
   "source": [
    "print(classification_report(y_test, test_pred))"
   ]
  },
  {
   "cell_type": "markdown",
   "metadata": {},
   "source": [
    "Vemos en los resultados del RF que obtenemos unas métricas de Accuracy muy altas, 0.99 en el caso de la población Test pero muy malos resultados a la hora de predecir el grupo 1. \n",
    "Es por tanto necesario y conveniente aplicar las Técnicas de SMOTE"
   ]
  },
  {
   "cell_type": "markdown",
   "metadata": {},
   "source": [
    "#### 4.8.- With SMOTE"
   ]
  },
  {
   "cell_type": "code",
   "execution_count": 153,
   "metadata": {},
   "outputs": [],
   "source": [
    "sm = SMOTE(random_state = 737)"
   ]
  },
  {
   "cell_type": "code",
   "execution_count": 154,
   "metadata": {},
   "outputs": [],
   "source": [
    "X_train_new, y_train_new = sm.fit_sample(X_train, y_train.ravel())"
   ]
  },
  {
   "cell_type": "code",
   "execution_count": 156,
   "metadata": {},
   "outputs": [
    {
     "data": {
      "text/plain": [
       "<matplotlib.axes._subplots.AxesSubplot at 0x7f51a1e94710>"
      ]
     },
     "execution_count": 156,
     "metadata": {},
     "output_type": "execute_result"
    },
    {
     "data": {
      "image/png": "[encoded data removed]",
      "text/plain": [
       "<Figure size 432x288 with 1 Axes>"
      ]
     },
     "metadata": {
      "needs_background": "light"
     },
     "output_type": "display_data"
    }
   ],
   "source": [
    "# observe that data has been balanced\n",
    "pd.Series(y_train_new).value_counts().plot.bar()"
   ]
  },
  {
   "cell_type": "markdown",
   "metadata": {},
   "source": [
    "Una vez balanceados los datos de forma sintética vamos a reentrenar y validar el modelo RF"
   ]
  },
  {
   "cell_type": "code",
   "execution_count": 157,
   "metadata": {},
   "outputs": [],
   "source": [
    "# fit the model\n",
    "clf.fit(X_train_new, y_train_new)\n",
    "\n",
    "# prediction for Training data\n",
    "train_pred_sm = clf.predict(X_train_new)\n",
    "\n",
    "# prediction for validation data\n",
    "val_pred_sm = clf.predict(X_val)\n",
    "\n",
    "# prediction for Testing data\n",
    "test_pred_sm = clf.predict(X_test)"
   ]
  },
  {
   "cell_type": "code",
   "execution_count": 159,
   "metadata": {},
   "outputs": [
    {
     "name": "stdout",
     "output_type": "stream",
     "text": [
      "Accuracy score for SMOTE Training Dataset =  0.9928344632283532\n",
      "Accuracy score for Validation Dataset =  0.8872066616199848\n",
      "Accuracy score for Testing Dataset =  0.8907054193157735\n"
     ]
    }
   ],
   "source": [
    "print('Accuracy score for SMOTE Training Dataset = ', accuracy_score(train_pred_sm, y_train_new))\n",
    "print('Accuracy score for Validation Dataset = ', accuracy_score(val_pred_sm, y_val))\n",
    "print('Accuracy score for Testing Dataset = ', accuracy_score(test_pred_sm, y_test))"
   ]
  },
  {
   "cell_type": "code",
   "execution_count": 160,
   "metadata": {},
   "outputs": [
    {
     "name": "stdout",
     "output_type": "stream",
     "text": [
      "Confusion Matrix - Validation SMOTE Dataset\n"
     ]
    },
    {
     "data": {
      "text/plain": [
       "array([[11512,   141],\n",
       "       [   26, 11627]])"
      ]
     },
     "execution_count": 160,
     "metadata": {},
     "output_type": "execute_result"
    }
   ],
   "source": [
    "print('Confusion Matrix - TRAIN SMOTE Dataset')\n",
    "confusion_matrix(y_train_new, train_pred_sm)"
   ]
  },
  {
   "cell_type": "code",
   "execution_count": 162,
   "metadata": {},
   "outputs": [
    {
     "name": "stdout",
     "output_type": "stream",
     "text": [
      "Confusion Matrix - Validation SMOTE Dataset\n"
     ]
    },
    {
     "data": {
      "text/plain": [
       "array([[1148,  147],\n",
       "       [   2,   24]])"
      ]
     },
     "execution_count": 162,
     "metadata": {},
     "output_type": "execute_result"
    }
   ],
   "source": [
    "print('Confusion Matrix - Validation SMOTE Dataset')\n",
    "confusion_matrix(y_val, val_pred_sm)"
   ]
  },
  {
   "cell_type": "code",
   "execution_count": 163,
   "metadata": {},
   "outputs": [
    {
     "name": "stdout",
     "output_type": "stream",
     "text": [
      "Confusion Matrix - Test SMOTE Dataset\n"
     ]
    },
    {
     "data": {
      "text/plain": [
       "array([[2884,  354],\n",
       "       [   7,   58]])"
      ]
     },
     "execution_count": 163,
     "metadata": {},
     "output_type": "execute_result"
    }
   ],
   "source": [
    "print('Confusion Matrix - Test SMOTE Dataset')\n",
    "confusion_matrix(y_test, test_pred_sm)"
   ]
  },
  {
   "cell_type": "markdown",
   "metadata": {},
   "source": [
    "#### 4.9.- Conclusiones"
   ]
  },
  {
   "cell_type": "markdown",
   "metadata": {},
   "source": [
    "Observando los resultados de la distribucón de la población Test concluímos que hemos mejorado mucho la predicción de la categoría 1 aplicando las técnicas SMOTE. Aunque ya sabemos que no nos podemos fiar sólo del Accuracy tal y cómo hemos visto arriba."
   ]
  },
  {
   "cell_type": "code",
   "execution_count": 164,
   "metadata": {},
   "outputs": [
    {
     "name": "stdout",
     "output_type": "stream",
     "text": [
      "              precision    recall  f1-score   support\n",
      "\n",
      "           0       1.00      0.89      0.94      3238\n",
      "           1       0.14      0.89      0.24        65\n",
      "\n",
      "    accuracy                           0.89      3303\n",
      "   macro avg       0.57      0.89      0.59      3303\n",
      "weighted avg       0.98      0.89      0.93      3303\n",
      "\n"
     ]
    }
   ],
   "source": [
    "print(classification_report(y_test, test_pred_sm))"
   ]
  },
  {
   "cell_type": "markdown",
   "metadata": {},
   "source": [
    "En nuestro caso queríamos evitar a toda costa los Falsos Negaticos por lo que vamos a trabajar con el Recall, ya que partimos de la hipótesis de que hay un alto costo asociado al Falso Negativo. Viendo el resultado de 0.89 podemos estar más que satisfechos, en el RF sin SMOTE el Recall era de 0.34."
   ]
  },
  {
   "cell_type": "markdown",
   "metadata": {},
   "source": [
    "#### 4.10.- Alternativa 1. Modificamos los pesos de las Clases\n",
    "dentro del modelo RF vamos a acceder al class_weight y vamos a indicarle que balancee las muestras"
   ]
  },
  {
   "cell_type": "code",
   "execution_count": 349,
   "metadata": {},
   "outputs": [],
   "source": [
    "# Split into train+val and test\n",
    "X_trainval, X_test, y_trainval, y_test = train_test_split(X, y, test_size=0.2, stratify=y,random_state=737)\n",
    "# Split train into train-val\n",
    "X_train, X_val, y_train, y_val = train_test_split(X_trainval, y_trainval, test_size=0.1, stratify=y_trainval,random_state=737)\n",
    "\n",
    "scaler = StandardScaler()\n",
    "X_train = scaler.fit_transform(X_train)\n",
    "X_val = scaler.fit_transform(X_val)\n",
    "X_test = scaler.fit_transform(X_test)"
   ]
  },
  {
   "cell_type": "code",
   "execution_count": 350,
   "metadata": {},
   "outputs": [],
   "source": [
    "clf = RandomForestClassifier(max_depth=10, random_state=737,class_weight='balanced')"
   ]
  },
  {
   "cell_type": "code",
   "execution_count": 351,
   "metadata": {},
   "outputs": [],
   "source": [
    "# fit the model\n",
    "clf.fit(X_train, y_train.ravel())\n",
    "\n",
    "# prediction for training dataset\n",
    "train_pred = clf.predict(X_train)\n",
    "\n",
    "# prediction for training dataset\n",
    "val_pred = clf.predict(X_val)\n",
    "\n",
    "# prediction for testing dataset\n",
    "test_pred = clf.predict(X_test)"
   ]
  },
  {
   "cell_type": "code",
   "execution_count": 352,
   "metadata": {},
   "outputs": [
    {
     "name": "stdout",
     "output_type": "stream",
     "text": [
      "Accuracy score for Training Dataset   =  0.9924287036258097\n",
      "Accuracy score for Validation Dataset =  0.975775927327782\n",
      "Accuracy score for Testing Dataset    =  0.9851650015137754\n"
     ]
    }
   ],
   "source": [
    "print('Accuracy score for Training Dataset   = ', accuracy_score(train_pred, y_train))\n",
    "print('Accuracy score for Validation Dataset = ', accuracy_score(val_pred, y_val))\n",
    "print('Accuracy score for Testing Dataset    = ', accuracy_score(test_pred, y_test))"
   ]
  },
  {
   "cell_type": "code",
   "execution_count": 353,
   "metadata": {},
   "outputs": [
    {
     "name": "stdout",
     "output_type": "stream",
     "text": [
      "Confusion Matrix - Test Dataset\n"
     ]
    },
    {
     "data": {
      "text/plain": [
       "array([[3218,   20],\n",
       "       [  29,   36]])"
      ]
     },
     "execution_count": 353,
     "metadata": {},
     "output_type": "execute_result"
    }
   ],
   "source": [
    "print('Confusion Matrix - Test Dataset')\n",
    "confusion_matrix(y_test, test_pred)"
   ]
  },
  {
   "cell_type": "code",
   "execution_count": 354,
   "metadata": {},
   "outputs": [
    {
     "name": "stdout",
     "output_type": "stream",
     "text": [
      "              precision    recall  f1-score   support\n",
      "\n",
      "           0       0.99      0.99      0.99      3238\n",
      "           1       0.64      0.55      0.60        65\n",
      "\n",
      "    accuracy                           0.99      3303\n",
      "   macro avg       0.82      0.77      0.79      3303\n",
      "weighted avg       0.98      0.99      0.98      3303\n",
      "\n"
     ]
    }
   ],
   "source": [
    "print(classification_report(y_test, test_pred))"
   ]
  },
  {
   "cell_type": "markdown",
   "metadata": {},
   "source": [
    "Conclusiones, con la modificación del parámetro class weight dentro del modelo del RF vemos que se mejoran los resultados del recall con respecto a los datos orginales y la ejecución del modelo  0.55 sobre 0.34 que es nuestro objetivo fundamental pero no mejoran los resultados del SMOTE que son 0.89"
   ]
  },
  {
   "cell_type": "markdown",
   "metadata": {},
   "source": [
    "#### 4.11.- Alternativa 2. Naives Bayes"
   ]
  },
  {
   "cell_type": "markdown",
   "metadata": {},
   "source": [
    "Plantearemos el modelo Naives Bayes como segunda alternativa parametrizando los class prior como un array con diferentes pesos y valoraremos los resultados comparándolos con los anteriores."
   ]
  },
  {
   "cell_type": "code",
   "execution_count": 409,
   "metadata": {},
   "outputs": [],
   "source": [
    "# Split into train+val and test\n",
    "X_trainval, X_test, y_trainval, y_test = train_test_split(X, y, test_size=0.2, stratify=y,random_state=737)\n",
    "# Split train into train-val\n",
    "X_train, X_val, y_train, y_val = train_test_split(X_trainval, y_trainval, test_size=0.1, stratify=y_trainval,random_state=737)\n",
    "\n",
    "scaler  = StandardScaler()\n",
    "X_train = scaler.fit_transform(X_train)\n",
    "X_val   = scaler.fit_transform(X_val)\n",
    "X_test  = scaler.fit_transform(X_test)"
   ]
  },
  {
   "cell_type": "code",
   "execution_count": 365,
   "metadata": {},
   "outputs": [],
   "source": [
    "# Create Gaussian Naive Bayes object with prior probabilities of each class\n",
    "clf = GaussianNB(priors=[0.5, 0.5])\n",
    "\n",
    "# fit the model\n",
    "clf.fit(X_train, y_train.ravel())\n",
    "\n",
    "# prediction for training dataset\n",
    "train_pred = clf.predict(X_train)\n",
    "\n",
    "# prediction for training dataset\n",
    "val_pred = clf.predict(X_val)\n",
    "\n",
    "# prediction for testing dataset\n",
    "test_pred = clf.predict(X_test)"
   ]
  },
  {
   "cell_type": "code",
   "execution_count": 366,
   "metadata": {},
   "outputs": [
    {
     "name": "stdout",
     "output_type": "stream",
     "text": [
      "Accuracy score for Training Dataset   =  0.8876924371161773\n",
      "Accuracy score for Validation Dataset =  0.8932626797880394\n",
      "Accuracy score for Testing Dataset    =  0.8888888888888888\n"
     ]
    }
   ],
   "source": [
    "print('Accuracy score for Training Dataset   = ', accuracy_score(train_pred, y_train))\n",
    "print('Accuracy score for Validation Dataset = ', accuracy_score(val_pred, y_val))\n",
    "print('Accuracy score for Testing Dataset    = ', accuracy_score(test_pred, y_test))"
   ]
  },
  {
   "cell_type": "code",
   "execution_count": 367,
   "metadata": {},
   "outputs": [
    {
     "name": "stdout",
     "output_type": "stream",
     "text": [
      "Confusion Matrix - Test Dataset\n"
     ]
    },
    {
     "data": {
      "text/plain": [
       "array([[2892,  346],\n",
       "       [  21,   44]])"
      ]
     },
     "execution_count": 367,
     "metadata": {},
     "output_type": "execute_result"
    }
   ],
   "source": [
    "print('Confusion Matrix - Test Dataset')\n",
    "confusion_matrix(y_test, test_pred)"
   ]
  },
  {
   "cell_type": "code",
   "execution_count": 368,
   "metadata": {},
   "outputs": [
    {
     "name": "stdout",
     "output_type": "stream",
     "text": [
      "              precision    recall  f1-score   support\n",
      "\n",
      "           0       0.99      0.89      0.94      3238\n",
      "           1       0.11      0.68      0.19        65\n",
      "\n",
      "    accuracy                           0.89      3303\n",
      "   macro avg       0.55      0.79      0.57      3303\n",
      "weighted avg       0.98      0.89      0.93      3303\n",
      "\n"
     ]
    }
   ],
   "source": [
    "print(classification_report(y_test, test_pred))"
   ]
  },
  {
   "cell_type": "markdown",
   "metadata": {},
   "source": [
    "Obtenemos un recall de 0.68, mejoramos lode resultados del RF desbalanceado que era 0.10, así como los resultados del RF balanceado con los pesos cuyo recall era 0.55. Pero no mejoran los resultados del SMOTE."
   ]
  },
  {
   "cell_type": "markdown",
   "metadata": {},
   "source": [
    "#### 4.12.- Ranking Resultados Recall Clase1\n",
    "##### 1.- 0.89 SMOTE\n",
    "##### 2.- 0.68 Naive Bayes\n",
    "##### 3.- 0.55 Random Forest Class Weitgh\n",
    "##### 4.- 0.10 Random Forest muestra original"
   ]
  },
  {
   "cell_type": "code",
   "execution_count": null,
   "metadata": {},
   "outputs": [],
   "source": []
  },
  {
   "cell_type": "markdown",
   "metadata": {},
   "source": [
    "## 5.-Problema sintético multiclase desequilibrado"
   ]
  },
  {
   "cell_type": "markdown",
   "metadata": {},
   "source": [
    "Objetivo, Multiclase definido por la variable Cluster Final creada en la práctica de la asignatura ML I con tres categorías Low, Med y Top pero en este caso vamos a desbalancear la categoría Top al 3% sobre a base total para el aprendizaje de la técnica."
   ]
  },
  {
   "cell_type": "markdown",
   "metadata": {},
   "source": [
    "###  índice\n",
    "##### 5.1.-  Importamos la BBDD\n",
    "##### 5.2.-  Balanceo de la BBDD\n",
    "##### 5.3.-  Tratamiento de Variables. Limpieza y preparación\n",
    "##### 5.4.-  One Hot Encoding\n",
    "##### 5.5.-  Split Train, Validation, Test\n",
    "##### 5.6.-  Transformación de la Escala de los Datos\n",
    "##### 5.7.- Parámetros, entrenamiento y validación de la Red\n",
    "##### 5.8.- Técnica de reequilibrado fundamentada: ponderación en entrenamiento\n",
    "##### 5.9.- Validación y Conclusiones\n",
    "##### \n",
    "##### \n"
   ]
  },
  {
   "cell_type": "markdown",
   "metadata": {},
   "source": [
    "#### 5.1.- Importamos la BBDD"
   ]
  },
  {
   "cell_type": "code",
   "execution_count": 369,
   "metadata": {},
   "outputs": [],
   "source": [
    "import tensorflow as tf\n",
    "from tensorflow import keras\n",
    "from tensorflow.keras import layers\n",
    "#Sklearn\n",
    "\n",
    "from sklearn.model_selection import train_test_split\n",
    "from sklearn.preprocessing import StandardScaler\n",
    "from sklearn.preprocessing import OneHotEncoder\n",
    "from sklearn.preprocessing import LabelEncoder\n",
    "from sklearn.metrics import confusion_matrix\n",
    "\n",
    "#Keras\n",
    "\n",
    "from keras.models import Sequential\n",
    "from keras.layers import Dense"
   ]
  },
  {
   "cell_type": "code",
   "execution_count": 370,
   "metadata": {},
   "outputs": [
    {
     "data": {
      "text/plain": [
       "<matplotlib.axes._subplots.AxesSubplot at 0x7f50e4f12ad0>"
      ]
     },
     "execution_count": 370,
     "metadata": {},
     "output_type": "execute_result"
    },
    {
     "data": {
      "image/png": "[encoded data removed]",
      "text/plain": [
       "<Figure size 600x400 with 1 Axes>"
      ]
     },
     "metadata": {},
     "output_type": "display_data"
    }
   ],
   "source": [
    "# load the dataset\n",
    "new = pd.read_csv('cluster.txt', sep=\",\")\n",
    "sns.countplot(x = 'Cluster_final', data=new)"
   ]
  },
  {
   "cell_type": "code",
   "execution_count": 371,
   "metadata": {},
   "outputs": [
    {
     "data": {
      "text/plain": [
       "low    9970\n",
       "med    8225\n",
       "top    3402\n",
       "Name: Cluster_final, dtype: int64"
      ]
     },
     "execution_count": 371,
     "metadata": {},
     "output_type": "execute_result"
    }
   ],
   "source": [
    "new['Cluster_final'] .value_counts()"
   ]
  },
  {
   "cell_type": "markdown",
   "metadata": {},
   "source": [
    "Desbalanceamos a un 3% de la distribución. Aproximadamente 546 Tops."
   ]
  },
  {
   "cell_type": "markdown",
   "metadata": {},
   "source": [
    "#### 5.2.- Balanceo de la BBDD"
   ]
  },
  {
   "cell_type": "code",
   "execution_count": 372,
   "metadata": {},
   "outputs": [],
   "source": [
    "des_low=new[new['Cluster_final']=='low']\n",
    "des_med=new[new['Cluster_final']=='med']\n",
    "des_top=new[new['Cluster_final']=='top']"
   ]
  },
  {
   "cell_type": "code",
   "execution_count": 373,
   "metadata": {},
   "outputs": [],
   "source": [
    "des_top_sam=des_top.sample(n=546, random_state=737)"
   ]
  },
  {
   "cell_type": "code",
   "execution_count": 374,
   "metadata": {},
   "outputs": [
    {
     "data": {
      "text/plain": [
       "<matplotlib.axes._subplots.AxesSubplot at 0x7f51a1e1de50>"
      ]
     },
     "execution_count": 374,
     "metadata": {},
     "output_type": "execute_result"
    },
    {
     "data": {
      "image/png": "[encoded data removed]",
      "text/plain": [
       "<Figure size 600x400 with 1 Axes>"
      ]
     },
     "metadata": {},
     "output_type": "display_data"
    }
   ],
   "source": [
    "multi_des =pd.concat([des_low,des_med])\n",
    "multi_des =pd.concat([multi_des,des_top_sam])\n",
    "sns.countplot(x = 'Cluster_final', data=multi_des)"
   ]
  },
  {
   "cell_type": "code",
   "execution_count": 375,
   "metadata": {},
   "outputs": [
    {
     "data": {
      "text/plain": [
       "low    9970\n",
       "med    8225\n",
       "top     546\n",
       "Name: Cluster_final, dtype: int64"
      ]
     },
     "execution_count": 375,
     "metadata": {},
     "output_type": "execute_result"
    }
   ],
   "source": [
    "multi_des['Cluster_final'] .value_counts()"
   ]
  },
  {
   "cell_type": "markdown",
   "metadata": {},
   "source": [
    "#### 5.3.- Tratamiento de Variables. Limpieza y preparación\n",
    "Tratamiento ordinal de la variable Cluster, no es necesario transformarla a Dummy ya que es nuestra variable Objetivo"
   ]
  },
  {
   "cell_type": "code",
   "execution_count": 376,
   "metadata": {},
   "outputs": [
    {
     "data": {
      "text/plain": [
       "0.0    9970\n",
       "1.0    8225\n",
       "2.0     546\n",
       "Name: Cluster_final, dtype: int64"
      ]
     },
     "execution_count": 376,
     "metadata": {},
     "output_type": "execute_result"
    }
   ],
   "source": [
    "enc = OrdinalEncoder()\n",
    "multi_des[[\"Cluster_final\"]] = enc.fit_transform(multi_des[[\"Cluster_final\"]])\n",
    "multi_des['Cluster_final'] .value_counts()"
   ]
  },
  {
   "cell_type": "code",
   "execution_count": 378,
   "metadata": {},
   "outputs": [],
   "source": [
    "# tratamiento yr_renovated a flag \n",
    "multi_des['renova'] = np.where(multi_des['yr_renovated']>0, 1, 0)"
   ]
  },
  {
   "cell_type": "code",
   "execution_count": 379,
   "metadata": {},
   "outputs": [],
   "source": [
    "# tratamiento yr_built Numero de anyos de la vivienda\n",
    "multi_des['max_year']     = max(multi_des['yr_built'])\n",
    "multi_des['anyos']=(multi_des['max_year'] -multi_des['yr_built'])"
   ]
  },
  {
   "cell_type": "code",
   "execution_count": 381,
   "metadata": {},
   "outputs": [],
   "source": [
    "# Tratamiento de las fechas, crearemos una variable llamada Antigüedad en días de una vivienda \n",
    "#con respecto a la máxima fecha de la base de datos.\n",
    "multi_des['max']     = max(multi_des['date'])\n",
    "multi_des['max']     = pd.to_datetime(multi_des['max'] )\n",
    "multi_des['date']    = pd.to_datetime(multi_des['date'])\n",
    "multi_des['antiguedad']=(multi_des['date'] -multi_des['max']).apply(lambda x: x.days)"
   ]
  },
  {
   "cell_type": "code",
   "execution_count": 382,
   "metadata": {},
   "outputs": [
    {
     "data": {
      "text/html": [
       "<div>\n",
       "<style scoped>\n",
       "    .dataframe tbody tr th:only-of-type {\n",
       "        vertical-align: middle;\n",
       "    }\n",
       "\n",
       "    .dataframe tbody tr th {\n",
       "        vertical-align: top;\n",
       "    }\n",
       "\n",
       "    .dataframe thead th {\n",
       "        text-align: right;\n",
       "    }\n",
       "</style>\n",
       "<table border=\"1\" class=\"dataframe\">\n",
       "  <thead>\n",
       "    <tr style=\"text-align: right;\">\n",
       "      <th></th>\n",
       "      <th>price</th>\n",
       "      <th>bedrooms</th>\n",
       "      <th>bathrooms</th>\n",
       "      <th>sqft_living</th>\n",
       "      <th>sqft_lot</th>\n",
       "      <th>floors</th>\n",
       "      <th>waterfront</th>\n",
       "      <th>view</th>\n",
       "      <th>condition</th>\n",
       "      <th>grade</th>\n",
       "      <th>...</th>\n",
       "      <th>sqft_basement</th>\n",
       "      <th>zipcode</th>\n",
       "      <th>lat</th>\n",
       "      <th>long</th>\n",
       "      <th>sqft_living15</th>\n",
       "      <th>sqft_lot15</th>\n",
       "      <th>Cluster_final</th>\n",
       "      <th>renova</th>\n",
       "      <th>anyos</th>\n",
       "      <th>antiguedad</th>\n",
       "    </tr>\n",
       "    <tr>\n",
       "      <th>id</th>\n",
       "      <th></th>\n",
       "      <th></th>\n",
       "      <th></th>\n",
       "      <th></th>\n",
       "      <th></th>\n",
       "      <th></th>\n",
       "      <th></th>\n",
       "      <th></th>\n",
       "      <th></th>\n",
       "      <th></th>\n",
       "      <th></th>\n",
       "      <th></th>\n",
       "      <th></th>\n",
       "      <th></th>\n",
       "      <th></th>\n",
       "      <th></th>\n",
       "      <th></th>\n",
       "      <th></th>\n",
       "      <th></th>\n",
       "      <th></th>\n",
       "      <th></th>\n",
       "    </tr>\n",
       "  </thead>\n",
       "  <tbody>\n",
       "    <tr>\n",
       "      <th>7129300520</th>\n",
       "      <td>221900.0</td>\n",
       "      <td>3</td>\n",
       "      <td>1.00</td>\n",
       "      <td>1180</td>\n",
       "      <td>5650</td>\n",
       "      <td>1.0</td>\n",
       "      <td>0</td>\n",
       "      <td>0</td>\n",
       "      <td>3</td>\n",
       "      <td>7</td>\n",
       "      <td>...</td>\n",
       "      <td>0</td>\n",
       "      <td>98178</td>\n",
       "      <td>47.5112</td>\n",
       "      <td>-122.257</td>\n",
       "      <td>1340</td>\n",
       "      <td>5650</td>\n",
       "      <td>0.0</td>\n",
       "      <td>0</td>\n",
       "      <td>60</td>\n",
       "      <td>-226</td>\n",
       "    </tr>\n",
       "    <tr>\n",
       "      <th>2487200875</th>\n",
       "      <td>604000.0</td>\n",
       "      <td>4</td>\n",
       "      <td>3.00</td>\n",
       "      <td>1960</td>\n",
       "      <td>5000</td>\n",
       "      <td>1.0</td>\n",
       "      <td>0</td>\n",
       "      <td>0</td>\n",
       "      <td>5</td>\n",
       "      <td>7</td>\n",
       "      <td>...</td>\n",
       "      <td>910</td>\n",
       "      <td>98136</td>\n",
       "      <td>47.5208</td>\n",
       "      <td>-122.393</td>\n",
       "      <td>1360</td>\n",
       "      <td>5000</td>\n",
       "      <td>0.0</td>\n",
       "      <td>0</td>\n",
       "      <td>50</td>\n",
       "      <td>-169</td>\n",
       "    </tr>\n",
       "    <tr>\n",
       "      <th>1321400060</th>\n",
       "      <td>257500.0</td>\n",
       "      <td>3</td>\n",
       "      <td>2.25</td>\n",
       "      <td>1715</td>\n",
       "      <td>6819</td>\n",
       "      <td>2.0</td>\n",
       "      <td>0</td>\n",
       "      <td>0</td>\n",
       "      <td>3</td>\n",
       "      <td>7</td>\n",
       "      <td>...</td>\n",
       "      <td>0</td>\n",
       "      <td>98003</td>\n",
       "      <td>47.3097</td>\n",
       "      <td>-122.327</td>\n",
       "      <td>2238</td>\n",
       "      <td>6819</td>\n",
       "      <td>0.0</td>\n",
       "      <td>0</td>\n",
       "      <td>20</td>\n",
       "      <td>-334</td>\n",
       "    </tr>\n",
       "    <tr>\n",
       "      <th>3793500160</th>\n",
       "      <td>323000.0</td>\n",
       "      <td>3</td>\n",
       "      <td>2.50</td>\n",
       "      <td>1890</td>\n",
       "      <td>6560</td>\n",
       "      <td>2.0</td>\n",
       "      <td>0</td>\n",
       "      <td>0</td>\n",
       "      <td>3</td>\n",
       "      <td>7</td>\n",
       "      <td>...</td>\n",
       "      <td>0</td>\n",
       "      <td>98038</td>\n",
       "      <td>47.3684</td>\n",
       "      <td>-122.031</td>\n",
       "      <td>2390</td>\n",
       "      <td>7570</td>\n",
       "      <td>0.0</td>\n",
       "      <td>0</td>\n",
       "      <td>12</td>\n",
       "      <td>-76</td>\n",
       "    </tr>\n",
       "    <tr>\n",
       "      <th>9212900260</th>\n",
       "      <td>468000.0</td>\n",
       "      <td>2</td>\n",
       "      <td>1.00</td>\n",
       "      <td>1160</td>\n",
       "      <td>6000</td>\n",
       "      <td>1.0</td>\n",
       "      <td>0</td>\n",
       "      <td>0</td>\n",
       "      <td>4</td>\n",
       "      <td>7</td>\n",
       "      <td>...</td>\n",
       "      <td>300</td>\n",
       "      <td>98115</td>\n",
       "      <td>47.6900</td>\n",
       "      <td>-122.292</td>\n",
       "      <td>1330</td>\n",
       "      <td>6000</td>\n",
       "      <td>0.0</td>\n",
       "      <td>0</td>\n",
       "      <td>73</td>\n",
       "      <td>-365</td>\n",
       "    </tr>\n",
       "  </tbody>\n",
       "</table>\n",
       "<p>5 rows × 21 columns</p>\n",
       "</div>"
      ],
      "text/plain": [
       "               price  bedrooms  bathrooms  sqft_living  sqft_lot  floors  \\\n",
       "id                                                                         \n",
       "7129300520  221900.0         3       1.00         1180      5650     1.0   \n",
       "2487200875  604000.0         4       3.00         1960      5000     1.0   \n",
       "1321400060  257500.0         3       2.25         1715      6819     2.0   \n",
       "3793500160  323000.0         3       2.50         1890      6560     2.0   \n",
       "9212900260  468000.0         2       1.00         1160      6000     1.0   \n",
       "\n",
       "            waterfront  view  condition  grade  ...  sqft_basement  zipcode  \\\n",
       "id                                              ...                           \n",
       "7129300520           0     0          3      7  ...              0    98178   \n",
       "2487200875           0     0          5      7  ...            910    98136   \n",
       "1321400060           0     0          3      7  ...              0    98003   \n",
       "3793500160           0     0          3      7  ...              0    98038   \n",
       "9212900260           0     0          4      7  ...            300    98115   \n",
       "\n",
       "                lat     long  sqft_living15  sqft_lot15  Cluster_final  \\\n",
       "id                                                                       \n",
       "7129300520  47.5112 -122.257           1340        5650            0.0   \n",
       "2487200875  47.5208 -122.393           1360        5000            0.0   \n",
       "1321400060  47.3097 -122.327           2238        6819            0.0   \n",
       "3793500160  47.3684 -122.031           2390        7570            0.0   \n",
       "9212900260  47.6900 -122.292           1330        6000            0.0   \n",
       "\n",
       "            renova  anyos  antiguedad  \n",
       "id                                     \n",
       "7129300520       0     60        -226  \n",
       "2487200875       0     50        -169  \n",
       "1321400060       0     20        -334  \n",
       "3793500160       0     12         -76  \n",
       "9212900260       0     73        -365  \n",
       "\n",
       "[5 rows x 21 columns]"
      ]
     },
     "execution_count": 382,
     "metadata": {},
     "output_type": "execute_result"
    }
   ],
   "source": [
    "del multi_des['date']\n",
    "del multi_des['max_year']\n",
    "del multi_des['max']\n",
    "del multi_des['cluster'] # eliminamos los otros análisis clústers\n",
    "del multi_des['hclust']\n",
    "del multi_des['yr_renovated']\n",
    "del multi_des['yr_built']\n",
    "multi_des=multi_des.set_index('id')\n",
    "X=multi_des.iloc[:, 4:30]\n",
    "X.head(5)"
   ]
  },
  {
   "cell_type": "code",
   "execution_count": 383,
   "metadata": {},
   "outputs": [
    {
     "data": {
      "text/plain": [
       "<matplotlib.axes._subplots.AxesSubplot at 0x7f50e4ee7490>"
      ]
     },
     "execution_count": 383,
     "metadata": {},
     "output_type": "execute_result"
    },
    {
     "data": {
      "image/png": "[encoded data removed]",
      "text/plain": [
       "<Figure size 600x400 with 1 Axes>"
      ]
     },
     "metadata": {},
     "output_type": "display_data"
    }
   ],
   "source": [
    "sns.countplot(x = 'Cluster_final', data=X)"
   ]
  },
  {
   "cell_type": "code",
   "execution_count": 384,
   "metadata": {},
   "outputs": [],
   "source": [
    "y=X['Cluster_final']\n",
    "del X['Cluster_final']"
   ]
  },
  {
   "cell_type": "markdown",
   "metadata": {},
   "source": [
    "#### 5.4.- One Hot Encoding"
   ]
  },
  {
   "cell_type": "code",
   "execution_count": 385,
   "metadata": {},
   "outputs": [],
   "source": [
    "def hot_encoder(Y):\n",
    "    values = np.array(Y)\n",
    "    label_encoder = LabelEncoder()\n",
    "    integer_encoded = label_encoder.fit_transform(values)\n",
    "    #codificación binaria\n",
    "    onehot_encoder = OneHotEncoder(sparse=False)\n",
    "    integer_encoded = integer_encoded.reshape(len(integer_encoded), 1)\n",
    "    onehot_encoded = onehot_encoder.fit_transform(integer_encoded)\n",
    "    onehot_encoded_int = onehot_encoded.astype(int)\n",
    "    \n",
    "    return onehot_encoded_int\n",
    "\n",
    "Y_bin = hot_encoder(Y)"
   ]
  },
  {
   "cell_type": "markdown",
   "metadata": {},
   "source": [
    "#### 5.5.- Split Train, Validation, Test."
   ]
  },
  {
   "cell_type": "code",
   "execution_count": 386,
   "metadata": {},
   "outputs": [],
   "source": [
    "# Split into train+val and test\n",
    "X_trainval, X_test, y_trainval, y_test = train_test_split(X, Y_bin, test_size=0.2, stratify=y,random_state=737)\n",
    "\n",
    "# Split train into train-val\n",
    "X_train, X_val, y_train, y_val = train_test_split(X_trainval, y_trainval, test_size=0.1, stratify=y_trainval,random_state=737)"
   ]
  },
  {
   "cell_type": "markdown",
   "metadata": {},
   "source": [
    "#### 5.6.- Transformación de la Escala de los Datos"
   ]
  },
  {
   "cell_type": "code",
   "execution_count": 387,
   "metadata": {},
   "outputs": [],
   "source": [
    "scaler  = StandardScaler()\n",
    "X_train = scaler.fit_transform(X_train)\n",
    "X_val   = scaler.fit_transform(X_val)\n",
    "X_test  = scaler.fit_transform(X_test)"
   ]
  },
  {
   "cell_type": "markdown",
   "metadata": {},
   "source": [
    "#### 5.7.- Parámetros, entrenamiento y validación de la Red"
   ]
  },
  {
   "cell_type": "code",
   "execution_count": 390,
   "metadata": {},
   "outputs": [],
   "source": [
    "#MLP: Keras\n",
    "nattributes   = 20 #Dimension de las muestras\n",
    "neuronas      = 20 #Numero de neuronas en la capa oculta del MLP. Deberia validarse mediante validacion cruzada\n",
    "PerrorMLPdes  = 0  #Por defecto\n",
    "iteraciones   = 1  #Deberian ponerse al menos 10 y promediarlas..."
   ]
  },
  {
   "cell_type": "markdown",
   "metadata": {},
   "source": [
    "Funcion de activacion RELU\n",
    "loss categorical_crossentropy"
   ]
  },
  {
   "cell_type": "code",
   "execution_count": 402,
   "metadata": {},
   "outputs": [
    {
     "name": "stdout",
     "output_type": "stream",
     "text": [
      "Nº de neuronas en la capa oculta:  20\n",
      "Epoch 1/50\n",
      "422/422 [==============================] - 3s 6ms/step - loss: 0.6370 - accuracy: 0.7581\n",
      "Epoch 2/50\n",
      "422/422 [==============================] - 3s 6ms/step - loss: 0.3182 - accuracy: 0.8965\n",
      "Epoch 3/50\n",
      "422/422 [==============================] - 3s 6ms/step - loss: 0.2470 - accuracy: 0.9146\n",
      "Epoch 4/50\n",
      "422/422 [==============================] - 3s 6ms/step - loss: 0.2211 - accuracy: 0.9197\n",
      "Epoch 5/50\n",
      "422/422 [==============================] - 3s 6ms/step - loss: 0.2074 - accuracy: 0.9229\n",
      "Epoch 6/50\n",
      "422/422 [==============================] - 3s 6ms/step - loss: 0.1980 - accuracy: 0.9244\n",
      "Epoch 7/50\n",
      "422/422 [==============================] - 2s 6ms/step - loss: 0.1927 - accuracy: 0.9257\n",
      "Epoch 8/50\n",
      "422/422 [==============================] - 2s 6ms/step - loss: 0.1890 - accuracy: 0.9265\n",
      "Epoch 9/50\n",
      "422/422 [==============================] - 2s 6ms/step - loss: 0.1856 - accuracy: 0.9278\n",
      "Epoch 10/50\n",
      "422/422 [==============================] - 2s 6ms/step - loss: 0.1831 - accuracy: 0.9286\n",
      "Epoch 11/50\n",
      "422/422 [==============================] - 3s 7ms/step - loss: 0.1813 - accuracy: 0.9288\n",
      "Epoch 12/50\n",
      "422/422 [==============================] - 3s 7ms/step - loss: 0.1793 - accuracy: 0.9294\n",
      "Epoch 13/50\n",
      "422/422 [==============================] - 3s 6ms/step - loss: 0.1784 - accuracy: 0.9299\n",
      "Epoch 14/50\n",
      "422/422 [==============================] - 3s 6ms/step - loss: 0.1767 - accuracy: 0.9308\n",
      "Epoch 15/50\n",
      "422/422 [==============================] - 2s 5ms/step - loss: 0.1755 - accuracy: 0.9314\n",
      "Epoch 16/50\n",
      "422/422 [==============================] - 2s 5ms/step - loss: 0.1750 - accuracy: 0.9318\n",
      "Epoch 17/50\n",
      "422/422 [==============================] - 2s 5ms/step - loss: 0.1741 - accuracy: 0.9312\n",
      "Epoch 18/50\n",
      "422/422 [==============================] - 2s 5ms/step - loss: 0.1724 - accuracy: 0.9324\n",
      "Epoch 19/50\n",
      "422/422 [==============================] - 3s 7ms/step - loss: 0.1722 - accuracy: 0.9334\n",
      "Epoch 20/50\n",
      "422/422 [==============================] - 3s 6ms/step - loss: 0.1715 - accuracy: 0.9332\n",
      "Epoch 21/50\n",
      "422/422 [==============================] - 3s 6ms/step - loss: 0.1711 - accuracy: 0.9334\n",
      "Epoch 22/50\n",
      "422/422 [==============================] - 3s 6ms/step - loss: 0.1705 - accuracy: 0.9320\n",
      "Epoch 23/50\n",
      "422/422 [==============================] - 2s 6ms/step - loss: 0.1698 - accuracy: 0.9330\n",
      "Epoch 24/50\n",
      "422/422 [==============================] - 2s 5ms/step - loss: 0.1692 - accuracy: 0.9334\n",
      "Epoch 25/50\n",
      "422/422 [==============================] - 3s 7ms/step - loss: 0.1693 - accuracy: 0.9327\n",
      "Epoch 26/50\n",
      "422/422 [==============================] - 3s 7ms/step - loss: 0.1680 - accuracy: 0.9336\n",
      "Epoch 27/50\n",
      "422/422 [==============================] - 3s 7ms/step - loss: 0.1681 - accuracy: 0.9328\n",
      "Epoch 28/50\n",
      "422/422 [==============================] - 3s 6ms/step - loss: 0.1671 - accuracy: 0.9343\n",
      "Epoch 29/50\n",
      "422/422 [==============================] - 3s 7ms/step - loss: 0.1674 - accuracy: 0.9340\n",
      "Epoch 30/50\n",
      "422/422 [==============================] - 3s 6ms/step - loss: 0.1666 - accuracy: 0.9339\n",
      "Epoch 31/50\n",
      "422/422 [==============================] - 3s 7ms/step - loss: 0.1659 - accuracy: 0.9339\n",
      "Epoch 32/50\n",
      "422/422 [==============================] - 3s 7ms/step - loss: 0.1664 - accuracy: 0.9351\n",
      "Epoch 33/50\n",
      "422/422 [==============================] - 3s 6ms/step - loss: 0.1660 - accuracy: 0.9354\n",
      "Epoch 34/50\n",
      "422/422 [==============================] - 3s 7ms/step - loss: 0.1651 - accuracy: 0.9346\n",
      "Epoch 35/50\n",
      "422/422 [==============================] - 3s 7ms/step - loss: 0.1653 - accuracy: 0.9360\n",
      "Epoch 36/50\n",
      "422/422 [==============================] - 3s 7ms/step - loss: 0.1648 - accuracy: 0.9348\n",
      "Epoch 37/50\n",
      "422/422 [==============================] - 3s 7ms/step - loss: 0.1643 - accuracy: 0.9358\n",
      "Epoch 38/50\n",
      "422/422 [==============================] - 3s 7ms/step - loss: 0.1641 - accuracy: 0.9354\n",
      "Epoch 39/50\n",
      "422/422 [==============================] - 3s 7ms/step - loss: 0.1640 - accuracy: 0.9347\n",
      "Epoch 40/50\n",
      "422/422 [==============================] - 3s 6ms/step - loss: 0.1633 - accuracy: 0.9363\n",
      "Epoch 41/50\n",
      "422/422 [==============================] - 3s 7ms/step - loss: 0.1629 - accuracy: 0.9355\n",
      "Epoch 42/50\n",
      "422/422 [==============================] - 3s 7ms/step - loss: 0.1627 - accuracy: 0.9361\n",
      "Epoch 43/50\n",
      "422/422 [==============================] - 3s 7ms/step - loss: 0.1627 - accuracy: 0.9369\n",
      "Epoch 44/50\n",
      "422/422 [==============================] - 3s 6ms/step - loss: 0.1624 - accuracy: 0.9370\n",
      "Epoch 45/50\n",
      "422/422 [==============================] - 3s 6ms/step - loss: 0.1619 - accuracy: 0.9360\n",
      "Epoch 46/50\n",
      "422/422 [==============================] - 2s 6ms/step - loss: 0.1622 - accuracy: 0.9357\n",
      "Epoch 47/50\n",
      "422/422 [==============================] - 3s 6ms/step - loss: 0.1623 - accuracy: 0.9363\n",
      "Epoch 48/50\n",
      "422/422 [==============================] - 3s 7ms/step - loss: 0.1614 - accuracy: 0.9368\n",
      "Epoch 49/50\n",
      "422/422 [==============================] - 3s 7ms/step - loss: 0.1614 - accuracy: 0.9363\n",
      "Epoch 50/50\n",
      "422/422 [==============================] - 2s 6ms/step - loss: 0.1609 - accuracy: 0.9375\n",
      "Tasa de error con MLP  0.06748466257668712\n",
      "Matriz de confusion con MLP  [[1916   79    0]\n",
      " [ 102 1530   13]\n",
      " [   4   55   50]]\n"
     ]
    }
   ],
   "source": [
    "print(\"Nº de neuronas en la capa oculta: \",neuronas)\n",
    "#Definimos el modelo\n",
    "model = Sequential()\n",
    "model.add(Dense(neuronas, input_dim=nattributes, activation='relu')) #Podemos probar distintas funciones de activacion: tanh, sig...\n",
    "model.add(Dense(n_clases, activation='softmax'))#sigmoide si no son exluyentes\n",
    "  \n",
    "#Compilamos el modelo\n",
    "model.compile(loss='categorical_crossentropy', optimizer='adam', metrics=['accuracy']) #Tambien podemos probar otros costes. Por defecto usa el error cuadratico medio\n",
    "\n",
    "#Entrenamos el modelo\n",
    "model.fit(X_train, y_train, epochs=50,batch_size=32) #32 es el valor por defecto\n",
    "\n",
    "#Obtenemos las etiquetas..\n",
    "y_pred_proba = model.predict_proba(X_test) #salidas blandas-> Probabilidad de cada muestra de pertenecer a una clase\n",
    "y_pred = np.argmax(y_pred_proba,axis=1) #Cogemos la clase a la que pertenece esa muestra con mayor probabilidad\n",
    "y_test_bin = np.argmax(y_test,axis=1) #Para poder comparar las etiquetas\n",
    "                                \n",
    "#Calculamos probabilidad de fallo...\n",
    "PerrorMLPdes = ((y_pred!=y_test_bin).sum())/len(y_test_bin) #OJO: aqui comparamos las etiquetas originales (no las de OHE)\n",
    "mat_confdes = confusion_matrix(y_test_bin,y_pred)\n",
    "\n",
    "print(\"Tasa de error con MLP \",PerrorMLPdes)\n",
    "print(\"Matriz de confusion con MLP \", mat_confdes)\n"
   ]
  },
  {
   "cell_type": "code",
   "execution_count": 403,
   "metadata": {},
   "outputs": [
    {
     "data": {
      "text/plain": [
       "array([[1916,   79,    0],\n",
       "       [ 102, 1530,   13],\n",
       "       [   4,   55,   50]])"
      ]
     },
     "execution_count": 403,
     "metadata": {},
     "output_type": "execute_result"
    }
   ],
   "source": [
    " confusion_matrix(y_test_bin,y_pred)"
   ]
  },
  {
   "cell_type": "code",
   "execution_count": 404,
   "metadata": {},
   "outputs": [
    {
     "name": "stdout",
     "output_type": "stream",
     "text": [
      "              precision    recall  f1-score   support\n",
      "\n",
      "           0       0.95      0.96      0.95      1995\n",
      "           1       0.92      0.93      0.92      1645\n",
      "           2       0.79      0.46      0.58       109\n",
      "\n",
      "    accuracy                           0.93      3749\n",
      "   macro avg       0.89      0.78      0.82      3749\n",
      "weighted avg       0.93      0.93      0.93      3749\n",
      "\n"
     ]
    }
   ],
   "source": [
    "print(classification_report(y_test_bin, y_pred))"
   ]
  },
  {
   "cell_type": "markdown",
   "metadata": {},
   "source": [
    "Vemos que aunque el Accuracy es bastante bueno la capacidad predictiva del modelo en la categoría 2 es mejorable con un 0.46 de Recall por lo que nos plantearemos alternativas."
   ]
  },
  {
   "cell_type": "markdown",
   "metadata": {},
   "source": [
    "#### 5.8.- Técnica de reequilibrado fundamentada: ponderación en entrenamiento"
   ]
  },
  {
   "cell_type": "code",
   "execution_count": 405,
   "metadata": {},
   "outputs": [],
   "source": [
    "#Creamos el vector de pesos para la ponderación en entrenamiento\n",
    "weight = np.zeros((y_train.shape[0])) \n",
    "for i in range(0,y_train.shape[0]):\n",
    "    if(y_train[i,0]==1):\n",
    "        weight[i] = Pr_H3/Pr_H1\n",
    "    if(y_train[i,1]==1):\n",
    "        weight[i] = Pr_H3/Pr_H2\n",
    "    if(y_train[i,2]==1):\n",
    "        weight[i] = 1"
   ]
  },
  {
   "cell_type": "code",
   "execution_count": 294,
   "metadata": {},
   "outputs": [],
   "source": [
    "nattributes   = 20 #Dimension de las muestras\n",
    "neuronas      = 20 #Numero de neuronas en la capa oculta del MLP. Deberia validarse mediante validacion cruzada\n",
    "PerrorMLPreeq = 0 #Por defecto\n",
    "iteraciones   = 1 #Deberian ponerse al menos 10 y promediarlas..."
   ]
  },
  {
   "cell_type": "code",
   "execution_count": 406,
   "metadata": {},
   "outputs": [
    {
     "name": "stdout",
     "output_type": "stream",
     "text": [
      "Tasa de error con ponderación en entrenamiento  0.10589490530808215\n",
      "Matriz de confusion con ponderación en entrenamiento  [[1909   75   11]\n",
      " [ 108 1344  193]\n",
      " [   4    6   99]]\n"
     ]
    }
   ],
   "source": [
    "#Definimos el modelo\n",
    "model = Sequential()\n",
    "model.add(Dense(neuronas, input_dim=nattributes, activation='relu')) #Podemos probar distintas funciones de activacion: tanh, sig...\n",
    "model.add(Dense(n_clases, activation='softmax'))\n",
    "\n",
    "#Compilamos el modelo\n",
    "model.compile(loss='categorical_crossentropy', optimizer='adam', metrics=['accuracy']) \n",
    "\n",
    "# Fit the model\n",
    "model.fit(X_train, y_train, epochs=50,sample_weight = weight,verbose=0)\n",
    "    \n",
    "#Obtenemos las salidas de las muestras de test\n",
    "y_pred_proba = model.predict_proba(X_test)\n",
    "y_pred = np.argmax(y_pred_proba,axis=1) #Cogemos la clase a la que pertenece esa muestra con mayor probabilidad\n",
    "y_test_bin = np.argmax(y_test,axis=1) #Para poder comparar las etiqueta\n",
    "\n",
    "#Calculamos probabilidad de fallo...\n",
    "PerrorMLPreeq = ((y_pred!=y_test_bin).sum())/len(y_test_bin) #OJO: aqui comparamos las etiquetas originales (no las de OHE)\n",
    "mat_confreeq = confusion_matrix(y_test_bin,y_pred)\n",
    "\n",
    "print(\"Tasa de error con ponderación en entrenamiento \",PerrorMLPreeq)\n",
    "print(\"Matriz de confusion con ponderación en entrenamiento \", mat_confreeq)"
   ]
  },
  {
   "cell_type": "code",
   "execution_count": 407,
   "metadata": {},
   "outputs": [
    {
     "data": {
      "text/plain": [
       "array([[1909,   75,   11],\n",
       "       [ 108, 1344,  193],\n",
       "       [   4,    6,   99]])"
      ]
     },
     "execution_count": 407,
     "metadata": {},
     "output_type": "execute_result"
    }
   ],
   "source": [
    " confusion_matrix(y_test_bin,y_pred)"
   ]
  },
  {
   "cell_type": "markdown",
   "metadata": {},
   "source": [
    "#### 5.9.- Validación y Conclusiones"
   ]
  },
  {
   "cell_type": "markdown",
   "metadata": {},
   "source": [
    "Vemos en los resultados que aunque el Accuracy el menor la capacidad de aprendizaje del modelo para la categoría 2 e mucho mejor que en el anterior caso."
   ]
  },
  {
   "cell_type": "code",
   "execution_count": 408,
   "metadata": {},
   "outputs": [
    {
     "name": "stdout",
     "output_type": "stream",
     "text": [
      "              precision    recall  f1-score   support\n",
      "\n",
      "           0       0.94      0.96      0.95      1995\n",
      "           1       0.94      0.82      0.88      1645\n",
      "           2       0.33      0.91      0.48       109\n",
      "\n",
      "    accuracy                           0.89      3749\n",
      "   macro avg       0.74      0.89      0.77      3749\n",
      "weighted avg       0.93      0.89      0.90      3749\n",
      "\n"
     ]
    }
   ],
   "source": [
    "print(classification_report(y_test_bin, y_pred))"
   ]
  },
  {
   "cell_type": "markdown",
   "metadata": {},
   "source": [
    "Aunque emperemos el Acc a 089 vemos que el Recall para la categoría 2 ha mejorado mucho con 0.91 cuando anteriormente teníamos 0.46."
   ]
  }
 ],
 "metadata": {
  "kernelspec": {
   "display_name": "Python 3",
   "language": "python",
   "name": "python3"
  },
  "language_info": {
   "codemirror_mode": {
    "name": "ipython",
    "version": 3
   },
   "file_extension": ".py",
   "mimetype": "text/x-python",
   "name": "python",
   "nbconvert_exporter": "python",
   "pygments_lexer": "ipython3",
   "version": "3.7.6"
  }
 },
 "nbformat": 4,
 "nbformat_minor": 4
}
